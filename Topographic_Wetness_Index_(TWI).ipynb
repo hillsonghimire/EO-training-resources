{
  "nbformat": 4,
  "nbformat_minor": 0,
  "metadata": {
    "colab": {
      "provenance": [],
      "authorship_tag": "ABX9TyNUyw5xR7H7TffdFHHX0wmf",
      "include_colab_link": true
    },
    "kernelspec": {
      "name": "python3",
      "display_name": "Python 3"
    },
    "language_info": {
      "name": "python"
    },
    "widgets": {
      "application/vnd.jupyter.widget-state+json": {
        "f656307a496c45a7bfe30eae4d45656d": {
          "model_module": "jupyter-leaflet",
          "model_name": "LeafletMapModel",
          "model_module_version": "^0.18",
          "state": {
            "_dom_classes": [],
            "_model_module": "jupyter-leaflet",
            "_model_module_version": "^0.18",
            "_model_name": "LeafletMapModel",
            "_view_count": null,
            "_view_module": "jupyter-leaflet",
            "_view_module_version": "^0.18",
            "_view_name": "LeafletMapView",
            "bottom": 3705,
            "bounce_at_zoom_limits": true,
            "box_zoom": true,
            "center": [
              29.036960648558267,
              116.54306896098625
            ],
            "close_popup_on_click": true,
            "controls": [
              "IPY_MODEL_3f7fb3dd900d47a7b4f8622660ce0b2e",
              "IPY_MODEL_127299c93946400ca3a5fd0375e7e55e",
              "IPY_MODEL_6eb4f0775151438c9fcf74eddcb2faab",
              "IPY_MODEL_4dc33bb33f974899af6cfde1c9a02be6",
              "IPY_MODEL_4b09dd9cb265418d948555186a35bd90",
              "IPY_MODEL_0fbdb691fb59466aa442ad8cfc540ca4",
              "IPY_MODEL_8bbbf39e8dcb47d8b40d8c2815d5508b",
              "IPY_MODEL_1e92338c4d4f4079ad9be580ea686b10"
            ],
            "crs": {
              "name": "EPSG3857",
              "custom": false
            },
            "default_style": "IPY_MODEL_e9a6f282b5134a40ab2059189b77747d",
            "double_click_zoom": true,
            "dragging": true,
            "dragging_style": "IPY_MODEL_da208cbad0d1437cb3b943ba315c1434",
            "east": 176.26474864848626,
            "fullscreen": false,
            "inertia": true,
            "inertia_deceleration": 3000,
            "inertia_max_speed": 1500,
            "interpolation": "bilinear",
            "keyboard": true,
            "keyboard_pan_offset": 80,
            "keyboard_zoom_offset": 1,
            "layers": [
              "IPY_MODEL_efd92e3c5be34353a31e3f2b54f69a17",
              "IPY_MODEL_5e007343fa0f449ea608aa3ad6425d92"
            ],
            "layout": "IPY_MODEL_f1be83df80e84a94b7f193ef96162dfd",
            "left": 5389.002280356664,
            "max_zoom": 24,
            "min_zoom": null,
            "modisdate": "2024-02-12",
            "north": 39.87601941962116,
            "options": [
              "bounce_at_zoom_limits",
              "box_zoom",
              "center",
              "close_popup_on_click",
              "double_click_zoom",
              "dragging",
              "fullscreen",
              "inertia",
              "inertia_deceleration",
              "inertia_max_speed",
              "interpolation",
              "keyboard",
              "keyboard_pan_offset",
              "keyboard_zoom_offset",
              "max_zoom",
              "min_zoom",
              "prefer_canvas",
              "scroll_wheel_zoom",
              "tap",
              "tap_tolerance",
              "touch_zoom",
              "world_copy_jump",
              "zoom",
              "zoom_animation_threshold",
              "zoom_delta",
              "zoom_snap"
            ],
            "panes": {},
            "prefer_canvas": false,
            "right": 8107.002280356664,
            "scroll_wheel_zoom": true,
            "south": 16.93070509876554,
            "style": "IPY_MODEL_e9a6f282b5134a40ab2059189b77747d",
            "tap": true,
            "tap_tolerance": 15,
            "top": 3105,
            "touch_zoom": true,
            "west": 56.82138927348623,
            "window_url": "https://pou5e872zqc-496ff2e9c6d22116-0-colab.googleusercontent.com/outputframe.html?vrz=colab_20240209-060145_RC00_605555568",
            "world_copy_jump": false,
            "zoom": 5,
            "zoom_animation_threshold": 4,
            "zoom_delta": 1,
            "zoom_snap": 1
          }
        },
        "3f7fb3dd900d47a7b4f8622660ce0b2e": {
          "model_module": "jupyter-leaflet",
          "model_name": "LeafletWidgetControlModel",
          "model_module_version": "^0.18",
          "state": {
            "_model_module": "jupyter-leaflet",
            "_model_module_version": "^0.18",
            "_model_name": "LeafletWidgetControlModel",
            "_view_count": null,
            "_view_module": "jupyter-leaflet",
            "_view_module_version": "^0.18",
            "_view_name": "LeafletWidgetControlView",
            "max_height": null,
            "max_width": null,
            "min_height": null,
            "min_width": null,
            "options": [
              "position",
              "transparent_bg"
            ],
            "position": "topleft",
            "transparent_bg": false,
            "widget": "IPY_MODEL_45b08cf9bd5f43adb55eb4980ecee4a1"
          }
        },
        "127299c93946400ca3a5fd0375e7e55e": {
          "model_module": "jupyter-leaflet",
          "model_name": "LeafletZoomControlModel",
          "model_module_version": "^0.18",
          "state": {
            "_model_module": "jupyter-leaflet",
            "_model_module_version": "^0.18",
            "_model_name": "LeafletZoomControlModel",
            "_view_count": null,
            "_view_module": "jupyter-leaflet",
            "_view_module_version": "^0.18",
            "_view_name": "LeafletZoomControlView",
            "options": [
              "position",
              "zoom_in_text",
              "zoom_in_title",
              "zoom_out_text",
              "zoom_out_title"
            ],
            "position": "topleft",
            "zoom_in_text": "+",
            "zoom_in_title": "Zoom in",
            "zoom_out_text": "-",
            "zoom_out_title": "Zoom out"
          }
        },
        "6eb4f0775151438c9fcf74eddcb2faab": {
          "model_module": "jupyter-leaflet",
          "model_name": "LeafletFullScreenControlModel",
          "model_module_version": "^0.18",
          "state": {
            "_model_module": "jupyter-leaflet",
            "_model_module_version": "^0.18",
            "_model_name": "LeafletFullScreenControlModel",
            "_view_count": null,
            "_view_module": "jupyter-leaflet",
            "_view_module_version": "^0.18",
            "_view_name": "LeafletFullScreenControlView",
            "options": [
              "position"
            ],
            "position": "topleft"
          }
        },
        "4dc33bb33f974899af6cfde1c9a02be6": {
          "model_module": "jupyter-leaflet",
          "model_name": "LeafletDrawControlModel",
          "model_module_version": "^0.18",
          "state": {
            "_model_module": "jupyter-leaflet",
            "_model_module_version": "^0.18",
            "_model_name": "LeafletDrawControlModel",
            "_view_count": null,
            "_view_module": "jupyter-leaflet",
            "_view_module_version": "^0.18",
            "_view_name": "LeafletDrawControlView",
            "circle": {},
            "circlemarker": {},
            "data": [],
            "edit": true,
            "marker": {
              "shapeOptions": {
                "color": "#3388ff"
              }
            },
            "options": [
              "position"
            ],
            "polygon": {
              "shapeOptions": {}
            },
            "polyline": {
              "shapeOptions": {}
            },
            "position": "topleft",
            "rectangle": {
              "shapeOptions": {
                "color": "#3388ff"
              }
            },
            "remove": true
          }
        },
        "4b09dd9cb265418d948555186a35bd90": {
          "model_module": "jupyter-leaflet",
          "model_name": "LeafletScaleControlModel",
          "model_module_version": "^0.18",
          "state": {
            "_model_module": "jupyter-leaflet",
            "_model_module_version": "^0.18",
            "_model_name": "LeafletScaleControlModel",
            "_view_count": null,
            "_view_module": "jupyter-leaflet",
            "_view_module_version": "^0.18",
            "_view_name": "LeafletScaleControlView",
            "imperial": true,
            "max_width": 100,
            "metric": true,
            "options": [
              "imperial",
              "max_width",
              "metric",
              "position",
              "update_when_idle"
            ],
            "position": "bottomleft",
            "update_when_idle": false
          }
        },
        "0fbdb691fb59466aa442ad8cfc540ca4": {
          "model_module": "jupyter-leaflet",
          "model_name": "LeafletMeasureControlModel",
          "model_module_version": "^0.18",
          "state": {
            "_custom_units": {},
            "_model_module": "jupyter-leaflet",
            "_model_module_version": "^0.18",
            "_model_name": "LeafletMeasureControlModel",
            "_view_count": null,
            "_view_module": "jupyter-leaflet",
            "_view_module_version": "^0.18",
            "_view_name": "LeafletMeasureControlView",
            "active_color": "orange",
            "capture_z_index": 10000,
            "completed_color": "#C8F2BE",
            "options": [
              "active_color",
              "capture_z_index",
              "completed_color",
              "popup_options",
              "position",
              "primary_area_unit",
              "primary_length_unit",
              "secondary_area_unit",
              "secondary_length_unit"
            ],
            "popup_options": {
              "className": "leaflet-measure-resultpopup",
              "autoPanPadding": [
                10,
                10
              ]
            },
            "position": "bottomleft",
            "primary_area_unit": "acres",
            "primary_length_unit": "kilometers",
            "secondary_area_unit": null,
            "secondary_length_unit": null
          }
        },
        "8bbbf39e8dcb47d8b40d8c2815d5508b": {
          "model_module": "jupyter-leaflet",
          "model_name": "LeafletWidgetControlModel",
          "model_module_version": "^0.18",
          "state": {
            "_model_module": "jupyter-leaflet",
            "_model_module_version": "^0.18",
            "_model_name": "LeafletWidgetControlModel",
            "_view_count": null,
            "_view_module": "jupyter-leaflet",
            "_view_module_version": "^0.18",
            "_view_name": "LeafletWidgetControlView",
            "max_height": null,
            "max_width": null,
            "min_height": null,
            "min_width": null,
            "options": [
              "position",
              "transparent_bg"
            ],
            "position": "topright",
            "transparent_bg": false,
            "widget": "IPY_MODEL_26ab8c65fbe54169afc795d529925406"
          }
        },
        "1e92338c4d4f4079ad9be580ea686b10": {
          "model_module": "jupyter-leaflet",
          "model_name": "LeafletAttributionControlModel",
          "model_module_version": "^0.18",
          "state": {
            "_model_module": "jupyter-leaflet",
            "_model_module_version": "^0.18",
            "_model_name": "LeafletAttributionControlModel",
            "_view_count": null,
            "_view_module": "jupyter-leaflet",
            "_view_module_version": "^0.18",
            "_view_name": "LeafletAttributionControlView",
            "options": [
              "position",
              "prefix"
            ],
            "position": "bottomright",
            "prefix": "ipyleaflet"
          }
        },
        "e9a6f282b5134a40ab2059189b77747d": {
          "model_module": "jupyter-leaflet",
          "model_name": "LeafletMapStyleModel",
          "model_module_version": "^0.18",
          "state": {
            "_model_module": "jupyter-leaflet",
            "_model_module_version": "^0.18",
            "_model_name": "LeafletMapStyleModel",
            "_view_count": null,
            "_view_module": "@jupyter-widgets/base",
            "_view_module_version": "1.2.0",
            "_view_name": "StyleView",
            "cursor": "grab"
          }
        },
        "da208cbad0d1437cb3b943ba315c1434": {
          "model_module": "jupyter-leaflet",
          "model_name": "LeafletMapStyleModel",
          "model_module_version": "^0.18",
          "state": {
            "_model_module": "jupyter-leaflet",
            "_model_module_version": "^0.18",
            "_model_name": "LeafletMapStyleModel",
            "_view_count": null,
            "_view_module": "@jupyter-widgets/base",
            "_view_module_version": "1.2.0",
            "_view_name": "StyleView",
            "cursor": "move"
          }
        },
        "efd92e3c5be34353a31e3f2b54f69a17": {
          "model_module": "jupyter-leaflet",
          "model_name": "LeafletTileLayerModel",
          "model_module_version": "^0.18",
          "state": {
            "_model_module": "jupyter-leaflet",
            "_model_module_version": "^0.18",
            "_model_name": "LeafletTileLayerModel",
            "_view_count": null,
            "_view_module": "jupyter-leaflet",
            "_view_module_version": "^0.18",
            "_view_name": "LeafletTileLayerView",
            "attribution": "&copy; <a href=\"https://www.openstreetmap.org/copyright\">OpenStreetMap</a> contributors",
            "base": true,
            "bottom": true,
            "bounds": null,
            "detect_retina": false,
            "loading": true,
            "max_native_zoom": null,
            "max_zoom": 19,
            "min_native_zoom": null,
            "min_zoom": 1,
            "name": "OpenStreetMap.Mapnik",
            "no_wrap": false,
            "opacity": 1,
            "options": [
              "attribution",
              "bounds",
              "detect_retina",
              "max_native_zoom",
              "max_zoom",
              "min_native_zoom",
              "min_zoom",
              "no_wrap",
              "tile_size",
              "tms",
              "zoom_offset"
            ],
            "pane": "",
            "popup": null,
            "popup_max_height": null,
            "popup_max_width": 300,
            "popup_min_width": 50,
            "show_loading": false,
            "subitems": [],
            "tile_size": 256,
            "tms": false,
            "url": "https://tile.openstreetmap.org/{z}/{x}/{y}.png",
            "visible": true,
            "zoom_offset": 0
          }
        },
        "5e007343fa0f449ea608aa3ad6425d92": {
          "model_module": "jupyter-leaflet",
          "model_name": "LeafletTileLayerModel",
          "model_module_version": "^0.18",
          "state": {
            "_model_module": "jupyter-leaflet",
            "_model_module_version": "^0.18",
            "_model_name": "LeafletTileLayerModel",
            "_view_count": null,
            "_view_module": "jupyter-leaflet",
            "_view_module_version": "^0.18",
            "_view_name": "LeafletTileLayerView",
            "attribution": "Google Earth Engine",
            "base": false,
            "bottom": true,
            "bounds": null,
            "detect_retina": false,
            "loading": true,
            "max_native_zoom": null,
            "max_zoom": 24,
            "min_native_zoom": null,
            "min_zoom": 0,
            "name": "Rate of Change",
            "no_wrap": false,
            "opacity": 1,
            "options": [
              "attribution",
              "bounds",
              "detect_retina",
              "max_native_zoom",
              "max_zoom",
              "min_native_zoom",
              "min_zoom",
              "no_wrap",
              "tile_size",
              "tms",
              "zoom_offset"
            ],
            "pane": "",
            "popup": null,
            "popup_max_height": null,
            "popup_max_width": 300,
            "popup_min_width": 50,
            "show_loading": false,
            "subitems": [],
            "tile_size": 256,
            "tms": false,
            "url": "https://earthengine.googleapis.com/v1/projects/gee-ait/maps/919eaaff5f5ac90db69104da79433a48-d0e661c972132716bbfc5d423452f072/tiles/{z}/{x}/{y}",
            "visible": true,
            "zoom_offset": 0
          }
        },
        "f1be83df80e84a94b7f193ef96162dfd": {
          "model_module": "@jupyter-widgets/base",
          "model_name": "LayoutModel",
          "model_module_version": "1.2.0",
          "state": {
            "_model_module": "@jupyter-widgets/base",
            "_model_module_version": "1.2.0",
            "_model_name": "LayoutModel",
            "_view_count": null,
            "_view_module": "@jupyter-widgets/base",
            "_view_module_version": "1.2.0",
            "_view_name": "LayoutView",
            "align_content": null,
            "align_items": null,
            "align_self": null,
            "border": null,
            "bottom": null,
            "display": null,
            "flex": null,
            "flex_flow": null,
            "grid_area": null,
            "grid_auto_columns": null,
            "grid_auto_flow": null,
            "grid_auto_rows": null,
            "grid_column": null,
            "grid_gap": null,
            "grid_row": null,
            "grid_template_areas": null,
            "grid_template_columns": null,
            "grid_template_rows": null,
            "height": "600px",
            "justify_content": null,
            "justify_items": null,
            "left": null,
            "margin": null,
            "max_height": null,
            "max_width": null,
            "min_height": null,
            "min_width": null,
            "object_fit": null,
            "object_position": null,
            "order": null,
            "overflow": null,
            "overflow_x": null,
            "overflow_y": null,
            "padding": null,
            "right": null,
            "top": null,
            "visibility": null,
            "width": null
          }
        },
        "ddfdc76668b34e50bb8434e93c631d42": {
          "model_module": "jupyter-leaflet",
          "model_name": "LeafletMapStyleModel",
          "model_module_version": "^0.18",
          "state": {
            "_model_module": "jupyter-leaflet",
            "_model_module_version": "^0.18",
            "_model_name": "LeafletMapStyleModel",
            "_view_count": null,
            "_view_module": "@jupyter-widgets/base",
            "_view_module_version": "1.2.0",
            "_view_name": "StyleView",
            "cursor": "grab"
          }
        },
        "45b08cf9bd5f43adb55eb4980ecee4a1": {
          "model_module": "@jupyter-widgets/controls",
          "model_name": "HBoxModel",
          "model_module_version": "1.5.0",
          "state": {
            "_dom_classes": [
              "geemap-colab"
            ],
            "_model_module": "@jupyter-widgets/controls",
            "_model_module_version": "1.5.0",
            "_model_name": "HBoxModel",
            "_view_count": null,
            "_view_module": "@jupyter-widgets/controls",
            "_view_module_version": "1.5.0",
            "_view_name": "HBoxView",
            "box_style": "",
            "children": [
              "IPY_MODEL_da451eeb18b44aa3a54f07f876721323"
            ],
            "layout": "IPY_MODEL_499c3a99f3724e6ea52ce71d60a0a9ea"
          }
        },
        "26ab8c65fbe54169afc795d529925406": {
          "model_module": "@jupyter-widgets/controls",
          "model_name": "VBoxModel",
          "model_module_version": "1.5.0",
          "state": {
            "_dom_classes": [
              "geemap-colab"
            ],
            "_model_module": "@jupyter-widgets/controls",
            "_model_module_version": "1.5.0",
            "_model_name": "VBoxModel",
            "_view_count": null,
            "_view_module": "@jupyter-widgets/controls",
            "_view_module_version": "1.5.0",
            "_view_name": "VBoxView",
            "box_style": "",
            "children": [
              "IPY_MODEL_2ff09a5aa4fb456f8b1a8664e7232d69"
            ],
            "layout": "IPY_MODEL_413a82c6c99d4a5ca6e58031657d7b79"
          }
        },
        "da451eeb18b44aa3a54f07f876721323": {
          "model_module": "@jupyter-widgets/controls",
          "model_name": "ToggleButtonModel",
          "model_module_version": "1.5.0",
          "state": {
            "_dom_classes": [],
            "_model_module": "@jupyter-widgets/controls",
            "_model_module_version": "1.5.0",
            "_model_name": "ToggleButtonModel",
            "_view_count": null,
            "_view_module": "@jupyter-widgets/controls",
            "_view_module_version": "1.5.0",
            "_view_name": "ToggleButtonView",
            "button_style": "",
            "description": "",
            "description_tooltip": null,
            "disabled": false,
            "icon": "globe",
            "layout": "IPY_MODEL_b6e0180b745f48eeb0823f470f81d5ba",
            "style": "IPY_MODEL_72d91d17a0fa4c6e934f8d60c02461f1",
            "tooltip": "Search location/data",
            "value": false
          }
        },
        "499c3a99f3724e6ea52ce71d60a0a9ea": {
          "model_module": "@jupyter-widgets/base",
          "model_name": "LayoutModel",
          "model_module_version": "1.2.0",
          "state": {
            "_model_module": "@jupyter-widgets/base",
            "_model_module_version": "1.2.0",
            "_model_name": "LayoutModel",
            "_view_count": null,
            "_view_module": "@jupyter-widgets/base",
            "_view_module_version": "1.2.0",
            "_view_name": "LayoutView",
            "align_content": null,
            "align_items": null,
            "align_self": null,
            "border": null,
            "bottom": null,
            "display": null,
            "flex": null,
            "flex_flow": null,
            "grid_area": null,
            "grid_auto_columns": null,
            "grid_auto_flow": null,
            "grid_auto_rows": null,
            "grid_column": null,
            "grid_gap": null,
            "grid_row": null,
            "grid_template_areas": null,
            "grid_template_columns": null,
            "grid_template_rows": null,
            "height": null,
            "justify_content": null,
            "justify_items": null,
            "left": null,
            "margin": null,
            "max_height": null,
            "max_width": null,
            "min_height": null,
            "min_width": null,
            "object_fit": null,
            "object_position": null,
            "order": null,
            "overflow": null,
            "overflow_x": null,
            "overflow_y": null,
            "padding": null,
            "right": null,
            "top": null,
            "visibility": null,
            "width": null
          }
        },
        "2ff09a5aa4fb456f8b1a8664e7232d69": {
          "model_module": "@jupyter-widgets/controls",
          "model_name": "ToggleButtonModel",
          "model_module_version": "1.5.0",
          "state": {
            "_dom_classes": [],
            "_model_module": "@jupyter-widgets/controls",
            "_model_module_version": "1.5.0",
            "_model_name": "ToggleButtonModel",
            "_view_count": null,
            "_view_module": "@jupyter-widgets/controls",
            "_view_module_version": "1.5.0",
            "_view_name": "ToggleButtonView",
            "button_style": "",
            "description": "",
            "description_tooltip": null,
            "disabled": false,
            "icon": "wrench",
            "layout": "IPY_MODEL_3ba452a0c48843ccaaadf80509f1f164",
            "style": "IPY_MODEL_9f3fe29ee41644d3a422ce053dbffcec",
            "tooltip": "Toolbar",
            "value": false
          }
        },
        "413a82c6c99d4a5ca6e58031657d7b79": {
          "model_module": "@jupyter-widgets/base",
          "model_name": "LayoutModel",
          "model_module_version": "1.2.0",
          "state": {
            "_model_module": "@jupyter-widgets/base",
            "_model_module_version": "1.2.0",
            "_model_name": "LayoutModel",
            "_view_count": null,
            "_view_module": "@jupyter-widgets/base",
            "_view_module_version": "1.2.0",
            "_view_name": "LayoutView",
            "align_content": null,
            "align_items": null,
            "align_self": null,
            "border": null,
            "bottom": null,
            "display": null,
            "flex": null,
            "flex_flow": null,
            "grid_area": null,
            "grid_auto_columns": null,
            "grid_auto_flow": null,
            "grid_auto_rows": null,
            "grid_column": null,
            "grid_gap": null,
            "grid_row": null,
            "grid_template_areas": null,
            "grid_template_columns": null,
            "grid_template_rows": null,
            "height": null,
            "justify_content": null,
            "justify_items": null,
            "left": null,
            "margin": null,
            "max_height": null,
            "max_width": null,
            "min_height": null,
            "min_width": null,
            "object_fit": null,
            "object_position": null,
            "order": null,
            "overflow": null,
            "overflow_x": null,
            "overflow_y": null,
            "padding": null,
            "right": null,
            "top": null,
            "visibility": null,
            "width": null
          }
        },
        "b6e0180b745f48eeb0823f470f81d5ba": {
          "model_module": "@jupyter-widgets/base",
          "model_name": "LayoutModel",
          "model_module_version": "1.2.0",
          "state": {
            "_model_module": "@jupyter-widgets/base",
            "_model_module_version": "1.2.0",
            "_model_name": "LayoutModel",
            "_view_count": null,
            "_view_module": "@jupyter-widgets/base",
            "_view_module_version": "1.2.0",
            "_view_name": "LayoutView",
            "align_content": null,
            "align_items": null,
            "align_self": null,
            "border": null,
            "bottom": null,
            "display": null,
            "flex": null,
            "flex_flow": null,
            "grid_area": null,
            "grid_auto_columns": null,
            "grid_auto_flow": null,
            "grid_auto_rows": null,
            "grid_column": null,
            "grid_gap": null,
            "grid_row": null,
            "grid_template_areas": null,
            "grid_template_columns": null,
            "grid_template_rows": null,
            "height": "28px",
            "justify_content": null,
            "justify_items": null,
            "left": null,
            "margin": null,
            "max_height": null,
            "max_width": null,
            "min_height": null,
            "min_width": null,
            "object_fit": null,
            "object_position": null,
            "order": null,
            "overflow": null,
            "overflow_x": null,
            "overflow_y": null,
            "padding": "0px 0px 0px 4px",
            "right": null,
            "top": null,
            "visibility": null,
            "width": "28px"
          }
        },
        "72d91d17a0fa4c6e934f8d60c02461f1": {
          "model_module": "@jupyter-widgets/controls",
          "model_name": "DescriptionStyleModel",
          "model_module_version": "1.5.0",
          "state": {
            "_model_module": "@jupyter-widgets/controls",
            "_model_module_version": "1.5.0",
            "_model_name": "DescriptionStyleModel",
            "_view_count": null,
            "_view_module": "@jupyter-widgets/base",
            "_view_module_version": "1.2.0",
            "_view_name": "StyleView",
            "description_width": ""
          }
        },
        "3ba452a0c48843ccaaadf80509f1f164": {
          "model_module": "@jupyter-widgets/base",
          "model_name": "LayoutModel",
          "model_module_version": "1.2.0",
          "state": {
            "_model_module": "@jupyter-widgets/base",
            "_model_module_version": "1.2.0",
            "_model_name": "LayoutModel",
            "_view_count": null,
            "_view_module": "@jupyter-widgets/base",
            "_view_module_version": "1.2.0",
            "_view_name": "LayoutView",
            "align_content": null,
            "align_items": null,
            "align_self": null,
            "border": null,
            "bottom": null,
            "display": null,
            "flex": null,
            "flex_flow": null,
            "grid_area": null,
            "grid_auto_columns": null,
            "grid_auto_flow": null,
            "grid_auto_rows": null,
            "grid_column": null,
            "grid_gap": null,
            "grid_row": null,
            "grid_template_areas": null,
            "grid_template_columns": null,
            "grid_template_rows": null,
            "height": "28px",
            "justify_content": null,
            "justify_items": null,
            "left": null,
            "margin": null,
            "max_height": null,
            "max_width": null,
            "min_height": null,
            "min_width": null,
            "object_fit": null,
            "object_position": null,
            "order": null,
            "overflow": null,
            "overflow_x": null,
            "overflow_y": null,
            "padding": "0px 0px 0px 4px",
            "right": null,
            "top": null,
            "visibility": null,
            "width": "28px"
          }
        },
        "9f3fe29ee41644d3a422ce053dbffcec": {
          "model_module": "@jupyter-widgets/controls",
          "model_name": "DescriptionStyleModel",
          "model_module_version": "1.5.0",
          "state": {
            "_model_module": "@jupyter-widgets/controls",
            "_model_module_version": "1.5.0",
            "_model_name": "DescriptionStyleModel",
            "_view_count": null,
            "_view_module": "@jupyter-widgets/base",
            "_view_module_version": "1.2.0",
            "_view_name": "StyleView",
            "description_width": ""
          }
        }
      }
    }
  },
  "cells": [
    {
      "cell_type": "markdown",
      "metadata": {
        "id": "view-in-github",
        "colab_type": "text"
      },
      "source": [
        "<a href=\"https://colab.research.google.com/github/hillsonghimire/EO-training-resources/blob/main/Topographic_Wetness_Index_(TWI).ipynb\" target=\"_parent\"><img src=\"https://colab.research.google.com/assets/colab-badge.svg\" alt=\"Open In Colab\"/></a>"
      ]
    },
    {
      "cell_type": "code",
      "source": [
        "# ==========================================\n",
        "#  Title:  Topographic Wetness Index in Google Earth Engine (python api)\n",
        "#  Author: hillson ghimire\n",
        "#  Date:   7 Feb 2024\n",
        "# =========================================="
      ],
      "metadata": {
        "id": "bKaLUR9kyXMB"
      },
      "execution_count": 1,
      "outputs": []
    },
    {
      "cell_type": "markdown",
      "source": [
        "**The topographic wetness index (TWI)**, also known as the compound topographic index (CTI), is a **steady state wetness index**. It is commonly used to quantify topographic control on hydrological processes. The index is a function of both the **slope** and the **upstream contributing area per unit width orthogonal to the flow direction**. The index was designed for hillslope catenas. Accumulation numbers in flat areas will be very large, so TWI will not be a relevant variable. The index is highly correlated with several soil attributes such as horizon depth, silt percentage, organic matter content, and phosphorus."
      ],
      "metadata": {
        "id": "kFa0YnXbuSxe"
      }
    },
    {
      "cell_type": "markdown",
      "source": [
        "Calculation for TWI:\n",
        "\n",
        "![image.png](data:image/png;base64,iVBORw0KGgoAAAANSUhEUgAAAEcAAAArCAYAAAAqhpU+AAAExklEQVRoBe2aVahtVRSGP7t9MFGxRQQLFRETWzGuD3qviaIPNqggKAY2CmKADwbYiNjxYCEqJoqBHRhgIAYoduv6YIzLZN519j6Xw3Lvs/cZsJhrjhlrjn/WiAUzNIPAuCCwC3A5cA+wG7AFsN24CD+RnEsBNwMvBBgrAY8APwIPTNRoXPgC8zuwSiHwbODf5jmn4I3d6zYBwh2V5OcHf4eKP1bZGwOEwyqpnwZ+ARap+GOTXQB4K8DxnElaGvirOX8eT8Y4poLzDvBFJfyeAdhZwMLAM1X52GRvA74BBEpaEngiwNkZ2Bu4JsrGLtkY+Bnw7DkSuK8B6wTgz+Y5E3geWLcLVE6NGfBK/KCYnS6+NZU+PW+OBfYBFoqOXDXeWFtNpeN+bZ2Z74H3hhicfjJ0Wv7ukK+cToXv17nX5TBvq37j76w8dYn3Z7bVvBi3gaO98iTwLHBFc0NsClwJvAi8ErfFvD2NKCe3VYq3SbgGvMVeAi4DFo+b4jrgN2D5rDzqaYKTipbyKrzgfBtaaGKwf/CPTsaop2+3HMjLBghPVcLvG3x1pF50aAPwVdPs2bVNIO2X+kBeJkConUkJzmltHRW844A7p9mzXzH+ua9uq8mCk0bf6XNbj/iLOk4NTp4591eya+h5Fp1R8Uc2q+kgOCUlOA+WzLBvBEejb6TpkPCFKKxWrofvEY0yeB7waqyQX0Pn0R15L/Bh8L8M/nKjitDqwE7x7BjpmsBGBV/r1zorANsCmc92i04jcLYv5Fp5Go2786EauTC083es/C07/+J8fODgZqvOmo/6XVVV49cxP1Qr/lpg0Fr1YhH/GirHvN67r8Ob19WKmEy/npdePhdMpvL/UcfZctU4qGPCLVLacDmGBYF1wu25RDInSNcv+LpQNZQnQ2fHOPYAPJA3b1ytfncgJAifxoAEp3y2LkaknfZZkz83vAGvh+N87aLO7kX7nxqHu7eqoOtS+bwBXtVivaJ+2+tDcSBfHTF2Qzp+qwwzt7XrjOfMaIQKjPaW+Xq2jEtZ7l8T0qoRcajjUasBbzTa+R+A4WHdKJK6lrH0SyPflhgZ/SHAmRMVHIeTZ0RjYKSyqfBGENrogGZL3VK5RjRabaN+VdJdwfcXlCRXqCvnzR7eTHU0+7soG0WqU8/QT9tWr6p2k/Uad2D9bivPDv+eOAV4Ldq4ikq6Pfhuq6QEp5cf3OioYxCkJNt9AvwzyKu93FY5sDIVkI+Bj5ow0cmhxT4WwqxRVgQSnBULvkJ6ZvUC51FAU6j88UDgBUyvxMBWTm4rI5WSt8RJ8W7cTLtO33SeIRa5zRz4WtXAe4EjwBMJKfD6xEs6Kr7hhAyMDopBHB8j0ON2cbzrzBeELMtB3l2AoxGcM+4vb9Yvz6JcORrFbeDIMzhg25KcEGN2/owwMNog9vUNMQJ9QYfH+4EhrLHwJK/wr4LvKkt3ikL6u5vglPFxTQF93R7KGS7OvjK9JK78BPnEaLNZVhhkqv9HoXTJ3lRd55Z9F/7mW4Hrm38ABUit2mtbQfaK9vaRz8PNrF9Y5JOvvlST1/3LsbXUd56Lb9T1Bpb3NvKMaSNnVD0nZzbr1NukzltPXhs/+yjTDastWZbNvM8gMEUE/gPX8D1TOE0t+AAAAABJRU5ErkJggg==)\n",
        "\n",
        "where,\n",
        "\n",
        "a       = local upslope area draining through a certain point per contour length (sq. meter)\n",
        "\n",
        "tan *b* = is the local slope in radians"
      ],
      "metadata": {
        "id": "37ZMsBnuuq8B"
      }
    },
    {
      "cell_type": "markdown",
      "source": [
        "#### **Import necessary libraries**"
      ],
      "metadata": {
        "id": "wODRRVwnxDEE"
      }
    },
    {
      "cell_type": "code",
      "source": [
        "# ! pip install geemap >> /dev/null\n",
        "# ! pip install pycrs >> /dev/null\n",
        "\n",
        "import ee\n",
        "import math\n",
        "import geemap\n",
        "\n",
        "ee.Authenticate()"
      ],
      "metadata": {
        "id": "UWXgODu5vcLB"
      },
      "execution_count": null,
      "outputs": []
    },
    {
      "cell_type": "code",
      "source": [
        "ee.Initialize(project='[Your-Project-ID]')"
      ],
      "metadata": {
        "colab": {
          "base_uri": "https://localhost:8080/",
          "height": 17
        },
        "id": "IoISZC0Evu5O",
        "outputId": "8d7a63c2-8a75-446a-c6bb-2d87279f15eb"
      },
      "execution_count": null,
      "outputs": [
        {
          "output_type": "display_data",
          "data": {
            "text/plain": [
              "<IPython.core.display.HTML object>"
            ],
            "text/html": [
              "\n",
              "            <style>\n",
              "                .geemap-dark {\n",
              "                    --jp-widgets-color: white;\n",
              "                    --jp-widgets-label-color: white;\n",
              "                    --jp-ui-font-color1: white;\n",
              "                    --jp-layout-color2: #454545;\n",
              "                    background-color: #383838;\n",
              "                }\n",
              "                    \n",
              "                .geemap-dark .jupyter-button {\n",
              "                    --jp-layout-color3: #383838;\n",
              "                }\n",
              "                \n",
              "                .geemap-colab {\n",
              "                    background-color: var(--colab-primary-surface-color, white);\n",
              "                }\n",
              "                    \n",
              "                .geemap-colab .jupyter-button {\n",
              "                    --jp-layout-color3: var(--colab-primary-surface-color, white);\n",
              "                }\n",
              "            </style>\n",
              "            "
            ]
          },
          "metadata": {}
        }
      ]
    },
    {
      "cell_type": "markdown",
      "source": [
        "#### **FAO_GAUL_2015 Country boundaries to select AOI**"
      ],
      "metadata": {
        "id": "rGKCQ3drx00x"
      }
    },
    {
      "cell_type": "code",
      "source": [
        "# https://developers.google.com/earth-engine/datasets/catalog/FAO_GAUL_2015_level0#table-schema\n",
        "\n",
        "faoGAUL = ee.FeatureCollection('FAO/GAUL/2015/level0')\n",
        "\n",
        "# # GAUL Codes : https://data.apps.fao.org/catalog/dataset/gaul-codes\n",
        "# names = faoGAUL.aggregate_array('ADM0_NAME')\n",
        "# keys = ee.Dictionary(names).keys()\n",
        "# display(keys.getInfo())\n",
        "\n",
        "aoi = faoGAUL.filter(ee.Filter.eq('ADM0_NAME', 'Nepal'))"
      ],
      "metadata": {
        "colab": {
          "base_uri": "https://localhost:8080/",
          "height": 17
        },
        "id": "U3YHmMXzx0MD",
        "outputId": "c89cafc3-f332-4002-aafd-e5b81ccabd98"
      },
      "execution_count": null,
      "outputs": [
        {
          "output_type": "display_data",
          "data": {
            "text/plain": [
              "<IPython.core.display.HTML object>"
            ],
            "text/html": [
              "\n",
              "            <style>\n",
              "                .geemap-dark {\n",
              "                    --jp-widgets-color: white;\n",
              "                    --jp-widgets-label-color: white;\n",
              "                    --jp-ui-font-color1: white;\n",
              "                    --jp-layout-color2: #454545;\n",
              "                    background-color: #383838;\n",
              "                }\n",
              "                    \n",
              "                .geemap-dark .jupyter-button {\n",
              "                    --jp-layout-color3: #383838;\n",
              "                }\n",
              "                \n",
              "                .geemap-colab {\n",
              "                    background-color: var(--colab-primary-surface-color, white);\n",
              "                }\n",
              "                    \n",
              "                .geemap-colab .jupyter-button {\n",
              "                    --jp-layout-color3: var(--colab-primary-surface-color, white);\n",
              "                }\n",
              "            </style>\n",
              "            "
            ]
          },
          "metadata": {}
        }
      ]
    },
    {
      "cell_type": "markdown",
      "source": [
        "#### **FLOW ACCUMULATION: Load NASADEM Digital Elevation of 30m resolutions, and HydroSHEDS Flow Accumulation dataset of 15 Arc-Seconds**"
      ],
      "metadata": {
        "id": "wr8kVaK6wNYR"
      }
    },
    {
      "cell_type": "code",
      "execution_count": null,
      "metadata": {
        "colab": {
          "base_uri": "https://localhost:8080/",
          "height": 17
        },
        "id": "CWp156iRuJdJ",
        "outputId": "7a0e264d-454a-4680-88d4-7453721ddcc8"
      },
      "outputs": [
        {
          "output_type": "display_data",
          "data": {
            "text/plain": [
              "<IPython.core.display.HTML object>"
            ],
            "text/html": [
              "\n",
              "            <style>\n",
              "                .geemap-dark {\n",
              "                    --jp-widgets-color: white;\n",
              "                    --jp-widgets-label-color: white;\n",
              "                    --jp-ui-font-color1: white;\n",
              "                    --jp-layout-color2: #454545;\n",
              "                    background-color: #383838;\n",
              "                }\n",
              "                    \n",
              "                .geemap-dark .jupyter-button {\n",
              "                    --jp-layout-color3: #383838;\n",
              "                }\n",
              "                \n",
              "                .geemap-colab {\n",
              "                    background-color: var(--colab-primary-surface-color, white);\n",
              "                }\n",
              "                    \n",
              "                .geemap-colab .jupyter-button {\n",
              "                    --jp-layout-color3: var(--colab-primary-surface-color, white);\n",
              "                }\n",
              "            </style>\n",
              "            "
            ]
          },
          "metadata": {}
        }
      ],
      "source": [
        "# Select elevation  band from NASADEM\n",
        "# https://developers.google.com/earth-engine/datasets/catalog/NASA_NASADEM_HGT_001#bands\n",
        "nasaDEM = ee.Image('NASA/NASADEM_HGT/001')\n",
        "elev = nasaDEM.select('elevation')"
      ]
    },
    {
      "cell_type": "code",
      "source": [
        "# Select flow accumulation data from the HydroSheds dataset\n",
        "hydroSheds = ee.Image(\"WWF/HydroSHEDS/15ACC\")\n",
        "flowAccumulation = hydroSheds.select('b1')"
      ],
      "metadata": {
        "colab": {
          "base_uri": "https://localhost:8080/",
          "height": 17
        },
        "id": "apaFClrXwKdK",
        "outputId": "11e882a0-1d9c-4f30-e088-3ea7edec8d5c"
      },
      "execution_count": null,
      "outputs": [
        {
          "output_type": "display_data",
          "data": {
            "text/plain": [
              "<IPython.core.display.HTML object>"
            ],
            "text/html": [
              "\n",
              "            <style>\n",
              "                .geemap-dark {\n",
              "                    --jp-widgets-color: white;\n",
              "                    --jp-widgets-label-color: white;\n",
              "                    --jp-ui-font-color1: white;\n",
              "                    --jp-layout-color2: #454545;\n",
              "                    background-color: #383838;\n",
              "                }\n",
              "                    \n",
              "                .geemap-dark .jupyter-button {\n",
              "                    --jp-layout-color3: #383838;\n",
              "                }\n",
              "                \n",
              "                .geemap-colab {\n",
              "                    background-color: var(--colab-primary-surface-color, white);\n",
              "                }\n",
              "                    \n",
              "                .geemap-colab .jupyter-button {\n",
              "                    --jp-layout-color3: var(--colab-primary-surface-color, white);\n",
              "                }\n",
              "            </style>\n",
              "            "
            ]
          },
          "metadata": {}
        }
      ]
    },
    {
      "cell_type": "code",
      "source": [
        "# Resample flow accumulation to 30m resolution\n",
        "flowAccumulation30m = flowAccumulation.resample('bilinear').reproject(crs=elev.projection(), scale=30)\n",
        "\n",
        "# Compute flow accumulation + 1\n",
        "accumulation = flowAccumulation30m.add(1)"
      ],
      "metadata": {
        "colab": {
          "base_uri": "https://localhost:8080/",
          "height": 17
        },
        "id": "7CL5zfhmDzRq",
        "outputId": "ebf15921-c431-48a5-c693-c2b8795691cc"
      },
      "execution_count": null,
      "outputs": [
        {
          "output_type": "display_data",
          "data": {
            "text/plain": [
              "<IPython.core.display.HTML object>"
            ],
            "text/html": [
              "\n",
              "            <style>\n",
              "                .geemap-dark {\n",
              "                    --jp-widgets-color: white;\n",
              "                    --jp-widgets-label-color: white;\n",
              "                    --jp-ui-font-color1: white;\n",
              "                    --jp-layout-color2: #454545;\n",
              "                    background-color: #383838;\n",
              "                }\n",
              "                    \n",
              "                .geemap-dark .jupyter-button {\n",
              "                    --jp-layout-color3: #383838;\n",
              "                }\n",
              "                \n",
              "                .geemap-colab {\n",
              "                    background-color: var(--colab-primary-surface-color, white);\n",
              "                }\n",
              "                    \n",
              "                .geemap-colab .jupyter-button {\n",
              "                    --jp-layout-color3: var(--colab-primary-surface-color, white);\n",
              "                }\n",
              "            </style>\n",
              "            "
            ]
          },
          "metadata": {}
        }
      ]
    },
    {
      "cell_type": "markdown",
      "source": [
        "#### **Determine Slope (in radians)**"
      ],
      "metadata": {
        "id": "sohPn_jbD6uc"
      }
    },
    {
      "cell_type": "code",
      "source": [
        "# Compute the slope_deg from the DEM and clip the result to the aoi, convert slope to radians\n",
        "slope_deg = ee.Terrain.slope(elev).clip(aoi)\n",
        "slope_tan  = (slope_deg.multiply(math.pi/180)).tan()"
      ],
      "metadata": {
        "colab": {
          "base_uri": "https://localhost:8080/",
          "height": 17
        },
        "id": "GyRZNe_A1Igx",
        "outputId": "5651bc05-58ab-41df-83a8-a7f635ad8552"
      },
      "execution_count": null,
      "outputs": [
        {
          "output_type": "display_data",
          "data": {
            "text/plain": [
              "<IPython.core.display.HTML object>"
            ],
            "text/html": [
              "\n",
              "            <style>\n",
              "                .geemap-dark {\n",
              "                    --jp-widgets-color: white;\n",
              "                    --jp-widgets-label-color: white;\n",
              "                    --jp-ui-font-color1: white;\n",
              "                    --jp-layout-color2: #454545;\n",
              "                    background-color: #383838;\n",
              "                }\n",
              "                    \n",
              "                .geemap-dark .jupyter-button {\n",
              "                    --jp-layout-color3: #383838;\n",
              "                }\n",
              "                \n",
              "                .geemap-colab {\n",
              "                    background-color: var(--colab-primary-surface-color, white);\n",
              "                }\n",
              "                    \n",
              "                .geemap-colab .jupyter-button {\n",
              "                    --jp-layout-color3: var(--colab-primary-surface-color, white);\n",
              "                }\n",
              "            </style>\n",
              "            "
            ]
          },
          "metadata": {}
        }
      ]
    },
    {
      "cell_type": "markdown",
      "source": [
        "#### **Compute TWI**"
      ],
      "metadata": {
        "id": "CYrxDxNbED5W"
      }
    },
    {
      "cell_type": "code",
      "source": [
        "# Compute the Topographic Wetness Index (TWI)\n",
        "TWI = (accumulation.divide(slope_tan)).log()"
      ],
      "metadata": {
        "colab": {
          "base_uri": "https://localhost:8080/",
          "height": 17
        },
        "id": "pvX0bzXWEDap",
        "outputId": "e9949faf-2009-4795-f2d6-d09df399d4b2"
      },
      "execution_count": null,
      "outputs": [
        {
          "output_type": "display_data",
          "data": {
            "text/plain": [
              "<IPython.core.display.HTML object>"
            ],
            "text/html": [
              "\n",
              "            <style>\n",
              "                .geemap-dark {\n",
              "                    --jp-widgets-color: white;\n",
              "                    --jp-widgets-label-color: white;\n",
              "                    --jp-ui-font-color1: white;\n",
              "                    --jp-layout-color2: #454545;\n",
              "                    background-color: #383838;\n",
              "                }\n",
              "                    \n",
              "                .geemap-dark .jupyter-button {\n",
              "                    --jp-layout-color3: #383838;\n",
              "                }\n",
              "                \n",
              "                .geemap-colab {\n",
              "                    background-color: var(--colab-primary-surface-color, white);\n",
              "                }\n",
              "                    \n",
              "                .geemap-colab .jupyter-button {\n",
              "                    --jp-layout-color3: var(--colab-primary-surface-color, white);\n",
              "                }\n",
              "            </style>\n",
              "            "
            ]
          },
          "metadata": {}
        }
      ]
    },
    {
      "cell_type": "markdown",
      "source": [
        "#### **Visualize**"
      ],
      "metadata": {
        "id": "ALAPHZJqD_sR"
      }
    },
    {
      "cell_type": "code",
      "source": [
        "Map = geemap.Map(center = [28, 84], zoom = 4)\n",
        "vis_Para = {'min': -10, 'max': 10, 'palette': ['blue', 'white', 'green']}\n",
        "Map.addLayer(TWI, vis_Para, name=\"Rate of Change\")\n",
        "Map"
      ],
      "metadata": {
        "colab": {
          "base_uri": "https://localhost:8080/",
          "height": 621,
          "referenced_widgets": [
            "f656307a496c45a7bfe30eae4d45656d",
            "3f7fb3dd900d47a7b4f8622660ce0b2e",
            "127299c93946400ca3a5fd0375e7e55e",
            "6eb4f0775151438c9fcf74eddcb2faab",
            "4dc33bb33f974899af6cfde1c9a02be6",
            "4b09dd9cb265418d948555186a35bd90",
            "0fbdb691fb59466aa442ad8cfc540ca4",
            "8bbbf39e8dcb47d8b40d8c2815d5508b",
            "1e92338c4d4f4079ad9be580ea686b10",
            "e9a6f282b5134a40ab2059189b77747d",
            "da208cbad0d1437cb3b943ba315c1434",
            "efd92e3c5be34353a31e3f2b54f69a17",
            "5e007343fa0f449ea608aa3ad6425d92",
            "f1be83df80e84a94b7f193ef96162dfd",
            "ddfdc76668b34e50bb8434e93c631d42",
            "45b08cf9bd5f43adb55eb4980ecee4a1",
            "26ab8c65fbe54169afc795d529925406",
            "da451eeb18b44aa3a54f07f876721323",
            "499c3a99f3724e6ea52ce71d60a0a9ea",
            "2ff09a5aa4fb456f8b1a8664e7232d69",
            "413a82c6c99d4a5ca6e58031657d7b79",
            "b6e0180b745f48eeb0823f470f81d5ba",
            "72d91d17a0fa4c6e934f8d60c02461f1",
            "3ba452a0c48843ccaaadf80509f1f164",
            "9f3fe29ee41644d3a422ce053dbffcec"
          ]
        },
        "id": "8Rs3oy301SmS",
        "outputId": "4cf879d1-4fad-4762-e2c7-098ebbb4894a"
      },
      "execution_count": null,
      "outputs": [
        {
          "output_type": "display_data",
          "data": {
            "text/plain": [
              "<IPython.core.display.HTML object>"
            ],
            "text/html": [
              "\n",
              "            <style>\n",
              "                .geemap-dark {\n",
              "                    --jp-widgets-color: white;\n",
              "                    --jp-widgets-label-color: white;\n",
              "                    --jp-ui-font-color1: white;\n",
              "                    --jp-layout-color2: #454545;\n",
              "                    background-color: #383838;\n",
              "                }\n",
              "                    \n",
              "                .geemap-dark .jupyter-button {\n",
              "                    --jp-layout-color3: #383838;\n",
              "                }\n",
              "                \n",
              "                .geemap-colab {\n",
              "                    background-color: var(--colab-primary-surface-color, white);\n",
              "                }\n",
              "                    \n",
              "                .geemap-colab .jupyter-button {\n",
              "                    --jp-layout-color3: var(--colab-primary-surface-color, white);\n",
              "                }\n",
              "            </style>\n",
              "            "
            ]
          },
          "metadata": {}
        },
        {
          "output_type": "display_data",
          "data": {
            "text/plain": [
              "Map(center=[28, 84], controls=(WidgetControl(options=['position', 'transparent_bg'], widget=SearchDataGUI(chil…"
            ],
            "application/vnd.jupyter.widget-view+json": {
              "version_major": 2,
              "version_minor": 0,
              "model_id": "f656307a496c45a7bfe30eae4d45656d"
            }
          },
          "metadata": {
            "application/vnd.jupyter.widget-view+json": {
              "colab": {
                "custom_widget_manager": {
                  "url": "https://ssl.gstatic.com/colaboratory-static/widgets/colab-cdn-widget-manager/2b70e893a8ba7c0f/manager.min.js"
                }
              }
            }
          }
        }
      ]
    },
    {
      "cell_type": "code",
      "source": [],
      "metadata": {
        "id": "9JH7bZN91vgC"
      },
      "execution_count": null,
      "outputs": []
    }
  ]
}
