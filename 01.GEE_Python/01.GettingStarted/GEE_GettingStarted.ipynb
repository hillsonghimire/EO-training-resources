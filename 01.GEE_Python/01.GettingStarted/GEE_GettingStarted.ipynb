{
  "cells": [
    {
      "cell_type": "markdown",
      "metadata": {},
      "source": [
        "<a href=\"https://colab.research.google.com/github/hillsonghimire/EO-training-resources/blob/main/01.GEE_Python/01.GettingStarted/GettingStartedWithGEE.ipynb\" target=\"_parent\"><img src=\"https://colab.research.google.com/assets/colab-badge.svg\" alt=\"Open In Colab\"/></a>"
      ]
    },
    {
      "cell_type": "code",
      "execution_count": null,
      "metadata": {},
      "outputs": [],
      "source": [
        "# ==========================================\n",
        "#  Title:  Getting started with Google Earth Engine (python api)\n",
        "#  Author: hillson ghimire\n",
        "#  Date:   Dec 2024\n",
        "# =========================================="
      ]
    },
    {
      "cell_type": "markdown",
      "metadata": {
        "id": "1ns7_n0F1G44"
      },
      "source": [
        "### Google Earth Engine"
      ]
    },
    {
      "cell_type": "markdown",
      "metadata": {
        "id": "h0IpofQf1NsW"
      },
      "source": [
        "Google Earth Engine (GEE) is a platform for **scientific analysis and visualization** of geospatial datasets, for academic, non-profit, business and government users. There are lots of satellite data and geo spatial data gathered every day. Those data are not used by many people due to large size and complicated nature of satellite data. GEE provides online platform that can be used to access, visualize, analyze those data within google cloud.\n",
        "\n",
        "\n",
        "Useful Links:\n",
        "\n",
        "https://developers.google.com/earth-engine/guides/getstarted\n",
        "\n",
        "https://developers.google.com/earth-engine/tutorials"
      ]
    },
    {
      "cell_type": "markdown",
      "metadata": {
        "id": "DU50TQ321cUt"
      },
      "source": [
        "#### Why Google Earth Engine?"
      ]
    },
    {
      "cell_type": "markdown",
      "metadata": {
        "id": "CeqESrS41eOK"
      },
      "source": [
        "1.   Massive geospatial data archives\n",
        "2.   Faster analysis with cloud processing\n",
        "3.   Commercial access is now available\n",
        "4.   Scalable and time-seriea analysis\n",
        "5.   Education and Outreach opportunities\n",
        "\n",
        "An API is a way to communicate with Earth Engine servers. It allows you to\n",
        "specify what computation you would like to do and then to receive the results. The API is designed so that users do not need to worry about how the computation is distributed across a cluster of machines, and the results are assembled. Users of the API simply specify what needs to be done. This greatly simplifies the code by hiding the implementation detail from the users. It also makes Earth Engine very approachable for users who are not familiar with writing code.\n",
        "\n"
      ]
    },
    {
      "cell_type": "markdown",
      "metadata": {
        "id": "sFjLIpYV2uGc"
      },
      "source": [
        "#### Google Earth Engine Initial Set-up"
      ]
    },
    {
      "cell_type": "markdown",
      "metadata": {
        "id": "LnBXzD0x28OY"
      },
      "source": [
        "In this exercise, we will use a python library call \"geemap\" to visualize GEE data in a map. Let's first install \"geemap\" library, using \"pip\" Python package-management system.\""
      ]
    },
    {
      "cell_type": "code",
      "execution_count": null,
      "metadata": {
        "id": "_YgxmkIn2svB"
      },
      "outputs": [],
      "source": [
        "# !pip install geemap"
      ]
    },
    {
      "cell_type": "code",
      "execution_count": null,
      "metadata": {
        "id": "B0ZZMlIk299W"
      },
      "outputs": [],
      "source": [
        "import numpy as np\n",
        "import matplotlib.pyplot as plt\n",
        "import pandas as pd\n",
        "\n",
        "import ee\n",
        "import geemap\n",
        "ee.Authenticate()"
      ]
    },
    {
      "cell_type": "code",
      "execution_count": null,
      "metadata": {
        "id": "UqKtfXWC3Aeu"
      },
      "outputs": [],
      "source": [
        "# Replace project-id with your project ID\n",
        "# Follow seteps in the URL: https://docs.google.com/presentation/d/1dUz_bUfV57OIuXEAoMxbvXRZeXbqB7bd-_RhIjCcE90/edit?usp=sharing\n",
        "ee.Initialize(project='<your project name>')"
      ]
    },
    {
      "cell_type": "code",
      "execution_count": null,
      "metadata": {
        "id": "_SLoM0_J7NUz"
      },
      "outputs": [],
      "source": [
        "# Map visualisation parameters\n",
        "zoom = 8\n",
        "width=\"40%\"\n",
        "center = [29.9617498,61.7604367]\n",
        "\n",
        "# Sample: Initialization of map\n",
        "Map = geemap.Map()\n",
        "Map = geemap.Map(center=center, zoom = zoom,  width=width)\n",
        "Map"
      ]
    },
    {
      "cell_type": "markdown",
      "metadata": {
        "id": "eEtNMG6v0m_2"
      },
      "source": [
        "## 1. Working with Images\n",
        "\n",
        "Raster data are represented as *Image* objects in Earth Engine. Images are composed of *one or more bands* and each band has its own name, data type, scale, mask and projection. Each image has *metadata* stored as a set of properties.\n",
        "\n",
        "Images are **core building blocks** of remotely sensed imagery in Earth Engine."
      ]
    },
    {
      "cell_type": "markdown",
      "metadata": {
        "id": "BQZKMbxw9kjE"
      },
      "source": [
        "#### 1.1 Loading Image from ImageCollection in Earth Engine Archieve\n"
      ]
    },
    {
      "cell_type": "markdown",
      "metadata": {
        "id": "1iIHtEvm4oS9"
      },
      "source": [
        "[Earth Engine Data Catalog](https://developers.google.com/earth-engine/datasets/catalog)"
      ]
    },
    {
      "cell_type": "code",
      "execution_count": null,
      "metadata": {
        "id": "5Wy35q-LhPJk"
      },
      "outputs": [],
      "source": [
        "print(\"Hello World\")"
      ]
    },
    {
      "cell_type": "code",
      "execution_count": null,
      "metadata": {
        "id": "UGTbyySb0qDk"
      },
      "outputs": [],
      "source": [
        "# Accessing an Image\n",
        "image = ee.Image('LANDSAT/LC08/C02/T1_L2/LC08_156039_20130410')\n",
        "\n",
        "# Read image properties and metadata: Displays all metadata\n",
        "display(image)"
      ]
    },
    {
      "cell_type": "markdown",
      "metadata": {
        "id": "1h_rlXmCC4XF"
      },
      "source": [
        "#### 1.2 Image Information and Metadata"
      ]
    },
    {
      "cell_type": "code",
      "execution_count": null,
      "metadata": {
        "id": "Ka4d-AAlDCo3"
      },
      "outputs": [],
      "source": [
        "# Get information about the bands as a list.\n",
        "band_names = image.bandNames()\n",
        "display('Band names:', band_names)  # ee.List of band names\n",
        "\n",
        "# Get projection information from band 1.\n",
        "b1_proj = image.select('SR_B1').projection()\n",
        "display('Band 1 projection:', b1_proj)  # ee.Projection object\n",
        "# b1_proj\n",
        "\n",
        "# Get scale (in meters) information from band 1.\n",
        "b1_scale = image.select('SR_B1').projection().nominalScale()\n",
        "display('Band 1 scale:', b1_scale)  # ee.Number\n",
        "\n",
        "# Note that different bands can have different projections and scale.\n",
        "b3_scale = image.select('SR_B3').projection().nominalScale()\n",
        "display('Band 3 scale:', b3_scale)  # ee.Number"
      ]
    },
    {
      "cell_type": "code",
      "execution_count": null,
      "metadata": {
        "id": "IHTn0STk5TCK"
      },
      "outputs": [],
      "source": [
        "# Get a list of all metadata properties.\n",
        "properties = image.propertyNames()\n",
        "display('Metadata properties:', properties)  # ee.List of metadata properties"
      ]
    },
    {
      "cell_type": "code",
      "execution_count": null,
      "metadata": {
        "id": "hH6ekUqS5W85"
      },
      "outputs": [],
      "source": [
        "# Get a specific metadata property.\n",
        "cloudiness = image.get('CLOUD_COVER')\n",
        "display('CLOUD_COVER:', cloudiness)  # ee.Number\n",
        "\n",
        "# Get the timestamp. (time stamp of image acquisition)\n",
        "ee_date = ee.Date(image.get('system:time_start'))\n",
        "display('Timestamp:', ee_date)  # ee.Date\n",
        "\n",
        "# Date objects transferred to the client are milliseconds since UNIX epoch;\n",
        "# convert to human readable date with ee.Date.format().\n",
        "display('Datetime:', ee_date.format())  # ISO standard date string"
      ]
    },
    {
      "cell_type": "code",
      "execution_count": null,
      "metadata": {
        "id": "CHPA_jyG7aE2"
      },
      "outputs": [],
      "source": [
        "# Image visualisation\n",
        "Map = geemap.Map(center = center, zoom = zoom,  width=width)\n",
        "Map.addLayer(image)\n",
        "Map"
      ]
    },
    {
      "cell_type": "markdown",
      "metadata": {
        "id": "leL_tXzz8VLO"
      },
      "source": [
        "#### 1.3 True Color Visualisation"
      ]
    },
    {
      "cell_type": "code",
      "execution_count": null,
      "metadata": {
        "id": "kmtTWCmY8QRs"
      },
      "outputs": [],
      "source": [
        "vis_param_L8 = {'min': 0, 'max': 30000, 'bands': ['SR_B4', 'SR_B3', 'SR_B2']} # for landsat raw image visualization\n",
        "\n",
        "Map = geemap.Map(center = center, zoom = zoom,  width=width)\n",
        "Map.addLayer(image, vis_param_L8, name=\"Landsat 8 Image\")\n",
        "Map"
      ]
    },
    {
      "cell_type": "markdown",
      "metadata": {
        "id": "nQgjeCR95jXC"
      },
      "source": [
        "#### 1.4 Selecting Single band from the image composite\n",
        "\n"
      ]
    },
    {
      "cell_type": "code",
      "execution_count": null,
      "metadata": {
        "id": "LtEtmnzg5qpf"
      },
      "outputs": [],
      "source": [
        "NIR_single_band = image.select('SR_B5')\n",
        "\n",
        "# Display properties\n",
        "display(NIR_single_band)\n",
        "\n",
        "# Visualize\n",
        "Map = geemap.Map(center = center, zoom = zoom,  width=width)\n",
        "Map.addLayer(NIR_single_band, name=\"NIR Band\")\n",
        "Map"
      ]
    },
    {
      "cell_type": "markdown",
      "metadata": {
        "id": "ulsiUHkA9olw"
      },
      "source": [
        "#### Exercise 1\n",
        "**What is the spacecraft id for the image loaded above?**\n",
        "\n",
        "*Hint: Query the 'SPACECRAFT_ID' property from the image above*"
      ]
    },
    {
      "cell_type": "code",
      "execution_count": null,
      "metadata": {
        "id": "BFOoNBWl9ro2"
      },
      "outputs": [],
      "source": [
        "#  Write code here\n",
        "\n",
        "spc_id = image.get('SPACECRAFT_ID')\n",
        "display(spc_id)"
      ]
    },
    {
      "cell_type": "markdown",
      "metadata": {
        "id": "eAGh4vfFCQH4"
      },
      "source": [
        "#### Exercise 2\n",
        "\n",
        "**Try to visualize false color composite for Infrared (vegetation) -> B5, B4, B3**\n",
        "\n",
        "(Reference: https://www.esri.com/arcgis-blog/products/product/imagery/band-combinations-for-landsat-8/)"
      ]
    },
    {
      "cell_type": "code",
      "execution_count": null,
      "metadata": {
        "id": "ml1uidZDCPil"
      },
      "outputs": [],
      "source": [
        "# Write code here\n",
        "vis_param_L8 = {'min': 0, 'max': 30000, 'bands': ['SR_B5', 'SR_B4', 'SR_B3']} # for landsat raw image visualization\n",
        "\n",
        "Map = geemap.Map(center = center, zoom = zoom,  width=width)\n",
        "Map.addLayer(image, vis_param_L8, name=\"FCC\")\n",
        "Map"
      ]
    },
    {
      "cell_type": "markdown",
      "metadata": {
        "id": "w1hBqXgi90Xo"
      },
      "source": [
        "#### 1.3 Loading uploaded geotiff"
      ]
    },
    {
      "cell_type": "code",
      "execution_count": null,
      "metadata": {
        "id": "k5BGuPh5CiX-"
      },
      "outputs": [],
      "source": [
        "# Path to the geotiff, local storage or remote storage\n",
        "uri = (\n",
        "    'gs://gcp-public-data-landsat/LC08/01/001/002/'\n",
        "    + 'LC08_L1GT_001002_20160817_20170322_01_T2/'\n",
        "    + 'LC08_L1GT_001002_20160817_20170322_01_T2_B5.TIF'\n",
        ")\n",
        "\n",
        "# uri = ('C://data/data.tif')\n",
        "\n",
        "cloud_image = ee.Image.loadGeoTIFF(uri)\n",
        "display(cloud_image)"
      ]
    },
    {
      "cell_type": "markdown",
      "metadata": {
        "id": "6GTT2M8e9s7g"
      },
      "source": [
        "\n",
        "---\n",
        "---\n",
        "---\n"
      ]
    },
    {
      "cell_type": "markdown",
      "metadata": {
        "id": "OvUvCTrM8g1B"
      },
      "source": [
        "## 2. Working with Image Collections"
      ]
    },
    {
      "cell_type": "markdown",
      "metadata": {
        "id": "BUWM9Uad8yL7"
      },
      "source": [
        "**Image Collections: An Organized Set of Images**. In Earth Engine, these are organized into an **ImageCollection**, a specialized data type that has specific operations available in the Earth Engine API. Like individual images, they can be viewed with **Map.addLayer**.\n"
      ]
    },
    {
      "cell_type": "markdown",
      "metadata": {
        "id": "e1WD1E_ec0Fv"
      },
      "source": [
        "An ImageCollection is a stack or sequence of images. An ImageCollection can be loaded by pasting an Earth Engine asset ID into the ImageCollection constructor."
      ]
    },
    {
      "cell_type": "markdown",
      "metadata": {
        "id": "ZdhOPfcX9L8n"
      },
      "source": [
        "#### 2.1 Load Image Collection\n"
      ]
    },
    {
      "cell_type": "code",
      "execution_count": null,
      "metadata": {
        "id": "gnaUaxw58s_5"
      },
      "outputs": [],
      "source": [
        "# Define Area of Interest (AOI)\n",
        "aoi = ee.Geometry.Rectangle(61.220534, 29.575174, 61.220534, 29.575174)\n",
        "\n",
        "# Load landsat8 image collection\n",
        "L8Col = ee.ImageCollection(\"LANDSAT/LC08/C02/T1_L2\").filterBounds(aoi)\n",
        "display(L8Col)"
      ]
    },
    {
      "cell_type": "code",
      "execution_count": null,
      "metadata": {
        "id": "hFLdA6l_8s84"
      },
      "outputs": [],
      "source": [
        "# Print the size of the Landsat 8 dataset.\n",
        "totalImages = L8Col.size().getInfo()\n",
        "print(\"Total number or images over AOI:\", totalImages)"
      ]
    },
    {
      "cell_type": "code",
      "execution_count": null,
      "metadata": {
        "id": "_NL-3kSn_9T-"
      },
      "outputs": [],
      "source": [
        "vis_param_L8 = {'min': 0, 'max': 30000, 'bands': ['SR_B4', 'SR_B3', 'SR_B2']} # for landsat raw image visualization\n",
        "\n",
        "Map = geemap.Map(center = center, zoom = zoom,  width=width)\n",
        "Map.addLayer(L8Col, vis_param_L8, name=\"Landsat 8 Image\")\n",
        "Map"
      ]
    },
    {
      "cell_type": "markdown",
      "metadata": {
        "id": "UXEiV3Dc-S2L"
      },
      "source": [
        "#### 2.2 Filtering Image Collection\n",
        "The **ImageCollection** data type in Earth Engine has multiple approaches to\n",
        "filtering, which helps to pinpoint the exact images you want to view or analyze\n",
        "from the larger collection."
      ]
    },
    {
      "cell_type": "code",
      "execution_count": null,
      "metadata": {
        "id": "BWsz5geW-Q-0"
      },
      "outputs": [],
      "source": [
        "# Filter by Date\n",
        "L8Col_date = L8Col.filterDate('2020-01-01', '2023-12-31')\n",
        "\n",
        "totalImages = L8Col_date.size().getInfo()\n",
        "print(\"Total number or images after cloud filter:\", totalImages)"
      ]
    },
    {
      "cell_type": "code",
      "execution_count": null,
      "metadata": {
        "id": "QBvhzAnw-goM"
      },
      "outputs": [],
      "source": [
        "# Selecting first image\n",
        "display(L8Col_date.first())"
      ]
    },
    {
      "cell_type": "markdown",
      "metadata": {
        "id": "Ew5TesMp9zMv"
      },
      "source": [
        "#### Exercise 3\n",
        "\n",
        "Filter by Cloud Cover property on 'L8Col_date' image collection, the cloud cover should be less than 20%.\n",
        "How many images remains after Cloud Cover filter in the above collection?\n",
        "\n",
        "HINT: Use **'CLOUD_COVER'** property, and mathematical operation **ee.Filter.lt()**"
      ]
    },
    {
      "cell_type": "code",
      "execution_count": null,
      "metadata": {
        "id": "1Jh5pYUh8s1u"
      },
      "outputs": [],
      "source": [
        "# Write code here\n",
        "\n",
        "L8_CloudFilter = L8Col_date.filter(ee.Filter.lt('CLOUD_COVER', 20))\n",
        "L8_CloudFilter.size().getInfo()"
      ]
    },
    {
      "cell_type": "markdown",
      "metadata": {
        "id": "rT0tm67a9Og-"
      },
      "source": [
        "#### 2.3 Image Mosaicking\n",
        "\n",
        "Mosaicking refers to the process of spatially assembling images to produce a spatially continuous image.\n",
        "\n",
        "![image.png](data:image/png;base64,iVBORw0KGgoAAAANSUhEUgAAAY0AAACOCAIAAABCJsOcAAAgAElEQVR4Aey9309b97ruu2+2tP6TKc1KU5mVEqlbVD0JhFIwP2IcKzXYONiGYEMHO6PIYY4w/LMKUBdSr1EYyrIKy8RRwtRgl5npNZM5ZXU1W+Vi7qlctFIinQtusrq4WRKXXOb0/X6Gv3FJ9zrSOdI5mVJbZBljjGO/ft7nfd7nfb//5eUv//3yCvzyCvzyCrzZr8B/ebOf3i/P7pdX4JdX4JdX4KWPU0+ffrdRt2t7+T/f+ay2l9/dXN/y1v74h8/++IfPuLLlre1urnsPrd3NdX178+E9fYfaXr62l9/5ws4uGfaa7W4uV6sWl3HD4EFqDcfdXObSXrMLhaXsknE1fy01n8ouGbmKkV0yDNMYt1KTmURqPiW356azS0at4ZycnHS+XYeHh1Y5Y5jGZCYRSSQMUx4nm5s2TCOZCPPr00ZEfl19WeWMVc7I41uxyUwimQhPG5FkIqy/Igm5kR8lE+HUfGraiHCZjM5MG5HJTILLzse/npo1rJj8XStmmPLk+RPLlVLns3358uWLH14sV0rZJSM1L/86nuFkJiGPYMqz4h/L8w/FQyPDkVA8FIqHIokElyPD8oT1t8lEuPOn3Jnf4pJ7JqMz+m7c/l5f7+tfFbt4fHx86jn/8u0vr8Ab8gr4ONVqtebN4Uox7bgzd+9MVYrpkpNx7yy6dxYrxXS1ahXLozeKgUoxPW8OlwszJSdTKaZXVoLlwszKSnCjblvV8awdNazY6MRAdC5ScjIARMIMnunpr1atatWaN4enjci8OWxYsVA8NG1EonPyaTSs2Lw5nM1Nz+YHw7F3L8QuXohd7B+Xr0A6PDoxUKk5x0dHJ+3/+NjPm8OjEwNv9b7zXl9vz1BfIHju7EgXl2dHuqaNyNV0z9V0z6BxXp7SQl90oc+qjs/mB28UA/Pm8LWP+6+me3qG+viL4di78+bw1XRP//hF7lAsjy6sytdsfvDax/3XPu6fzQ/Om8PRuUCxPFosj/IiWNXxcmHGqo6vrARztbDjyvWNut1+sicvXwrCHh8f1fYNx52pbo2VnIxVHZevcsawYlZ1vORk7J2ovt3eifJTx53J1cIlJ1PdGlvfM/L3P1rfM2r78rW+J1/5+x+VnAzPZLlSctyZ5UqpWrUcJ7dcKe1urm972w3ntuPkqlWrXJhJJsJZO1ouzGSXjEoxbVixkYHecOxdwzSODg95zm9IaP7yNH55BfQr8BOcKjmZnS9s987izhd2tWoVCkvVqrVRTpcLM6vmBzcnLs78t18lzCBQxQfVcWfW9wz3zqLjzjjuDHCTqxgRUyhGNjcdnYt0T0RyFaFLoFJqPnV2pCuZCPcM9fUM9fWPXwzFQ1k7urA6mjCD3en+6EIfUBWdi0TnAtG5wHKl9OKHF8fHx/qDdHh42D0R4RECwXOjEwMjA71nR7oE2oLn+scvFsuCL1fTPeHYu4PGeb4SZnA2PwjucBmOvTs6MQBI3SgKAF1N91z7uP9GMbCwOmpVx3O1MF98WyyP8lSt6rjjCl5f+7i/WB4Fu7O2YM26l9qo28fqP/2E/+0//n2jbgNS3CdXMWp7+Y26vb5ncIu9E133UvZO1N6Jmo6hr697qfz9j6zqeG0vX39402kW9GX94c38/Y/czWXXdTbq9nKltFG3hRo3HPfOYq3hbHlrtYZTazjVqpW1oySJbG562ohY1fFkIhyOvRuOvXs9Nfv8++fHJ/L/KeqqY+WXK7+8Av9/vQI+Th0ctCrFtHtncaNuA1VyvZzeKKcrxfQXV3vuX/rtJ//Hr6dDF8Oxd+FQWVtyPp9bTROolcqFGUGciQjVXHQuUq1ahhXrH784OjHAl2EaPUN9VCJgX9aOwnrCsXfPjnRl7WiuIh9gq5ypVq1nh8+AKrDq8PDZe329F2KCcaMTA6F4iN/qGeo7O9IVjr2rQQfkCgTPDRrnoUuDxnn4UXShDyDTOHWjGLhRDIBTXIclVbfGcrUw9GphdRRQru0boxMD8+bwykqQl8Kqjrt3FktOpraXPzw87MRW4VN7efCIlw5A2Xp0u/7wJuRo3UvJFYVKcl1d4VfWvVTIurxRt51mYX3PcJoFp1n46snn9Yc3K7tF986iZJS6lNvypRBK6u47iw3ndrVq1Rv13c11w4pNG5FyQcrYrB3N2lGKRyrZp0+/Oz46Ojo++nuBqsPDZ51fz79/fqSCpPNGff3Iv/Ph0ZH6LS7VjU+/ffKvf/vb02+fPH363cHBgbpsyS1Pv/s//9c3B8/++vTpd/zoQP336vqzvz799snBwcG//u1v/EguubH9o9bBQavVOui4fP0W9bvqTgdyeer+/k87HqPj/q8eWK7JD/ht/ztuUffnoqX/a7aa+nqr1Xpzvn3+/fPX0fAVTlWr1s4XIlGBU447k7WjlWK6WB5dNT/44mrPqvnBdEhqMSFNdhSEIuK5Xi7MpOZT1H2GFUuYQSlYqlbCDGZz06F46L2+3jM9/e/19VJ9TBuRaSMitMuOJsxgwgxS7l2IXYzOBUTxUV8JM2jZ9sHBQecn/9nhYdAIoi71j1+El4GDlHu6stNINDoxoOnV1XQPmMidA8FzV9M9UpaGLlIPalZFKbfupWBV1z7uX1iVos+qjlMnRuekisza0dn8YMnJSKWmiNLz758ftrH15OTk6PgIPkUpJ6/tbnHr0W2wBnjikgIQbgV+SbnnpQSw2kWf5lPAVm0v34lWKIOOk+OrWrVqDafeqLuby4qiymteKaazdhSRbt4cTkZnWq1W5xN+PVbetFscJ1cuzOjMCi7vbq7vfCGMEo7vlpcAcW4kvPkpd6hWLfSHbG46VzHQMUcnBgzTqFYt0TRz01LXqyvROZEseQ2zuWm5Ub2G0bkA+mDQCKJjEtu6aCCbkqHf6+slUEPxEOVCdC6QMIPEfMIMXvu4P5kIR+cC3D+ZCFNzXE33hOIhfgov5lMWnQvwPqp/SEA+XLlpyUNKNuUKWR9lhg8dSYtfjM7JJxHRlp9OG5GEGeRfEZ2TH6XmU3we9a9TMCHv8KPoXATSwKvBpZ8LowIOXOfVGBnoHRnopRIKxUPCWgZEOf1R5KUK6eT1r+o+9CbHnXHvLN69MwWTQpBaNT9AkRkZ6O3r/i3/hqwdDRryL/FflyWD6xdiFyczCfnEOrlcRd5s5CcKQBGS0vJvpiQ0rBivjmHFzo50gVP6bVPvovzLr+avHRy0nj79TjOU598/756IgFBwKGBIoaS860BSz5Awpmsf94Mp1z7u12qUxilEMcofiBh3mzeHbxQDs/nBhdXR6tYYxMqqjiNU3ShKQRqOvavJl9CofaOyWxRpb3P54OBAQdXh8bEoay9+eFHbyzvuTP7+RyI2eSnHnak/vClkqg2CVnV8YXV0av3ShyuhIVM0tXFL4EmrURAu0bmaBX1Z2xeVCnaGMqVxyt1c3vLW6F2gVfUM9cmH0Irp97c0lZQ3LjrTbDUVJTls19dvGi6dfj7Z3PS8OazTKv8id3PZcWcqRREr5s1hQtewYuXCTLkgt8OFASlE1eicEP/UfMrv5FixnqE+wzR+LN6JT4hnIC2NC/1R5DEXVkcD6fCF2MWg4WfZ/nG5nkyIrto/fvHsSBefxrMjXYihZ0e6oOFkxP7xi4PG+ehCX8i6zPPRjJ4Y7h+XImbeHObraroHjbVYHs3VwsQMKip0Yd4cLpZHkZgdd4acioiJSkP1I6xcaTXIF6KrlkXozN//SEepvRNFAOVGn+nviV5R2zfqD2+SaHU0WuUMH/lCYQldu1q1RDZ1crqBRnbJ5qY1nvJKRucigeC5kQEhMW2B51Xr7BWfAqdWVoQE8c/jraWuAbBGBnqjcwK00TnJyWQPqgbeQsOKybuem0Y4/7FPB5MKGsHRiQHeacQRyV22DeKC3CAxWUWDenROwMgws62W4NTh4SGFybPDZ9OG6FOkGvp0oHLPUF8yEb5RlMRClECaACwtrodj7/aPX5zND0YX+gaN88hY/eMXowt98+YwteHCqnQPBo3zVJGdWtW1j/vJeMDWykqw/vAmelNtXwQ7gPXw8JAOAPoUry0Ite6lACkwC2V9Nj8Ysi5fiF08Fxe5TdS6uYBoVR31IJIWsaJDZKNub3lrhAXVH1J68+G9LW+t4dze9e7uendRAHmD/Eybmx6dGBCc8ppPn373rP2ET6PCm/e9dAPs6N07UztfiFhByLnlJQBr1fxgZeD8yoAU+9E5aQFRm+u3QJKK6gVF56QWHrfaRGnJCKTDhimKKvk/kBZGo7ulGuvBhUHj/JA5QJaFmIxbqYQZ/NVvfk0G5f593b89O9L1Xl9vIHguOhfI1cKIocAQokR0oa9TQr2a7kE8heyvrASL5VHijYJmYVWgquRkVlaCC6vS2EFFpfHi3ln05Ug7yicaUQLMgqFbZfmwm46CHsXKASOh83uGvSO/iGCav/+Rhq2p9UuV3SKZ8hS1X66UXFe0UVi84+RqDVFOkUobzu16o75cKWnlwQcsOypBmAiPDPT+2FhT+sNPpNJXOKUp9ObyiM+S7OiNYgAdHQlpOiRFXzIRBqpAE9Bh2hCxPJubvpq/djV/DS6NJtU1eCVhBmm9B42gVc782A7LLom4k0xILroQu5iaT8EGo3MRq5xBRkmYgm6heChXMSi7+dgfnxwfHj6jtQ/l7oyh6FyAlta8OUzTEJpNcXc13bNRTpPKAsFz0BbIFGgF+QrH3r2a7oHdRBf6ZvOD8KlcLYxWBcDRT4zOBUpOBpxa35M8nJpP8YR/xNOjY3nFDw+f5SqSweyd6Naj22CT99DyHlq1vfy6l7Kq4x+uhBJmcMgc6E73nx3pOhfvDRrBoCG9hYQZpOiTt3xfogrdqrYvfw5TyEbdJpstV0r2mr1au1VrOHhHtr3tXe9ureFEEomgIe+FfMhVXVAuzFACeJ6ncOqZ7gC8edD0k2dEExMbjdTUVctxZxBVV80PHlzpvX/ptzP/7VeQFzCFjseNYqBckLYPXWkCLJubDhrBq/lrq7Vb0mRQhR6xTTYl45IFybXoFaBJIHiOZhEPSyeaiome9chwhH40rAr1ExhCQqUxrekV4imUamSgF5a0an5AYQiLp5dV3RoDSrLqA0uIuncWV1bk4wM6I02A0aJyqjgk6gwrRn796snnW49u+xHV0VNe91LC6FUFgGx6NX9NigMlkp5iVXK7k1ut3dJSqbYouZvLoBj0hXYcJSqd6GQifHNC8kFbf5CPDtXfK5zSkhNINDoxIN2rqaRhxYrl0Wkjcj01C36BL6QaTDpADPXqwuooZZ2808oPdaanP5JIZJeM7onImZ5+HplfvxATYtwz1EfNz0eIilJQz45G5yIXYhfjhuHtS7Y/VB/74+Pj598/D6TDI8N+PfxeX+9bve/0df/2rd53RicGcD9slNPh2LtoWATT6MQANJjKjsJNWPdcgICgeNQoNpsfNN0rWkGHT9k7UW6BiCVMyXKOOwNYwKUj5vRPgVXqPntN3BslR2AazlXby3/15HPvoZWrhdEagoZ0JIGqc3ERMoZMKdP4LepEAUQFVYQU3Q8ecKNulwszmlVteWvNh/c8z2s+vLfr3S05GYo+GL7415Q9bdqIRBIJz/OUCPjs+EiiAzvFT4DhDfvGcXKVYnrnC/nUcUkFsFFOr5of/P6a5NSbE6KooofSOuAV4LqIdEtGKB4Szq7a0/RtqRnh44TWq0dQIa0tOFR2F2LyJ6JzAZSQhBkkpAE4WJWOwGsfS9bp1E9pT5EaL8SkykM/JQ5JosQnxIrrSKUrK8Hq1hi5E1ECRJ7ND3YWjHSi4VO0pwjU6taYiAB1u/nNXUAKnuU3nd0rpnvFqo6bju+JoQwEtghC+BTciiRNztBCBIAl+kNZ/ANIpcuVEt1/5D952aeSSHsjA71Pn373/PvnWuR5+bLt82y1WtNGhCY9r3goHoLsjE4MSMpVXkTUMrjPhdhFjEtQHuQ0nJYgFJeSpjJiv4zORd7qfeet3nfO9IhMSHD0jwuZ6hkSI0J3WiCMcBFXkfIWkdB+tDI0Wz5OHR9Jvn/+/XNCpGeoD3n+rd53gDzUR5oAFHegDyBbLI+q4lSAKWgE4dvoYhAubZ4iVjprPTKVvRMlg137uJ86MVcLY86o7UuDEubYxqln//Yf/y586ugZGi0os/XoNomXdGRVx0Px0KBxHpyKLvRBqaQFYUdD1uVyQXRDfAlfPfkcxYpLx51Zrd2CVYn0oBp/2n+77W03H95rPrwHBaPWM6wYaSCbmy4UllBh2jh16Gexnxpr3zCMkqdTrVo4+IRG1W1EVZ1u4Ro3JyRKQ3EhqkTvhdhFutKYhAnF0YkBYbvtzoNVzqhPgZj7sL9Ytj2ZETsxwY/APDoxcCEmLewfJRVkEJRsrT/0DPVp94z+Q2ANUToy0Mu3N4oSkKRPgAmQ0h1wIrlTu8A6g1ZFAUj1R58Hd6F+8GJ5lKy2UbfJeaJVKYpU2zeqW2M0nQls7DgQ/JB1OZAOE5noD+ihWiqF5uOVQZ8Fp+w1G+XBJ1ZKKsUis+vddTeXuyeEZGRz01RsSIqUfh3aLimzA6ew0lD1CFiopjVpAeyg04FhWhfe/ePyrmvq1Gm2zi5J9yRXEZf26IQU8Gd6+n/1m1+/19c7bchTxB41OjEQNIJYOvF8agGLDnr3RCRuGBqn/u0//v34+OT59897hvre6n0HOg3QIAQgzPPBRsuE+W+UpcM1bw7TZ+mEMIg3ovuNYmBlJbiyEpxav8Tbz5sHYCFYav0SSpW1o8iKcGwsrBqnRFA7OTk8PCSP+VRIOaccd2br0W3voTibonOBCzGRVEPWZWkgKBMZooNVHacQdu8sAnPQb/TOdS/lUyr1mL5/SjmtoHi1hrO7uQ4sLqyOohmLZKs6WSUnM28OjwxHqPvERaUK1c5uyxsIUuCU44o6zvuFXFUsj1IiUftDVYAVtIiIKd4xmI4gVzsBM0eBbRD0geMLPFmxQmHJXhNZPZJIADH81O9NqwehhCEB8yHkr5Dy6f0hQcDmRgbEn+wnUeX4gWRl7SiMAZFU66fwI90Ums0PYhKk+dNpoJnND4oys9BHoTCbH/Qjpx0h8HrwHZGUuBLpU0kQ9K+HTAHisyNdWiq9mr+G4IAkT7BBo7DIkHeRIAShXDHu2WuiT+16dxlrQYKAT5G8eSM05rRa4g45PBQJ4id1X7PVjM6Jb4iSm8yTTIRRvkPxEIwa5Wh0YgDrExq2oJgaf+nsbtJDAb+ic1LugVNv9b4jzRTlWoBMqXdajOkJU7QY9CnNBqn70NGxJgifOjl+dviMBiKXWociIunsuHcWdWeX9sdGOY3mBRc7O9KFFo64fsrzCUjlamFxXbpXptYvTa1fojWDuEA0kKhXVoJ0TCBrqfkUdhYlqMkTfvHDC9SB9T1plHBZf3jzqyefO+6MKCPKOj9onMfpyoMn/3GKBJgwg7mKQYPcqo5Dy5E8aQjSa0fd9OX8vbwEhApNWF7yH6eydhTDJ8QKBzxpQ+MUwPqG49TJyQljEtQvhDgzFbzX2nUxHfIpD8iCDhCIxCFBvA7jljTd9ZzW2++PhuIh6cSbIlYkE6JVlwszfLRGJwbe65OGUnQuQsT6cpXS+8Am0jDhxy1vvz9K/ZEwZYqDlMkd9OXVdE/Wjq6siEdBQxWBQYgyLEHdN2ic191nYlXbkrk9OictIPpCvijRLJDbUBJ05Oh8KUWcGqign0PXBQUZqVRMQtVx4VBqTg6E0jgFqScUJcyWhKIWPll2nFy9UUd82Pa2W962u7kMtiBB8HknZ7zX16ubZqdxqtVqQXG1Rs5om04IWTvKON60ERkZjnQNXukZ6iNRAA2kEYyX0KKr+Wu8W9PGq/vTv0v+45RGikBaVHmQUXAtN13ZLcLFrHKGh7VsW/Op4yMBKq2j0yvUpnY+zJWi2FMR58Kxd6kFkBjoEpIiQLeeoT56MTDzt3rfwRRK/Y8+hTthav3SbH5w0DgvkaSSFe52miz46cF6raMjqJ0ciz4lqq1iXvp99X0Je2LpGDTO0+uJLvRNrV8yrNhsflBMDMrFEzSkDwtmlZyMrkCZmMFmJb2VNo3CX0LvueRkkE7o0vrTiErzojF07eP+UDykcaodHK+6wm8mnyoUlkpTyWJ5FBNAz1AfjZ1kIgwTnzYi9KlT89KAo/DvnhAyBTRI14nZTCVO2WvSiMhVjPf6ersnpEronhCx4r2+XquciahBS0Dqrd53QvEQdQCvqvxpUxRVQ9ka3up9B0FjZFga1md6+tElMCVMG5HSVLJSTPMJEkVVOROvfdxfKaZvFMU5dTXdkzCDaFX94xd17+/mhFj8KBRuFANaP9V8Cl1iNj84OjGgNSxEA0o/PrBZWzwH0B9RV/eNP/7hs/rDm1Z1HBrRnZZBse50PxIE3gsUA22p8R5aQsSUTYE2tPwh1e/eqMsAr7u5TCeadjNQteWtqZiUFx+LJTqpfPzt6MhAL57XI5r7Sn945Z/y4UaKDvEc+K/7knE9Ncugr/xV16kU0yMD8i4GM2LdpKMRnZOpPT8dqbeKIWH5t2VkgCaSSJCCgkYwFA9RpuHDCqRlGJi/blixatWib6iFqtR8arlSapdRh9R9h4fP3M1ljCqkRBpYBAo4Rd1LRMLXIA5o7RDaUDwE0cPiICg8IJK8VJRqEOfax/2EAvK56V4RR4LqANIhRpjn9kHj/Lw5DEmBT4kjSTm8X/zwArItDT7lPfEruD1DzxV2p/s/XBHvH9WfNr7zWcKIy9Cle2eR6RypRpVJTW7ZM3aa9cdf78LXUB/sHbG5Yeq5mr+m3X1BQ5QvEiPjllqfkkygnHZvJjzpZ1UuzASC52iVZNuNbUapUEslP5sikyOWv9cnVg+xqqgZb6o5ApWGD/Tfsm35CJhGMDONiH6mR4RIAkkzd2rDQFpCl/zKx4wY0wCHfqoHv3UPCt7Eo6Ei0bbCJIX/k94fmgnTYAxpFcujZMrZ/CCoZLpXOul/dWvMdK8gHcybw0hIInWrMhm1Tneo6w9vMp+75a1tPbpdLswMGuf50wurYoMAp6RAq47j2ZYJB1UKgFOYZvx4W1NjW3t5FFt3c7n+8Oaud5cVBt5+E47vz//a0clMQj65S1IroJm+19d78KevMSG1U2Zbnzo4aOGvlQ6IGsrjs5HNTYM+mACWK6VyYQZ1EFnxav5aJCG7DaxyBgqG1phVtk9AKjWf0r8SiofO9PSDTQhefIrgU2iZMAjJdUrhKhSWOnGKuu/w8BBFEzFIO7YEJqaSVKluealcmOFtRmjrGeojsxHN6O6aVWkZnhR6dqQLbkUEIAmZ7hUoVedwMiqSOBUUxFADdgIrPk9K+vrDm95D66snn/OAkHw+b5iSu9P9Q6Zkwv7xixg4S44YNZgMJ//wUOt7Rq4m5mNZUKFmnv74h8/oLmN+YU4Q5QuSO26lEEeYf0YNnc0Pan3q2aH0+45P3vTdCScnJ1Y5Q8Pen2Nvcxlypw9Vaj0GEaiN4BimCoWl1HyKPRlcISPSBOyeiABSv/rNr9/qfYfHTJhi4AT0te0TnMI2yGg3yQ+ECqRljlWjG83oaSOCUR5fwnTooriCymmEMwCRPKrlcCTUq+kerHzop7rJk6uFacyRQSkAF1ZHg4YwMi2c8ym7ELtI+bZRt+sPb0K1Nuo2oIPv4UJMGs3QcN9zZ0fdO4umI9wfqxosnsEJ3wiqTDm6+vMtDnt576Elc6Z7een6qcEycApPjFWWmhpXl0ilbT7l1yKdfOrgoIX9RAb312x+ExUctPPlRlOk8eictLEhxoYpW1xY0gLuZJdktwkzNNT8oxMDdD2oFnkbtLW3Z6jvXLxX1314qSluqTRFsXpV973yeYKP/DmpFlWhRwcAUl0oCE5NG+JsEOtKOgxR4hI5H/sV0UN/E6Kue4hv9b4zmx/EQb7upWgA52ph0Ip2DFXhbH6QPzSbH1zfO2X4kroPAiU6evsLMzE7Hhi7wZSAWp8wRfOie0IWgUz5hkZFqRiyEY1GFX16RHl9T5o4/BSNT1lGpX3hmz+WDNO9wgKG6IKouW0+5fsS3nB96uXLl9klgzaOdvNlc9PyeY7ERycGSlNJnyupma2eob6uwSvao5fNTU9mEnrexe+RL4kBkG4gXRrGvEhyzHV1TMj7U1/RuYhs7FHjqLmKfIy7J+QLLULrpyPDomcRn8Sq485grMna0Y1y2irLDhLyExP1rP1gzP5qugeI1F1pTaC0eKozKMMS8+bwbH5w2ojcKAbootA+pq2EWgr1BqEkd+4ZepQnZF0eMgfQZD5cCWnZAX0NlRNAxBTKn/C3Ejg5ASZl7gO2trw1JgewgtPQR0SHqfF8ZvODPUN98ClJmad09IODA3k4tS2EDwbU5sc9StoIT5+oUFgCPiKJhGULQq3WbrFZKZubZk2C/61610EoanvUq0Ak3j3hm9ovxC5S6mMTnTYihcIS/j3+ELrAT/mUGBNe/PBCGurKNOwPN6gIoy8m4xFOzi0v7XwhKwRGJwagUeRGvBHRuYBWlKk39Ss4bfi5FERjUoG6jwwGr0acgljRJIYwB4LnSk4GPuXXfczN7Av9wTVX2xezL70VhHPs6faO7I0g8vRKBmQp8W3uyxzSRtnfugNuIkJRwWkzi961gM39av5adC7AhIfKk/L6m+4VnsPU+qVTfIoBK11hvZlXsAqjZ6Mb0G5mexeRwACHdLuHZXoBvRXPAeQFogQ25SqimjPXNZlJUB5Sx13NX+sfv4i2Ra3HBxjNgQogVxGDO9yNakBLKPxFpAyaPFo/xU5I+0U8KGoMFm0LMYuaEfUNSxcoRljCpMAsJq6wgOLSEuW0LCZ1xFNWEtHLs6rjWnlAJ8W5gvg1OjEwmx/EJcNADzAETdHeKJoYRBHSHvpDtWqhdomHWe1TIUqn1r2TrosAACAASURBVC8F0uGgIcO8SBDinrUuY4vP3/+oU5+SHtRrONVCBgOtyNjsdfFNg6q/KJBvFxvO7cIny4ZpoJPhjzBM2eXC26P1yEJhKZAO0zHJqnGEUDzUNXilf1wM6JFEAuSKmFJd5ir+jBUblIiwQmHJKsu4HNIaczPHSpbOLhlxQ4ZvIokEGQ+HKxHAfqVKMb3lrWnrFgjF27xcKclWPyWjwiVJhrDI/nEBUBSNcOzdIVPettn8oFUdh1LpJIZvGBsLmHUhdjFrR9t1X9s/pRb7McMBvsB3FlZH4erVrTHyRP7+R+jomhDBmenFEC7oU3J/tVYB7PPDru0eRjUAjECrkHUZ3soHhkmIdS8lzR2lo+PzVGWf7wN+MxGKZ2XZNsJ5xJT1QWANgsNkJhE3jEVDlnCRqLoGr2AMBstGJwaQMmhhI6hnc9P4CbBWgWvZJUO68kp9R4yn4tP9wUoxTffG3+yojKC5inw6QvEQtgaiEQm1NJVksmejLPu/MA9q4xUhhxiCKRpNjUta7Zh7qCtn84PkToSqqfVL+P7YlTZvDvPWs3ktOifzqiW1jAic6nQOV7fGkEoDwXOI6EPmAB1DdgrIGIn6vOQqhh72Rvaq7Rs4XYAOKfEe3cY7ilELgyiOM91nQ02Wgkn1EJHJRJ9Sw7w/W/cdUKZSWfgD5WpJCGDUcG7L2I4rCzld1wGJcMGLOOI687cK2SV5b+w1+ccwupGaT5GIApG4sK1EIhCJ052l44t9oXsiwrwCe2DYikmELVdKRFv7Yy/jcmpu5hB9wTBF6Uf1R5aq2EXNpDBn47tDb0ITFYHgziKGF+3uI8QlN1bH0U2JIcxi/eMXYTpaFABiWBFD85ixZEKh4wlLUjg8elZyMp2ThqzWw6XFIKG2thNV2uTir51SU6PIWyAUy/O4Tk7zYYu1CiqVcTueF72Hj0fGcrHupTr5lPJPiY7+hvvRT05OiDS9zMBQogRYgMtPpFUVk1Cn8NgUMgWGg0JhSRalqWWwkHfDNKQyWhJPMqwfanamp38yI1tV4W70oGEEMn+jhmxf1RAKp5IJSc/cn6wg3Ul0xqkkbXi3LP1KGt/94zK9D+vHwUDHkH4O3T3cgqF4iAzKnQlLna5QEsh8WpTQN16ISd+Q/Eczh3UdNcX0reo4y5ECwXMLq6Mi16hlcOjx4ANb5PT6TKouBr/EVKhWMK3Wbu18YTOiLCNi7TlB05W6W/cNyQ3yHqkNUahdCTPYqU+1RyM6dHSmcnjRBafYZFQWDdvdXG44t2u1xu7muuvK0jU9s4PIzS2AlLspVItZHhHw1SQ64QIQ9Az1peZTgbSs0I0kEvO3CqF4aLlSIs5Wa7fkfVXOC6rOSCJRKCzpjz3ts8PDQ1+ZUoI9aqh2Xck0vJP7853PliulQmGJYaszPf1nevqF7CwZruuQ4jbq9h//8JnwKSdHx4CGI11nbF8Up1jPgRXqPug00+0kIho3OKHbT9jnUy9+eOG4M6gP2CCYHyyWZTvgbH4wa0dxG2tVntlDtjUANLpmZMWC6V5BONMWeUJQR60ecxcrg9pTiFuNsXjpMSt32Ck+Bdl+4+3oL8Xc3FZAtB9F8CI37ZZlpTXbqJmmmMwkugavEDMCcGo7NpA0mUnQ6aM7rsct+scvdg1egdSE4qFAWtZSa408aIijjaahLGlwcmRZq5wJj00xikTGpTLAIXE9Ncsyg7WPZA8lwwAkwrMjXegSXGJapCfOThW9qoH7I0r0DPXdKMpUM286hhW6PRqtECWiC7Kajdl7HSGgFfPGVnWc5a4Lq6Pre8bC6igV39T6JVrD0Be6clpvylVk6h66BNnHiODXkoryw9zxInSnxQTDzCNjRlY540sQewb6VNs/pWZjf6qj+3wKW6APUurV9wegFZli3Vq9Ua836oJNrgNOsduIZZLu5rKMX6sdkmBfJ5ap6Mnaa/4UAgSb/GZYMY1uhmmAj8uVkjQTbbv9sVd8Ss3NSHjZthShhSXpnihg3d1c1zKzcMNSxXFyZCp6jtdTs7WGPG2onNS5atclu5kM0/dSkgkZcEc6hVtFF/q0fsnWFwaS9dzD1XSP7vcxpoRtEv/UvDmMat4/Li6YlZWgXoJMVFFdTq1fQqrv9GdVt8ag0EwX4pbQOhTOTw1Y/r4qtbUKRwz/CokSJQdIStwtEq8Lq6Nan8KPrnalv+n+Kcmpyq2jjYWsECEAKmUnV5HST9LS5jL6APmS0LJsQSvCwF4THROhA2kiEIlHEgm08Ig5fS4uwzf0ZM70yCctOieD9+gVWiep2MVCYWkyI9OsRDV/V/6KGvCgw8POE7e8tOWt5SoGifCt3nd+9Ztfk037xyWb7nwh05oY69mPhOgWnRP9lCTa1/3bhCnLEogKbazDlkz84KIScX1BOo8XYhcZnMjVwrR0+C2rOs56GX+Tx56UcnAxRG6/b+jk/HpLde58p15bf8ADoVtGiA/kddmmzXS3dXl0YmDIlJYOEp72LZvulf/M50m/jz6lHkB3XYd3dOOWS7kHHvlL19plIKsbZDJD7XDgp7WG/C5f2SWD2f16ow5mERM4GPTYFD9yN5dJd7mKQJUMK5giQmmcUuN9si8hbhiGmXU3l32ZjJp0cxk5U56wWi4BvxMIj8TZK+RuLiNSuIotYqpYrpQQWdmXRiBCU2kFgFmDxnkUAb/gX+ij7sNLhYRJVmk/Yb/N/+KHF4RaOPYuAzoMRbN4fjY/CFMjvD5cCem/ItXl3KslyJA4DVIQKzR+QAqKBLFiLJ5+39mRLi2LMnqKHFbbV5kzHvIa/hzy34s+teWt4ZjFkwGJRtz0k+vmMm+xu7lcKQuDJlQqNUmxDFFQCWqlAuhBjSKJAls9Q32RhJy+4YtTypZFoNJWIqQrdhHvzo/nYuDeEt1WGUSvp2aZZatWrUoxDcmiLtFGUD2jmpqX1dV+n2dJCAumwtR8CusDMhaXVIU0nSFWuZrsNZpavxRV8QlP14FKRw8JgoYd0dKZFNlRhbA9tX7JT5AVOZBl69Ft5FEQCqSThKdWD2nKr6ML5NJ5lN3/mGNMRwgpvmUEioXVUd3v+xl9qtUS/xRdcCiV7PZsOG6p4mtSSpZyXbUWsn2JYsX42KPN331dHmPP0f7j+7veXUBqtXYrNZ9iwEcrXHBywMIPlCVBJY1fOr+J777tn/JHfnw/+qFly/oUfqXh3ObXMb+QGKUPWqrox0RryKo/ZNk+/PlDRu3Uyt7CXEXMgSA9ZBtrFTuGpABsAwez6bzo7C2jA7JR18Dq73V58cML9gEx5s0lpj4wjiiBncGtWCVa3Rrjxmsf98vkunL0MdaAP54xGk2smD0ErUiG3WnfDO2PdluXRVZQS9bpDwrhb8/3dTSD32g+dXLysvnNXe16pQOF1Airaji3fyKqqqUi4BeFP4FhlTNaWnI3lzOWTGXjYQZoonPSKOwavCIgFYnT84kbgj7UmNWqNW5JF4ixW39on5OH1Nwy6hhUSAConIb+73whjm0Midoxc6anPzoX8bO1GnICy0hybO9LzadY6IaOgcTOMSWoBEionUeQMOGcTITnzWHE0M6ZZ24k9TK8AUdjhgZdAk0TAnv3ztS6l/LN6GqM2d6REVfthtE+HvALAcvXLvakZ226V6aNiN6WxYOve6nogqwVwCPdEYqv9KkDABs24SeozeVXe2SULEXFB6vSpd+2t/0vbuobu/vR3Iff2N1yfNZ+c//x/W1vm1+3bDtjLXnuTr1RB1DihmQ2ZtAnM4lFQzbk+oCiRkMt2+fhzAd1+hI69SlwCjAiW6rYytLLqzUcz90RtNpchuHToxSRQvlXOVNLQFPNdpULclgLHQ2WDS6sjtIH0H1irXpSAEo6Ulul0KSYJ2DHCzW29qMfHR+xapLl8WwrZkAhYUr1x3tGuadHoFdWRLpaWJW9OtyB1If1jg1tpntFgxSGKcKUrWkJU8zo9BAEf63L9G6YdUBEKDkyn9T2T/mL/d58far5zV2O0mERoKioa9v+jH6pIgska42Gc9treBKx7RYQJJ3oZfQMYw2pFElUe2LE2qMayuGxqWAGy5VMxQNhpNvV2i2tdi1XSjCp66nZ1HwK7yE7kbJLxkZZjm7ii91+bqmSXZKDAij3REHLTaNgGKa4HNzNZdkuoCqDSCIBsaKjj1KmMyjCE4oB+Ym2T+cCGfRTVvQRGH3dv8WQxelKDPlyAArj3BAuun4MSNDvhjdpnZTKkTgkROFHenstLmWOLMGJxnq1atWivQPhGjTOKx3dX4p52pfQarWicxH2EEZMdeadIskiASiEEue7+q/pifOdTIVE9Wjzd/tF8+vymJf/9Ovy2F/+6Z+9/Waz1WSWR+KjI2hqtYb041zHMLOGaYTHptg57ZYqhU+WhRsvGYVP1D6tzWWpN10HmGvP9/n61LPDZ4tGDpqtGZMI4UqAR/hnLJsp7WrVSs2nCoWlZCLMkXnXU7OheAj6LeGlusuAmvBtZQ4k/+hBHwwQZ3pkkoBuy4WYLDnCIlzdGmMqHecIdZ+yd8u+hKPjo6+efO7eWWS3LK5ftsKzwwyo0pkQrgRgfbgSQoCAfsPJp9Yvdaf7B43zMOdTRR/xwfgx2ybPjnRJ/OWvcdjE+p5w+K+efP7Vk8/hU+zz/DvSp5gQYiCWzzaXBJhMbCghlQD2r+tKUNUE8G7dQVqt3Vqt3fJXI5jGrneX5ZOGKVxJpiMUDcdSIw4PtUMdCwLVn6tSO7VeIBJ3XdlU4TM71YyCHDlOTj5Bdxbl01EW+8Lb749GEuLY4rRK+pWFwlJtL0+Tx16T5bcYDNkhg9NKn2bCiIXWT1mlwL4ECDuFHjM3TEHrpMvOXvaFYmgg/NAfcLozGI81hwikgtMjO4AUijjlJzHJtDxiCLsGsHaLyVZRe9HdVVuwtm/8FKde09HZP4WsxYGdpiOtOnQlQGr/8X3P83jzuKQMrDfq/+O/Zzx3p+Hc3i+au5vr+4/vNz2BKs/zhNTkP3Vdp7G2TX5rrAnPsmzbsu24YSCHFz4RypOaT2nPS8Uu1moNEO2n+pToJ88On2lEK3yyzMmdKnSyfuZsh8Xu5vqudxfowRpaLszgbUnNp4hsTPAIHI4r+y3pPbMPiznqMz39OFa6Bq90DV5BSsAOh4QkexHbw5yV3WJbn1LrnI4Fp/DRoU0yj6YXVGAdvvZxP3kJTVQrVuAU9R1QtbCqtmipNVWGFSNEwDiCg5p/Nj9IUcCoRMi6zL40ZrsY0dp6dJtGD3xKk+03349eazgoFVvemsx/IE3Qp26LpwSehirNqoSnqBMfdjfXWTmy/cDzF04q0R16VW/UIWjkQkI0GZ0hy2pFdblSogJAr9B3E172ieinPA4PRaXpODlMyFSdaFgjw2JtLxSWMFG75aWMJQ0fy5YKkUY5PXQ+qiiPegjsXLwXLwIxdqMoBwVg+NTHVqJLoFewSQKPPtoFcYhairz14Upoav2Svw5EzffRmyZEoWz0nYEtwk9nTWJSLy/GVIHBUM2ZyWgknk0uB43zPUN9bbOkXtnYrvtarRZkkhk9PdaHx9LdXGZxLUPPUtY1v/H2m/LWYlMoVVCpAAUhU60mM4eeu4PItXHL9dydWq0ht6iQIjsZZhZahDfPsqVM4xb0exDtdT5VsYtO7UvDzMYNf1haGJNaIuEbKZS+RufRKmcmMwnHyfFHoeVueYnCgTrRvbO4u7lOs1lvNdMcW6+IQK1g+AvFStZCqMlkvbnFvbPYxqlXvgRcJ2yzZuEUvrsbRTlcR04wVc1ElHJ2niGrQ6b8xa/qeNGF1VHIFA4XjW6EBT5SiJves54wZaMWUIVXhSO54FM/KrLt/eg6ON5oferlS/ElMBeGTEHr9nW0ouhDBACnaFs/2vzdN3a31AHuDkpFvVHH1Yx9QWJbZUqVLCXGkERRDxicEFj5RNoyWqmQP1GqGGaWfh+VoO6M88jC+DaX0U/ZeHU9NRuIxCczYsGBmvEIDIcVCkvacM9WBhmuVpbLcUtOw9RLK2nnDZmybpgTcGFJWbUinfis7UtTm703TCyikxKEWk3HHqilUuJWT3Tx+LlaOLrQh4Hmw5UQLmidNakZOUOXGWaNU1Y5g8ZK707bTaNzgc66TyhJpy8BnNJmZe21xZxdazjglLcv6NNqtR79y1+bzQMfqtRR7BIHim3tP77PcWB+hbgm5/EK21rbdl0RjEArORfzlitWBnWJrmSYWVIQWQW+xi2tfSlZKaPENnl4WCk7lbIs/Ob0cwBIJFLKTGWMQIZoOLcRPglTrH2kxMTcItWiW15ard1CO2B6mRULuJZpBcpQRSTOKLXWFBAIOCMH6xPRAE51zs24dxZZrrCyIkMDJDpGrrR4ybYgCkliAlal5QDaK1Z1HC8MIYIqgUVea5MksYQZ5J56+To2VCLDr/vKmZ6hvrY+5Qv/fxd8yipnWALhD22wgbtNqQSPvLtew/Mawus7u0D/4qYezX34dXns0dyHf77zGfRftp6qu8GPuD8SB01nYoaQI5WqqMvSnKnYxUpZrIWVmoQlIgbtHeyB2SXxSQBwnGjguTsQOnqLaPDZ3DR5VALViuGfyC6J/Iw3FYQig2pHO7YbrILt0ULhU9iJmcHSDX2MBaxI5FgtjFo4GLRUSsokTaJ5oa+DR1R/TKSyN01vRtNDZoAUejynJUDwxQOhDnzRO45wnLKymc+O2uvyU5ySfQlKXcbJjq9ML4Gy12xwyn87mweCU62D/eY3Da/lNbxtb9uPCc8DyIAqikGp+0oVwalSxadU7dBprG1r5wEFoFDcT4RPVcrSW/QanpgPXKdNT9CnTo6PjygJZeFZBw8Xi6lSTCW8NpclDpSapnEKhwthkVRniuF2kYBTajpCFVoABSCcHI8fIIUhWA9eUQMyAwS4vHbwxKv9UwJVZVmhCZliMSEAh6ag3S5s48PFB2OimrOq41Prl9jUzLIqbZRHViC8mM/iYIghU+wqelC+slskZMEpNi692j+l9rq84X70ly9fsmMbfTNjyXwVZRfas8CTSqtNT/QHzapIlsipDec2V6QCaCsV254kVJIr4Sroo6yCCE8iHkVnwCmkdBRVKQVUvYnHJW4Y3AdlnXRYKCyhWPEkd727f/zDZ7veXb1e5npqFv0URg+9wnvMGngtnrK2QY8EshoUdaJr8Ipm+lZ1/EYxAJ+qP7ypx+7ADr2uD0olHnF1GASz91p/gOnDx3UihODTrmGjv1WWM9wAKRmFUXP77Djj0ANAinNJhJGp025EKlUHWW49ui2rO9S+BN3cP8WnDhg4uJ6aZdkC7vBcRdYh5CoiVHVAlSAUQSBXPMlX9UZ929uW66rZ55d+qugTnCoveflPkahEaFc4JQVgm1UZpuiUSOOFT0RBX66UUO5Ja22LquyfOjk++bf/+PeKXQyPTUUSMsnFW2vZ9tpHFmWmsC27KPRN5VJiRYwzwsnl/pPJBYJM27hwcjHDxSXjY5ApBlMjCX+4ATsVywUJC8ws0hlRx0a2gdWnJ4dHzzjwWbvP1UyiOmBS1Yystc7aUW3FgoFjz9P6qCZZU+uXtE1hav0Sciaw1XkSBIIFIIXJs+RkdFh08qnmw3v6vJm/h/VTLys1B84LBMCtfL1DVwCeJFHRs1UjSHSi2peS//KfIm9jppGwVaKqhBxKRXlp45bbWNv26T8Gl0+WhUwlF+KG0HYE1mR0RkJO3QE5zLLtZFR6x3SB6BgiOWFI7CxOdzfX//iHzwjFatW6nprFTD+ZSbilyu7mOlIalgt0CXZnM9uscUpO3FJDaZ36KR4a9gXJjsb2GkV93I5GmWsf98Px9UZfFu8BOugPuVqYSNOH72KaQW73ne5qUQf6Q3VrTBd9QUN4/bm4HCzqH1aojgukRS7r/NUC7oQZ7PB5vqajHxy0GOOm/7VoyEmzkEyMczLEp+o7sAOQoqpSoNMUVlUTtJIfeZ4ksX1p+VHxeflPrUJFZpjVGw9Oya/XGn7PWAEWDT5y16ZzDz5Fjmp/7BWfknOxDit2USFLdtHIGaZg3GQmIURMee1ImzwCXZtQPBQ3DLymhE6l7PBbMCY2ckBH+efT9SOLTmYS4bGpQDociMTP9PQjpTOID73yT6NQCz303mHtSzhUc8hK/pTkVi7MsASGRSvYFIAqX1+sjjvuDKgE1iBIaZqtl8kMmQOyXU+dQngu3ksL+cMVORXiXLxXjCZqCw3J8NrH/Z1M6hSf0ufNcHbamzyEfHJyIoRarZdCr2AMGFbFAat+k1opFc2mSq6eh15O8tt+4IezPrUc7UIgTOkViKroWbIk0i5atr1oSBMc33kyKh8TEaHKcgsBXLGLkUSiUharsyL7YkgmC/rBqXqRUvEp/Wt3c10WjahpM8PMyhCYlAhSGSCA+P1BNR+CfwjxW1QqO5qMzvSPy3EVLK5hcxZGB0QJNivM5gc74YnxHURMtlwxZwfD0t09rVREF/o+XAn5o1pKJGVFx8LqqD6KhYYPgjo+vk7OxWw/I/1X89c4SEn71wnFzvm+n637DuiYCt4rl7Ze58JmaKk41N5ITaxo9Ios1SbYGn0AKflWZSfqPnkLSxVY1XZNshaOKq/hwbEVpjR55yplX+2Sb5XX9BSfOjw8VDV/FslgMrkgpVxyYeOWS2Unuci7+5d7fiRml4yuwStyvlbDq5TF64DZD57FoDJoFZ2TZbWiuJczk8kFOcBZCZxIBhyc0zUo7n6sCUzV03OBeaEUtIHVzwksdGfPLHOILPBjFR9b9yn+Id54VfCnMKDD4AtCACc+fLgSAqGGzAEy3tmRrkHjPF8UhjSS5WwIpXeSVLce3dYi+ldPPs9VjJGB3rY+5VfWb37dJ55yO4pS4W9nVMd8Eaia/iuK/02rdaCVCl0DAmS73t1OnPLcHYGn/Kebzj3QClYO/Scg1b4QaeCIpq46evLBUYFab9RVUGUrZccwDYIHWQpnA7oEOb7lbYsipg5fAf4qdlEJ8JJ9kwmZgcVPQ+mHkQI5AmU9GZ2ZlEVavnIKpWJtFoM1LNLCg05Qcba5Vtm1iU8fSrqwKmdhQPz1keCoEPhIUUul9bwn3kN9gBt0nlUzVAN6ll4JUgH4lN5stbA6Kt0PtVxB45Tq9+Gfen3/1LO/ChdVjEmPGvDSMOGJHcteEy8/HTQKPXq6okntt7yGsCpZ2K5Kfbn05BbhrooYy7uuvuj6AVVglh8QDQ+GBSNzal/6DPmUPiV86kiZDETCNEwxdqKjExwiaZUq2zVxUcgT8O5CoK6nZoVPfbLcqR3QBg5E4npFEQOlMohv23raBmsf6Y7TKN7r6337fZmMiyQSb78vfn/mLUhi7d4qBFAOyGFejCXLeKb0lBbjfvRWNKtidEb3XxhbHzTOA1jn4r0wLJZvILdz45A5cC4u5+5ynJHMf6pjwaMLfWgBclKbKgEoADv1KdWpYO3w30G/r6R2D6ArU/0hqM/fKtCklky532w2D/TXfvMbrVhJauQOLekOSZOarKkUVbdU0aWfRKkKpIZzu1xxacmp7CjdaqlClIYlge15qBbaIAqTQnEXMFJ9Hj4R8gSU+uEbERRNy6pl34AgTUNiT/6Bah8kB+cwLyGHrag8ip4ViMRZXqTF005RAp8NpwdqncGwYvocebCpXJDT3qFUuD0xCWLxQ1avbo0hO0DwQSjtpaKlQ+gmzGBIDfTpM3Rlk5c6Otd05EyTTpyazQ/qvcPaIvPq/L6DA+FTf/zDZ6A7RhIGkchOjAVgY9OmKvqAXkOOsWx6Ylbg7URK329+I5arRvMv//TPwFOlLPIkOiIVmX9/d4fcBSNTNMzXvCj60NFZmYw+JXvyPpHhUia2Nm65lm0rlSobiMQNM9tYE2kfyqZG/KRPTDAZZhb5AN/DcqXESATbgnjXcfGBfeGxKdmYYwomLhq566lZ6r5QPMTKh7hhgFzwqbMjXV2DV9rnzfi+hGeHh/QK0bwQAdlJxszE2ZGu0YkBQgGyDb3S087sFfpwRTZj6C/iQ6sGkKbudP+5uGx5Z3vsbH4QQg6ZksXELIFVisBXTz7P5mQRuOZTDE6/+X70eqPOJh9kCr2cAOPlcqXEqClJdL/5jaRSz7u7vw82iVLxQHLY3f19X6ZQarpIEwqnvPynXv5TSj8/MlUepQNIDUjDp2IXN265hU/EAd/0mjJ3sbZNmBGTeBpEfi2mqQ0bzm1dVFJF6vhESo8kZE5Dry2CNEGv/BV9ajEkBJ847Bnqm8wkwCkEdfbu6rVr7FQJx95FsdInh3NeAafG644epwvjUGcKtdOpQK8GRQJlXTuTWSvKJCx8H3MMHUNCVM5JsC7j8IRJsS+7s+77uT15ik+hOLrKDKWhqlqV3caVmoNtVzYcK/cTINXZ+oU9eQ1PUlZLYIv3zAeLUoWyXxLI5rKo6UqAh1RTRULHKBi1V8vblze+XUZRlYg+lZhbtGwb8zE4NZlcCI9NjQyLL45Y4cEhWXHDIEQWjRznMzNJr4125D1Z367MBzK4oKQuwzRGhmWxf6GwxO92T8gJOsx8GaaBFsD8IPq69qqpc9vFj/78++ccxMSpM5zdBFolE2HULjZzsReY8l5nMOwq9k6UINB0CdWAFId4yeFd3WnZYEN5yGC6nO3sGLKput1bQbysP7xpWDHBqYac2/535EfHvrv2keUzGjXcywokhthl5QhKUHuaAvlJsiPNn9qfCE64v18BqLrPLYmcahVEIEdUld9SbRnGvyplcVehohJ+G7dcCsl2czALSIkGmlxIzadEI1eFBR7meqMuuoQqQQxTdInlSgn9FJsOMjxb2/AoMHbKaQCsTpbkmlxIJmTnDD2lztKve0JOh8KYQj8aFTWQltOb2RNfLEspwOEm3el+LaHiJZYD2Wrh2l4elLn2sSzv13FFmy9kXdb+G+uwtwAAIABJREFUdRInIxAh6zKjXUix1aq1sDqKP4bS4RROffXkc46Daos8r+noT799wpoEKd3VW8vCAwiU64p/ylH7HCj6oFRc99wd3mCfUTeEZrf2W01RBKQe5KeNte1FI4cU1fK2tWnFF93b9Ftxb1HindqXtOqAsPZT9/t9P55BaJgyN1NxanCuRSPHuyjTBrUGBB6+JvWj8uwhLjBXSAxhFAah6LmwbRZgYteCr6MnF6BveipC3UdoGhbQt98fBbB+9Ztfdw1e6QBWDhw8ZK8pw8CGFasU03/8w2cbdfFD0LuhciRoAsFzsCoNVfR34VO8/RqkwClaM/os5XPxXr64MzKq7vhAtjlRQvMp7VB78/t9Jycnf/36K04D1xPsKBWcXCIvlzq7yN1cvt24o9d4+E5A1eohs5JrpXPdVlQlShWTAqT85k/bpSx3U9MXGraILukgNcT5jBSL9KnlgkVDPMYbt1y0Kt9L6Hl/ufeg3qjHDcEpqyDGHaR64f6lCsf0chLdyLCcg1kuyCH19ASTUdmwHoqHVDCLAELWfPv90c7jMvl10qoe9uQcQ865MqyY3mbFPKDm8qAVthgsDsXyKOKDliBo3YBKg8Z5jOy0dDi3BsE0ZF0uORkcf1xHJ2XyifRJytS1yOk9eU+ffldrOPuP7zec26u1W4zFYPOnkVFrOKu1W7Icq1mv7eVfiVk4TVR+8oUAT2FTSxSB1n4LbuVnKlXhN7mD0rC0zu27rg4OfJIlqoJYHzTP6vjYyz7P46Mj5PByxSWzGaZxITgpfRa7SLgQRl6jSeignrbjRrgSBlHYE3v7KNzihkzwaGkgNZ/C+oDvgUdAdCcNdu5X5P3+2bpvZFgOgxudGGDBtmHKhF1tLy+zY2o5kZbhWUU0ZA7ofQy4XTrbf8hS3el+XfRBwRDa6QETK8QTgnqnFqCJVTY3jY6u+ZQyrbzp+lSz1ZQXUOnQiD6Ok7PX7EpRnYlgF3Ht6lb1tre9rXRrVEsJV6Wfij6AwMplu/mDOEUZiIokEaUoVWNtG3qlSZaIs4qjsTSmneFyzIEBT0AVC5EFChXeyV+TcVfxyuAZTMwtXk/NOk6Oj17FLhKi7CbqnlCHQSgJgu5QeGwKrR0WBpyRO0m33RMCcMxRJBNhsinnmKBCsJUctfRC7GI49m7QkNl4FHfZ3b7QpxeiyXB++0xc7O+kQwo67WBgiAcJgvbO6IS45HUnsbJbFEavPgJQ+6+efH7t4/5O/9RpP/rTb59wYCnvOjWXpq+JOVmPWWs4TK7WGs5GXY5vQHfvbKzw3tMDbikjKFClVHYxK/hfSgjwQUolsda+6M6tVsvbb4peoHVN5XLwPK+TTwk/OTryGsK5SGUbt9zE3GIkIdYBij7iScQIpSkQQ4VPlvF2Vmw5yhTh6e33R2noah8WnWZ00LjacqUylW+AwI4cHpvCvcVh9PpgEmo3zaeUL+H4RBkpxGyleDUbaen97Xzhr/qDhweNIHEG3jE/KKZk9QajIGDRIiz0qA0Zz96JTq1fQkfXHoXOM5azuWngSYsCXz35HE9zW5/yDV9vvh/98de7nAPeKaqygk6vJYD4o1VppQJtFEW16TW3axKZOqFKqCg8aji3pe+c/5StG0SUgEvDg2HJpfqWco8Kjszqug66ROET2dO9ccslhNAlKnZxu6ba3OrXaexIVajuCTkSQaNUqdR8AwR7+zDxtRciSfsIxzJhb5jZtY8sfAldg1cQrSzbpj2N10/vuvJViKmkv+VKZUrU97d63+kfl7OzDCu2sCpnBeoeNJkStsUppOfivZSBVHzavA6r0jgFsWJWBgOETpOwKvSp6FxA6+g/o0/Bp1gwoN9OjVMMzVHlffXkc/aK4lg75URXcNAUt7qnqj8FVZh9eUfBpqbXlCv5T/985zOvodKamFxkEAf7Vav9H7cwi9O2qB4fHx8fHR9tP5De4qZzD6sBg368YdR95EnYOKKpZdvigRKhXTZMMUATSchG2kAkLl0b5R3FyaJ7zxB12DinrmKCZ5WtxinMLIjxnXyKtXPPDp8FInE8xPAmDO60KcBEDhbTlne2O54d6cKhjneBHgpMO2vL4TR6yoGpBdzqpDhtrYou9JnulZKT+XAlpNckaKh6re77Ozi/7+XLl/uP7295azAdSVdqnLNatcigW96aTqWIqgQwEavjcO/Bt17DkzS53yK/Cslyd4QbrW3T+QGVdr6wpWWk3O0Es0S7cjVDpnSr2ttvOrUvJ5MLIpwpcb2xth03xMWuQk7mKwA7ArXi1BjD0AoG7T9RMNSyWTwxYk7OyHm90CvCVbpAyYVAJE6UFgpLI8ORC8HJrsEr7IMPROLgFNYZzDRnevr1EQFWdXyjLEdRVIr+AYLMhKFnjU4MEGBaf9C7onRLRwsLeI/1tKk28Wks02NeYjZWK/fgU8im9Yc3k4mw3j/1o7Zzeq+L9PuUZ7fWcP74h892mnV6f9LvL1Q2brmkLOq+rUe3t71tGRFqr3zxa37Ke1Wyydup+sHwKcAImu2/2e7O//jvGdR0JWZJQpOmjKJU2s/SPPAZlq772D91dCx8SrwRNW/TuUe3BdNAuSy7GYgk/y9KQEmjBw51ITjJm6e6eGKBCUTictLEkhSDANlkcgEUYwoad3tcbUcDnshOUGVINWdGMHzTPRFpP2GfnoBTmK3GLX89PE9AzkM0p5lQZXU0zJzq770+2XiLlZFDtFnSyKzpyooMcBFJpnuFkSvTvQKHAs7IbFSFIesyOwb0sgTp96nDsne9u8rnKZ2Kv4tzsR5/vfvVk88lMtWSFqRVSZ9qcEqaQmrLir+CUtluEKqEIinE0QTfZ/2k1bYuAVRBo/5y78Ff7j2gr+1DlVZU28ilyLtvzXFdsRALmVLriWq1xmQmcSE4KcWd0iXAPqJUTH9qSkzCWJ32hn1U8qVaUEWbj+RKrKKoYseZzIgvlEfm1yksklEx1kDP9Tiq3m7c1/1bZvo4kFXOhvHWGE5GzO4fv9gz1Meydto4N4oBBr8xmi+silClpdLudD/zW0z/LayOorIjQeA67k7L6bmdE6aaTHGCfHsO+QBS8lrd9/Q7ar1d7+7+4/s7TRmC0cW/rBNo1re8NZjUV08+33983yfbKkTaOKXYkOr3KRajoEo8KWp9goIVdHR5p1EiCRfVHJScpsx4JLdG4zEaPE+s1fKfupzWK4TqyGv46hVZyLLtxNxiWVnMVb5CffDvg46AHwrnLgkHFwJTo4YplR3Og0AkfiE4SaZiFJ4h+EAkjuRJqdgz1EeSTCbC7GYUmSwmZ4eAU9qP/uKHF5PJBU67oc4KpOV8DoRSER3UhD0Pq5MeylfIuswXU6acrztkSqJjgxXe9OrWmJwbqoaq2E6F/5Mlxfn7H8G6ZdW3UjTR1GVfQjnDvgRwSpwf8t+bbEeX5/b02yf7j+/rzo/sk1P+I0WEZe0iRZ+E7iMZ9kSmgFVJpdae/pOKr3kgsqnCKRwMMmav/ICsJyIm/abQw3uEtJD+A1UEKKszKVaLqqKfFmSrGop4Ym6R4JGBMLQI9CklvQv3d3fYUES+JFaZ02LZMTSqrZyKwV3OGzfpKoqIjv6F8xNbXyTh2xRIqPr8SuKKM+tg8VY5wwrfbG7at2Klw2+/P6r1dZj7ykqQhjWOBGkOLvRxDDg4RTqkpYO/T0ullIcXYoJTjDd99eTz5jd3OT6Lum/eHO7weR6e1tEPnv1V0o76qjUcyRsP78l72d7BwruLRKX1SBIXP3o139dQaKW2vngNYUkseNndXEcXUORGqNDX5TGp+9SWGHwMrZZIVPvNb/7yT//8l3/6Z9IdkzdteqL7fYfwKalV1fCNHhmFaRNkjPLoO/Deh8emPkjKIV2RhLDo8NhUYm4R+eB6ajZjLQFPktOURQs3Fgu2I4kEAdcz1Bcem3r7fTk+qGeoL7vks3o5Skf57to+T82nDiPm9Fu973QNXjFMORLOsGJSj6hVjYzCw89RQDlvTk5nUicvcLZSQB0CHkiLFBqdC+Tvf8QaRigVU8osqLJ3olhXuAxZlz9cCaFbQcoYXyg5Mjh6Nd2Df0rr6H8X5zgcHLTESv7wnjYf7Hp3FaHIJeYWIVZb3hoa7Za3xpYx2VpV+9JXlIQySbg++pe/gkTYQSUOxbcspR9BCEJJtdgGF4VrglTgXVuo8L/11IBOrdbwKzu12ANBUzSv9oOwcUSxKsnchplDlGBCkFEtHDCculSxi9jWQeTw2NSkakMrp5U4TmnvJKMzDOdreHqvr3dkWI44hNFL/Cz0BY0g2IcEwXQOR5xwHiIWB03Bogt9SA2MoHJyJZzdsGIkS/QpxmVM90p0QU47PxfvJd7gXxxPmbWjp6TS+sObnf6po8PXfAkHz/4KBtHLE3lSEau7+/toQFBrMpK0/BTZlkvlB9ndXKfspxDzyVRDFHFgSLBJ1fxyRZWH9YaUljQWeVM1CUfeEpqtdHc2YLR1dP9YhOOjI9ox/mBNqYJ+iQeP7CQh4u5gTQDUGEIGmEAZUtz11CxMSpX04uQMj011DV4pfCIbF2Swq+xkrKVAJI70zhWEra7BKyPDEVj9mZ5+Pc/1E2CVRTTPyI10kQEjTuWCtzIL1jV4he0x7/X16oOm5aQm6zInx1IYikiRDhMc6AWUfr52oMavrOo4S84YU4CfY1jXUAUp6+v+rcapvxc/+snJSavVkul/dfQRESuUSvmeKLjQJeBTSFQEsN9EZgpVBaSmVIJTykzjd4SYqVDOG8/d2S+a+0VTByo5WC4973WlgvFVT3mYWQEymVyYTC4QVAqbRCKRLwVq9UY9GZ1BdsCfGYqH8NB0DV65npotfLK8aOSoA5j7I7nKBjc1dT+ZXGCPFaI7MYzKSSrFUgPJIoSQSrns2Nwti7lZEg+150He6n0nOhewypmQdZkzQWje0czhDBu9l6rkZEpOZmr9EuIU1B7LMfdJ/uNUbS8PpdJSaad/6n/rR6esA7DaQ08+rYWS8ImiuUu1pW0pXCECpKyDJekrqrLjLSGVNR/ewxlMWUfDRVNuHQqCbmrRQmu/RVVyJIWfrEnB4y59EzWLg/tOdwABVqAKdx/cMDw2RWOYNCUZKSMT8OAUkaTDxbJtYE5MDMkFCkb87rjvEAuo/i4EJ8lacUM6iQCrrvvQp2ghY3JJJsKi8bVXJrEwnpTLc2McX3ifOc2WJY4UZxa6eyLSPRG5ELtoWDEmlrN2NFcLl5wM41ey9VyN9dEBRCzgEpzSl1QBTa/JHDKiwJtf+LVawqdwP8l26Ue3AaNKWTzJTu1LwhVK5SsVSlFl2EviUFnSJXe2Vz/qK0rZFMkCI6jPgPKfQvO14YYKQLlqZM4ZVkUBsf1AhsD4ot8Hbcfk6au0LA5pZ26kUjLf2++PIkIxLJGMzqCUS1nX9jNjRJB9Mmp5QzI6EzdEbEU9wDYlZz0EJ2X7QlnOjMjmpvvHL3KUqbSSzGnsDrLdSB0a4Muy5QxUC0YGpeoavMIuEMOK4SJmTeOQOcCgpe7qsO6K6VQoFQo6gzXQf07nFkav5vugvfPmML4EXyo9tSfv4ODAKmdWa7cYCwSwdpp1WXbRbsPJ666Wz+m2oC4G9RU/UykvCdlGEAdvulry+Zd/+mcMEFqMBLZAKElrSsUU1o0jQTHk7dorX4Kch9z2JeiZBv4uUAWZAqcaa9uEo76Rtp1h5kAE0ld4bArmzMjC9dQsQ8uYXzade9jQaaNoSYuRQP9tVqHDuB+dxzafeobw/+zwUP8txgBpTTJ2z1w0YzrEGe2hrsErovqnwxyBeTV/Tc4ayUjRqveicZDc1fy16FyEM29whHKgNn6WkHVZcygNT9pV/Kvf/Fr8U6f96G+6PnVwcAD6wP1RKrRsSuL0oerRbV/JcsVS49S+fNWnRqZQUKW0Al+pkPCjOsMzpWiXnFHS6WpuHiickgnn1n7rL/ce7D34FsUdexQtaYgVQhVtGc3xoflwK9d1ktEZRh3g1OgP+GA6nDHZyeTCyDDHSWTDY1NMg1XsIgkSGsX8PFUeG9aYKyJymH/gmDihWrlplkRmlwx2imJuwHh1pqcfoYpDasetlGHFuifEDOgfajkX0Fv/semxo5HqjzQJte9cpR00gkilLM5mcWNbR/fnkE/r6K2DAzqj/pIKtUcNuQo3E303uA/vMdh0u3EHdg3JgoRjXWNySr2/MlfFes9Hm79jNzGry3a9u7JbQ5370AlVfnnY9s557k77Y3/Ix/7FDy+Eavm+OxHLaw2HIQYwi0wr8KS2jPoBoSzFjL8AVZpAkaY0q2q3dUWb5Ox4w5SYGBmOsHL/QnASqTJuGIm5RR6TepAqsoNPyVjvix9eGGYOpKPNxxojxlO7J2SYmY3vccNAVteULW4YVjkzbskpFULdTeHk3ROR0QmZYOieiCCKKTu+RAzNQdp/EkC5aVzFopum+wPpMIJ60AiiXum67xWfUpPIbzJQnZycHBy0dpoyPgEYcRqb5Kq1bcyWOHu1txOxwveLK2LVTqu+SqXmH3wvlaQ3dUKSgIhas+e5O482fycBzBSOKtm0qiWZNf8pYgWKqsyfKT6lVww11raZ3JK4bSdgpAnZ5qgGNnjTCUuyFIN+tHcg/jCs8NgUbW6mC6VCVGUBeY4SD2J+PTWLc53qAVmWGVWMDqMTAxws5qP85nLX4BV8hRxeSR4dt1IMP7OwAUav1qhFODOGgg5ez8EN6+rQdhZUfbgSoh3E1sbOYQkOXq7t5QlFaZp9++TZ4es6+sEBfqhKTTxpZbXSV05MrMi+OuZmoMei/KntneQr6iwNUn4R1xLg0N1in5lvrv++NP5g6YMHSx+wa5Vlm/KudxSJ8lf4z+dTKq01XvEpPYdMFhJng7tD4pKk+Pi+oJ6aiwahNJ/SQVlxahu3XEXFpbt36qtSdiaTCxeCk4iUFbtID5HGCkGAthWKhzKWWK6EEyndQcZNCxXDFB23Daz+HPLh4SHpjjPB2KvtH/usTt+BwWGK4Zw43F6cyGTZctwIZx3mKgJVEXNaDA2JBBgXiMSDGRkn5rBy6VcqCGNlImt5rHJGDXaJDYJtHoxZUfd5+02to5/yo//DP/zXf/iH//o6bP3vbn/9nv/5Lf/PHufx17sSeHt5cEov6pDwUQmJ7AWQEZB8DkXZdG4TD9sPZBpZYkkIlCJTnsdObcJQE38dXUSUL2CptVYiSvzpa10SIkT4uxYaHhqu5+7wYWFbJM+Q0GUTg9zBycUNWU9kmFmOjJfFVUp1IkrDY1O67rsQnKw4Na1/0U1mJANfwsiwLHsh44bHpnDPXE/Nxg2ZSMUIapgGxhe/4eCt6d1+uiHO4KGcbGjKFhf4FJjFmTd+OzItmgODE2xGt6rjHIxsVcfRp2jmIJVqXq+1iKARhNprMfo0nzo4OLDXlMVcLU7ddO45tS9FonaFpPDB5oqkiIaj81Xhk+Vy2YEraSKjd5KRiKpVa6OcrhTTvy+NP5r78MHSB5vLI/tFk2PXhPKo1IQeKd8qswI1oFwq87qoUwcHYlFt133cAeETqYtSUTdiHn+92xlkRAOPX1Nb/bYfiPcK+xWLqyplgWk6yqzcA7Kl41uoLBpSLUKsGFdm4q9dSwr5ko20Ts0wsx18SuxIh4eHi4bgF6PzvIDM3DfWtnHrURq06ZucwkTUsl3rQnAymJlGQGXzDEeP0KiOzsloNLsASZjd7Y19Yv9VuxNZvM1uuclMggVGhhXr6/6trvuUjn7EYhcNLuDIKaj62Rv1r/x/cGX/8X1xJ9Vt7ZiR/NQ6EO7faMqGFbURGzXKx6z2EblaV9XZa+/BtzT18PExyEVEQaCaLTkRDhCUK+3kipaqNnH7gzisWwCtoE78lYZzG8FUShD14SIaNdmHE2kyBWFHlECXgDGFx6YuBCfpR4N3ROaZnn5p6ahdbHp6GQ/zZHIBikT2PdPTjw7FdGr3hJxBT5dJNq8VKnrZ0ZmefvyilJORRELOo1qSTCksPh3+ICnUngGacSvFzvVpQxiWX/3tGZzhxLo0UAl/H9f1hqJB4/yvfvPrn/gSXten8Jtg4QWYACkp5mtevfYnyTw1r+LU+KlT+1KQq+yUyw4/8hOUty3vGesTFQDd3d+X5fbF9EY5fffO1M4X9hdXe+TQ5zZjR1+QCGhbNwVflE+doKGZ8gqnTmRuhjoRjKNjstOUvf3EULMlqvDBgSwVenX4jWqsqD8kh+XgXajX/lSv/Qm04pLuCf80aJfQJXUwKiRcW6hIXFhXDDMr6kNBTmCeTC7Ap/x9CceCU2gT+lJay+qkQh8i7WKlJo1FCBqi6aIh65hT86lkdIaiEpWBLUvZJTk4RM7CLGcM05g2VAGovAvn4r3YrELxkBwVkZtmqZBe/s/sRWo+NW8Ov9X7DjjV+Qp36ugakjRU/ee36Lv9uMVc37MTuU7dyLfcQf+o80E6f1df3/a2/RewboNWW97atrfN9ALyqD7DkY3DWkjliq4DNFphUyBg/ASpZubhVoQonmE6P3osTCJWMTKBHrrM6uwSWD9tKH3pV5TtupJfkVPjlAOedS60nhnPAp7UPI3Qf/QHok4CRhbyiSgBlDBvjJnZN/cpw2cyOvP2+6M4QpFWYVsYdOQIlU+WBSIzCQ6tgM5fCE4uGrlgZhq8C2bEkMyKZw6IouvdP36RJk82JzQ/OhfBzKkb0LR6YPGaQHWnZfsCl2z1+L/hU0+ffldxarVaA3s3LGPTubddU9uE1Se50Xhcr/3Ja8g81N39/e2aV1N2NTxKgl81cQbXlM9THJsdUEXQSA5RdjsZ+L6z6M9Je2uMX/lBgKm9vSMUO5WoAG2fp2/zPD4SRUD9h3lCNs8ofdRPerSKFVYh5LMMCy2s6TUbXmu7Jpx845bLPxP5AD6loQqHenhsitayYeYEjwoVchp6E1v3ZLGymnE3TAmmdt3n78l78cMLEArgS8wt4lRmZS0DFvoSqCoUljgMFbMCmmjcEO4ts7V3RBQDgNhFy4leJDfs8uwbis75527dKAZY1I8RmR3w0bmAj1Oe7HXRvoTOfZ5ARieCdN6iwUgjiMYdfYX7aCTSV/7zx9EP+LNXvIbHpgTwvXM52vYDXwHAGUP2YiAM/9QpPoWa6Z8Bo3dUebLi8dHm735fGkdU1XB2d3/fb/lhXPiJRiEpFrs5ooQ2JHcubuxk9xKx6qOESkWNwjYYuBXr/ImrRUM8VugSnCmnJ7ogTdRr7bJOcqdhGuU2lumHpUJsn6Mj9Sbhp0GQubFAJJ6xlvAM0ivnSEE2BTKhoW2oWoKIJBKjEwPsLwwaQb0wCxkrm5set1LMkNHI5szR2fzgT/nUa3Mzar5PVhQ0vNbeg2/3HnzbbD2FFvGtvnz0L3/lq9k8aHitWnsYWOrEdj0IVO03v7m7v68OpFGppoMnP/56t6X87vSSMeC1Te2AjxLXpVdIS+UVTlH3HR0fy/1UBqO6vN24U6k55YqM+PBQO03ZWiXjzQfSkQGtoOvUjBJM+U/XPrLgU5ApMeAoUlNWNWC57JCaEnOLvMfYVegNk8RE51absDjCSwa7yv4BOdqXcHx0VFb7jjede0QAEElwIFfp40lAKO3PiiRksax/Lk45I3u4FYPAAY/txV6zEaEwGUfnZN0HAzfkNxRQZtbZ1at7NKd0dEzAp/hUJ7JopqNhSF/pvNvr+HUKbvRvvX7l1D1/9lvP81Zrt1jsg1IB0y9X5BjtilOjFMAlADwBNAypcN138KlNCVRh2uC+84W9UU5/k37v99cucsw6hwDK3drB/KowpG/YLgIUjfKn7iW1q4V8RDY0Te0vUvtm6SQqqKKeQH3fdO6J5qB2YGHvXDRy6KqTyQUsDpx7gn6KqsAQBd0ejrOUOqBQ8QV4ZQol9TIZxph0pSZTPijReKFlaZL665IXTSNjydGnjLUaZvbt90ev5q9xYL0+RAMDDRUGXUtKAekGxC5y4CAhij1CCk91whNnhoJlmk/51P5U3ff06XeSIuTz/HTvwbeNb5rf/K9nXkvOvwKh6rU/NRqPG43Hew++FfNu81mr+Yyfbtdkb4FT+xJGQwcQtlVv1CWhtQ2f/kYqWfCq3HQtWU21u7nOCZFaeicaEAjUPcWkrukJ/b7j42O5ab8l8CTFvrzl7BSW2K05txt3yKWtVqupqr/WgThcfJOEWkTb2m/JP0rt6EDdJA7g0nKpFHfeZtIU8CTxUZYuMnoTnFkp6CJRGabs+W8/YaWjq34f29RwjfpEQJF2Fv4DUgrCxNp+IThJa5mZePaLMrTMMoCNuuyAFnwspqtVy16zs7lpLjnLOpAO949fpL4j4+ERBbbYog9g+Tq64lMde/JegYMGpk5a1AlDGmj4nc5vuX7qEfSN/2/41E6zTjcdKx8yBZdUBhQHwvTVW4kqBF+uKQ2UdrMI8Gpixk97apuQDLJNJTeXR2j+rJof/L407jg5ttGih8LohQ2p/p0vmLIURI2LUVUwefMK0dS5EiRQOegELub5mKWwUkoWccOrCoYk+orsqyPjECXYJorEjguUcXptYScaWXUL7eIWZFZ1XZYusJyPlZNUkUQpq9+RINjXhq4/MhwBKGFV0HkBRKU/UEgGIvHUfApng1SFkTgnpDDwzLhYe22WKBuGFSs5mU4+9TN+9KdPv/P2m3/616de60AG6w4O/vVvf2s2DwCphtfSPIvXjtuBqt0/PxH1SpWBdE9Ewtz3hUxwqr2txT/4D71JSUiiH3GCNpIBVRuikl/0qcXV7brP3+d5JDglppWG1xLa3646aUdWag5y2+3GHXGBNb8RqBK08q0uTQXB6KY8eXn+aj2jrvs2brkwrHJZhCTMLKruE4EA8JJSrlAhoWnMok/cnpuR3qosdjk69hqyOZsPFZoURR+XDFGTtYgz9vAtV0o2sd8eAAAgAElEQVSp+VR4bCq7ZGCV0ktL4NXoU9NGRKc405HTzNjtn10yruav9Qz1nR3pis4FkonwhdhFDrnhOL/Z/KDmU+267/QccifKvEKvtvbUCViv49SpW16HsM5f7/xp5x/62ev7j++L1LC5LDlSgVFjbRtiRSG/6dzjPYWhKAOgvMs6s7a9ylJJgCkEKjKFJM5SRQ46d3L7RXNlJejeWaS3KADHKXBqBhARCm1L5cJXGyJBNF949ZSbT9Eq9REQ/VRP3vh1BA51CgXlXRC3jfp86YBEXqATXSk7zFfQk0lGZ6xChcIQ4TwUDzERTXKFmikRXcakmYoFlfQOZfo59JEqdnHtIznfFI7PPAYdGxaxccAPC6CzuWmrnGGwGY8VLj8OpAkawWQizGFL5cIMx0YQk+w4is4F2nxKhnk7JIj2ue3Pv38uMp5iTLt/fvLwr/9T41Sj8ZjuGD+FUukyUNZitHw4k+v7zUbjsbxVSpyi5+Jr4Qom/HdRXaciU2unDoCqQmGp3hBYUSpSu+KTN1PeT0ao8SX4ONWeB5RV2RV3tXZLBuJrDdRTp/bl7cYdIf8PvIbs6X9VAxKUsklGyW2SvtR8A2ENcGzc+r+oe7/Ytuuz/f938kg73slO9xwhgYRWNJCYQAXyh/4JtKShtKmTNonzz27qwIcqK8ZO/KdtEtw0T3BqKzNrltRVkvIpNcE0bWW1KcUHpYq0TgoSj5SDFZaTSTnMIb9d79fH75oweDbY9GWs8hzHcdx+3r7v677u677urD4AQB6jTpCjkIlKsAYWW9lzQPWHw0QlTj3EU7lcXpoPY+ynQ5aSNoIKBR0p9T+SYua2UKvzOJuZAWLJWG90LIo0QX1iR9Qm7T+0C8SpczPavcicPcC76UjTLp/iVIfTyOT6wzhVKHqilQrYttHhB8cp+4M2ANk7fzc8VX/X/vbvulMqlYH5fIyrzyePqzIwFYC+pYW4OpwEKShtigB19yu7HjxzIVPEqZXsqseXT49LRJo5y0w/SNbbZmqqNk9cboz3KrYfZU8Y6Kros7/I23uCYaTypun1mEysY6/8LqkzHwEEDedOZ/XXMSF4C96H6xRx7j8OPYp4GIKCaAURLsu9yvpeGHpk8chHvThFD8cMTluqFGEg46ukT1TKtAtD4VbE4QArS0SQOyXjNOQDW7wgqli5yJZA4DzDN1DslTilf5i/sxdrdW11NHda5I5x7AVueGDKBC/AJweCBtlM7mp1tKIYpBIEiHHBOCKF4vLC9du28vLioGkhF+nLKbXcB2cJCRd0CQlhiikP45SHp1T3GdZJZV1JLqAi9fNu/+lYdMwIjucluZqed2eLM0QrI1jlNRWx9OIFLaAHSZGBSbxKzhWNVTW88u6bWVCCFKQVcYoghYLB8FPSqll+6sFXD3K5PCgM1O3JiA1phVT9hcZ2yK9gWEbs7NEJOZJ9VgZuBmi4UAziOBod0zILWCqimAxCjSI0nR6kMwgR0B0SacVBkUmj4dcHoi3VeOr/rPuqo0Z1WOG+vbVP+55H7I/bOzZ4VT9iX2rLneXPVgWQK6j/6q2V5c9W4SW+fTJLxVUoV0IV7FUul6f5k879Pp+/5k0Fuyq4LLCyHWdh/MWLmF4x8GRnWgWFTCFpyQqTAhV06DKh70umTJbKadG34JiRN5tDrqRmUrgilBfpCiWrFyVOcfwwNQbyYBPa7j++099t+4PgJlIpKgRrwMDhhKtinhnO1CIpZWWzEwAwhUvMG51HGcGxsSnkhKAg2KKi/QnGnD4VD7Du00nrCeRRcD3LcqgEOYRWMtrS13x8dB97Ayt1X8UcpZIy/z+ufblcomqg76DtLxU2yl5yHrEZzN6xT5ACpcJb2YAF3Q7IIuIs3v1EcadcXrz7icHbpVv37q2UVwkcxCaPPjdIyiOzTOZZW5MeXXMzGxuKbBWCnEbyhUJB/ocnh8VPXXnvQqGgvuSNxWl3evzKe+P5qfH8lAFWAmge5raQyqgubLRCcuGxs0nR8/aUwG6GHJnzQzdavlOLT5JpbRao8OjmDWtrJwOJwOyQo6fZoi/kaLj0iRf3PfHiPlSgtIfNyfNMr2E99x/qQn1O65DYNBAJQXbSMMYtGjcrpFXgcHam7vLV7fKJ1GwL1LYFatl65MUpMzcD2N7Y3NgSFH6CX966d+/WvXtXb63kXXlsLN795Ootsav2z0MwZVAVNEWpqFg2k7uaE9Gg3cj0gshzkrObIJXPX/MSWyVNkhFLJc3HaNVbZtgO39Cw81rJJqdCSmCYl0wJmNNhhL0VU2GilTfsQcI2v4iCgxbW0sd3wQQIHWAhqhOnFQZVK5NtGDIUkidjhpziW9i0IxUESXEU6SDhaWWfb7UOR0Kh6uwYCrda/oE7rOaV60skNBDRBvWBiPgHJx2it4P1qJXLtPRpoEKLZ440MdUcCrdaPOWZYm6JU8VyKToWHc9PTbvT0TFxLlRA/DPZC68+oElfYqwqOKu6EqQVaA/E0sd39e9eFOeVz19buH6bCFUql6/eWlFIMn+WP1tdKeuPwpYJPfAF8FMw37buw39qfWOjfP+L8updG6qYRhRB5k6D5KdvzQpMXXlPdlrzrkKVCV6kSg+ylYTtybEKUmZ21IozYATgPiBorVjfqqtIQXReuAWBWx7dhFXFKeo+PZ9gWglVJ0KD7IDYvqO+o++ERHQd8lSz5Z5Vx9BGYeAGEEfGI05BmQOvUvEAei5y4IDZofRCa91j9U8/ufcZPPxZwhxPymPI80dnWKFyOH6Csan6LVXMgnW6iiUxqjZOcd6qT6Y9w8XSysL127S2dd01tWocPYvLUBxM+XlBR/YJ9o/F+KIQZO859E4qHlDbp9L+q5xY8yNm+q9QXNbm0XROpri539ObVmc8qYUDyp1X3jO/yyRd+JAKeQrYB0zxeURr7amRK5AfHQOoCsAOmOroO2Ed2VApe2DfrCXnbDNFpE5fIkUNYQ1CIWRpH7FOFSGotMdmsymr5NlChpkHoMlK/HzhTgWTZBB1aCoeaA9qfGKXr24g2rLvsLZM7ju8e9/h3bt8dUCqSpwSjFDKrBxFD0+trNyfmAi39ImL9YU7I7lT2LmIdJz3YDDWPPZ6cwd+fcuBsHHq6q2Vcun+0sd380XJHTD6uXprZfHuJ8QXG7AEqVbuY1SGGZClNiGnymUPClp+SnHq/hdEOp08jUwXkXrS7DMqPoUnxalbsxcKBULV+JX3aE1WQpWZeTbNY0IVcYqwAqQilVnxumKNOSUel1lpHkNSVvPo1XUfDU2QNhceo/6OvhNMpT/x4j5KQjj1huYjdFWIU5p/9stlVJjL7OBFGsMtpo4YP6Jg8Hz7wq20h1EP793TDGvQHWr2d+yPJ/clY70cDvehfkp69OqI8BO8v7m5WSwVU+mcDDNc4eNb9+5Vt6ctiV7d+dlyesFWxnpYFlSF4vLl+U9zuTyVl9JqWUgNyuLqrRWyLKySKQ40H+bNPJg2lAHpXvZVMDNblwrFZTkMGalEJHcK9yuxV4asANM9JDrKZgGK6RGpn2gMG4D5UKhgKIiqaroKroqsyeyqnX+gIQgvMXYsDH8KY6XIZbbgwHWkkrJ155gFwxI0hBw9gVZgMBxBIUVeVJvb8OtkVl+4MxgW/4CvpEYCBzU+QSMomxlmiAJbPsuZIkdoDMmC/fjovl/+4uffp0dfWbnPzyfSmnfVCpN0iLlNXW9jfzE9b3Y0For5oi6eVS2AoTgBRCiOCzUgrEGpKKwE414seWDKXvirt1Zu3bu3/NlquaS2Y6G4XC4pZnFr8LZocAMFkU3K0XOlvOreeV+5qFwq3V8ullRIFksyvSJaWXUCdd/0jUVlMIOqpGZYkP7b69oUiq7Spn41kIr0xceA+4hxILC87xqKnX6wMJTh2lNJTRrlcvlv4CkjoBcbYpgvRRmjRAdjd/SdoO5j7oFRcDbZEHHQZ3F6cM5GysAMs30cvRWLksh4kOj9zh5rkFb78o7tO+q1N9CRH3Y4Gezs73zk8Uer94yCWH+CsWnLW8rl021DPSQVQaoKUWWDkSVSq+/Y79oTK+rK/CzYH/h/ef5TSjAPTxmqwIL3pY/vklaVU1XoVUxdKBRKojK8TGx8H8VfFUvp3O/DsVT/6ZgO3rxbKotrB/KbwlAsuk69eUGPmihIjfywJZ3/xqQX6XMLvCJZAq8gImw2BU+NHQvTod7p7yYXKroZdH8iNAgVhQ4rFpPCk+EtnLDA+FInBCWnGoh4xSB6UdWP0ThdHWtYROSCo5ByygxR4OfX4agDyCauULj1t/GGSpwSt+txJiZlWn6qzHrLgyNNvnAn20oPjjRFcqdSC3H9eqP2ZuiP2gpRXN6V+32xtFIsrRCkYKkIVVZpBbBSYDIHgmvPhaQAhGug9ANJkZpErpv9Wna+r8JPrXM5jYJBI12IpBCXQlJO31jkQIxfeW/61ux4fqr/dGz8ynuR3KlI7lT/6Vgkd2o0dxr4TTEIz+WVAyasWNGdOkRWfpFzqfuqLzzHhXSXSucqcYrAqkEfRrpoBtPv8/ytzdgz/JQZJNYEQ+ykZtataJi+DOsePGcLA6kY96uM76hgROH5QquUU+FksDHUSAaCamXxJGr1E6FBrRRs6eVwgKcMjy5dwpag8FP7cnNzs/90bDAVglFNpiQisfGoOhhZlsqSGFtaQKAqTq8NWKocXbVoSpW06gWpckkntiR0T0+8ZEpOG1y8QT/zoKIV84aGMhdbakgJESwmQk3fWPRgvjYMCvt7pJgGMBSpCJoaVDSKKkQVJDyQPh1kC6/UTTb5EvE6AQiQZYs+cqo3xFqJUMQpS5X+qnYXCnXrFWPmaQZA+gjfsbXqMGYhDLrCQIUcEaaEMC2zMXQVYk7OZGe/xOjsldjlq0Oa8Nt4w0C05WGcQpewpe4rlku0gRpDjQxb4MDgf7fr7GVR9wwfxk4OawAwa5xbjRdPKp3Tv6wXfRStLPbmrNg+YLl0v1y6f/WWnuAWilBdNBaXPxOJLjx1/wuZChWXSVOKfdTqhpv0qDUGZ4x+qmzQPqVfqVw2/JfgHgx6qVzWeyvrS7dQhEpP5dKR3KlgOEKcgtEEeSmcudP5Ymnh+m30XwQp5Dm6b46LTonp8lLzw0ZxIAhS1PyGeSuvrXl+CQ++ekDdB/6iX2PjFFDIUukcLIZymDj1pKTGA57fVdlTr7YgC+U7+zuR2MECYLjx5N5nGgLestyaw54pzZGQNjw3HWlCCPNtPPXTj1N/6wxq3OryUMgZiI5F24Z6UjlvQTHklD1+HM5qAaCNXORUm1mpAIpFqfx4vtA6kmBzOatz6q1798D7JjDJTtIAe884uyR6ZW35s1VhfLOLpHBtzmvsuNMq/a7fBknBnBKtvOBlFilJd22SM7OujNBaItVSEDBWkE3cJ19auh14RavH4yVMbOIJZE19N6kFXGjNWSNCaiROYXurMGSYB0ZNwWLhaJTESYfa/JQILH+LoJNt9UCkQl21B+We9tSReqwaLAURTgZ/+YufG5+87/CfKpdL3SGZQxorrIaDI03hCd/Q3LFEOuikNVCG9a2i1WD3qLNz7FiYhbGxk8MQBMhn0bNdnzpz43d/IEF5197EL13X4uryZ6tEK+UrV7wAaAu+aWXlPsGuVNZxsWmqUvd5H3v0U0popnXo3Ro2Ib/sjekQnoTdDD3p5S7T9SM8AayIXLYetI1Cfhye1WrtNIltrqgdaGC8hukNRRCzn9niqUr7THgKuTzXVX3fnJmKMLZBjcFurDagqHgOTh2Q68Qp5rmY1bInpj3YAUWF5ZDsSQ1b+Vj905gHIV9AfoXuzvj/S+5gXWWt7/Df1SX81MAU7yebVd3XHWp20iEnHcLDk5LcO40FTXFCmRN9FEpMv68acJFK+ZYlK6qHxixJ79Gphlmn+WNXPxCkiFzcNydZZ88AMfPyJZ1MlqSIPDUNx9nijB65sWjJUxIqYhpYMHEmeSVgfCBsn4eZXGIWUMtO5nq4vjJ5Q60H1AJ8pXO/T6ay0bFoyNHEDIIpa6uAgzZME1P3eIcSqrxlgmYKJ5vQrgqrYGCBADuZqA2JTWiS6ecgqpLRaGtdv7PHKj/jSctPiUf/O/qp8urdDkf2ei3HdzDibINUeMLnC8ufm10AB0eaEl3+kd3PZ7rb8aKGkVlwwmPHwnowGVlwwkuZtxStLs5bUA2YAlURqq7eWtEZMszC0sd3xZSXV1dWBLuEeQ1FVRWn9NaNr4ux89zY0BMsngJ7V0QoC9dvo1GASrtQKCze/cQ+aJYjqbWnvWmGL7CzgWgXgFeaybp+O18s6XwUiuApEUyw5pWkZJksBSljeIDNEMnQM6LZ3Pzyr3+Zyc/Yks3z+UppDxIUwBMv7gNAIUcASFsTd3GZFeUxTlho+ZhiJxIhUGjukGELSwB/VbtL8k7jwoGfH35VWg9xuHn7jnqj2AptwVN0Kn6asan6XQ2nEpAVSp9R7a1w0qHxK+/x708LiAEJfchdXURQ/ML125ZU5XwSqtBeFUvSYZFQmafJ56/pfJbuW0kNkUuhauU+QUQ0RXFVZ9QwFW5BskC05qRJ3cLKG29IZH0IaIhctHc4iuP5KVEuZvwrnfs9xaDlT+3sBEyoLQatyPFhZ9lo/aohv6Xe4fVRsVMfMHTBOcStGAUf/WhPPGVMQZiLNo9ozpl5VRadVMaYtR9T4Mbo9Tr7Oycmwrie+Tv241bKIcStlA0Unf2dlbrPw1N/Z9+Mkw6xrRfTBicdAkwp4oZbZfzY19wUfhVXyWwyMnbMC0wLTjibSI0dCxOqsonUgqP7S30HMb338pUhsEDOhi30mHI7WlWdkVbKkvABtczjqtbh0fkUiUdfURUJWaBwVqn7AFDiAoxTKOEJ+glZMBd+/Mp7CC/pDXMyuD99a5Yjksu7s0UNnV4oFCj6PDV5JUjxkcikL2az0lgxyZnKiUrXG1ab39s3Q91HN1qmEcbnC2sXRFXWZIMpU0aaUa9gwpcfm1YLJhpF/cAcw5GQttXjpYcW1N+xH9tGti6/0NiOigqfZRhQ9A3M6ISjUfX79jRX+w6buu+nTlFpjt9p9L/b1RhqtA4hTeFXnbTEO4MpiXfgKFBIzU5GjUGj+tcC4Eb5Ca9arQ61ilByKoEMHpY6QMrkksgplX73v0AMYZuANr8iYAbpczhNuNFZ4mQu3v1E+tKiZlTzxVIkdyp2cjiSO+WkQ/2nY9Dtlpegea0hswopgbDe9qO9aGWoiUz6YjiWeshLVEYCbZEI6qfok726sRg6EZJrghVMmcVIHtRCiY5jTMgZoGftieBN2ra9P9OhFj/Fwl34UIQEtS/vaHa6cfdnp4m/pbfpSBM2W9SSlTj1HTz65ubG6tqaMkC5fO3mAv2yC4UCXq4swsKEwLoaLLgXblych003JbSR5C5eZExJWjj3QsnMQJnurCe0tQb4hixXijNdFW8lsh4sCKjbH+EOnPRDfmpTPm4b6xtra+uf/+lz3rYhHvWzzAYaTUrlxSsG7UQcvUMzH09lp3yI9ULF0IPHdWse1wsal3evA22aN/ZH7Bwp3spM55t0qsBq6j5jO2eknp//6XMBRmnEzF9Zr+L5SUpwaFQgEivjMGmkEtZLxBtnNSMXGijDDNfc8rO6FpXNJfYRBkSsC3POOHzxTL2EsRPBebWSCbTR56e/Z/Rv71Ca+8pCATo//ne7huaODc0dI9d29nf6wmomYAKHcR0D50LKRvxpxd+2EqzWAHqMhNHWoFimfuTxW/fu6fjd/8L7EXo9BuaDpun6Wf4U0TmnK7+MF4ieeOvevfyylwvx/FDDx/h/oGMgWlEY6oCZUAVjBZzHgok+D+QmgnK06WAoG6SyWU9jTL2GGB3atKPvBBAeT3Tc1gDyT7y4jw0mvCbm2sgJsZrBnw+bNjZKaCh1UC568FCge28w3hiNIrIhMta+vOOZlw788hc/N/uQK8XTFh6dc/ngqwdrJloBWfnk/5+35as3tzyH8ZctD/7ILyv6qTWkX7zhL//6l7W1NT75P/L1/+U/zhv+my26XS9sppHX/6Vv2Iyx/pC3vuUH9WW5XP78T5/rDVcOR3WR9U/e1/X5J3/kn356JHfqZWf3k3uf6XAatYk3HbJkBQsvYCpwix/Z/fzYsTCuA6lkWtZjWW+rGwuvIFVlBluZqVAdZ5o/KGYo6CoNboF9KCqFKrrSdAbFXkk2iNrGaxdWWFRqQCAVxEIls5bzy5oEtECeOGW7PR5pZYoA5IEyTTItI0ux0+GBl/AUCcabyPLrjGpR8Vkw5Vm7mPktlHo4o6PwhCqlD8ggITMYO/3dDAyayXyhsEpvegBCioKOtREYcjDypThlHEchT5udbhYCEAcf4qmV+2vf3t/Hx15rhtfWbM5XTPuh/xE7fuhPf+PneKnP//S5h03Mp4g3vG7e8NqaYbW+8UP/j79YWbkP+qv+2DPuY5KB3vC/8J/on/rbfvv38si33/A/HTkqP7CxsZHNpldW7pt9pZVH/9X/P5o7/bKjJa/HR2WHBE1hOz9N4Vc7HC2q8PYvdfkhT8eOhbPJCExFprt9ZPfz0BQLTpjFt4QqyApwU6m4ith9+TN5GSmyFDV7r9heuk8U4769Xfr4rtcQNO0gT05VLEumZ1gqTwdf6U0XS+pNE5skprmxmMuLP0XFrsfTOXEOZiDMxrILhYLFVvASzMkDkWwTUHRHZfjBNnysiA8Kwvb7sO5EE0NAAUA1NB+hyUNcww2Z+Va2ojL2bJXGLMHU6q2ODrZV1hxuRhGqEGZCFRQVRWVD85HhVKISpyr8VCVlevqpr7/+WpWUAtXGmvRVq6trq5//6XP+VN+3D2751vc8hxCz5fl/90H7ItyxX66tra6trXmfeVOU2De8vrEODKx+Y/YHq39L9X37BHun+rvV96ufsOWv8O1v8YQ1E+vX1lYBUxRRVW94gze85cftl9zZ8uV3/e2q3+qWt/ftb1W/yJbvrpp/4fU1wVUSwY+JKg++eoCgNJVUtKq2Bv0xL7vlZ0dzp48OvfTUkfqBwe6us680hV8FT7Gbh85Ph9PY7Mg9Mhnrpc+T6W7PdLe7Q++4Q+/QC5LBRoVRXeo7uJR5q9pk7SEHqmpdQAluC/ocDY3V3CCjoWENhwWeQsZMAajIUirjJVksSUyDVhkOlE4O9xEtSldlakAa05HcKbAVdiDT7jTACn1yNWUObsrl8ozvUVEiEPd8GZMy4LVm7VY2TJDCLsYElEGs9Z556UBH3wntc87OIlJHu4AiAav1vXua8ZWMxSKoXhjus6tPqPIQOsDJHgmJzyLMVeKUx09ZaP+NOGVBysa6PkuEAG431te//OtfvvzrX+ydL//6Fz6H9pl8y365vvHwR+yDW55jv+RO9Ze8OL/F/F77Cdrk3FsMaKKrolX1G7Zv1b5m9V/EvvjGuveD9q/DX/PBVw94BfvM6he0v8s+WP1TD756YJ6goG//oc1nTG8ZVLWxvs77sa/A+6z+pd/+LVv+CtWvYJ/8d/++W34Lfzv7V+NHNlDQGu5vS0T4Z78kTv3sZ/8FQ5/Lpx989eCffZH/8/nn3bGus68wwsrq3cFUyP9ul1YZHt9hm9ShcCttnwUn/Ebn0bFj4USXn56P5DV4mQ+9w3M+eD244IRBTBDqzEhoEWTmrLbyGUs8yHKMX+TXVlB72ioV4M6ZxEAbyCM2KrkmPDGKD6mFPhmBFXGH2JTLawiEGelUTku5aWgmU9n+07Fk0nhtm36RnmZ2Q9B/x5vBYiXb51EdZ3rc9HxsbxTMhQ2eVpz6jxM+Qo5sqozKXLZrwlbpnLUhJtxUFs2Fal/ewVabZ146wL7l6v4yuEkbH4wHJF64LzS2220Dv6rd9TBOfVfdp92dBpvwibUf1Oovq8+3/H/Nh5w73OqDqWJM39KfPxuXOBNhvM+n+eQScqpuzd2KgLPyTIPvjDVCVan3kPWoilN65qb3TPNSVTcPX/Wbv0Rvk0iizyf/2/jyr3+x981fQ8+wr2D+dlp3Y/52D3+KoGO/5hV4e7Zxtrn5ddWb0i/yXtkkAIOwFDGr/oX1HB4xAcW8DfNk+8/O4zxnbU0/zrfsT1W/bPWDNkLxBKCffcM/nlp68NWD7TvqraPLI48/6m/pLZaKm/9SG4bz7hhbmHzhznS2F3v47lBzY6ixMdT4srPbF+7scBrpUKfigUx3+9gxhSpUNQuOkdEYg3xNFEfjXsPaVIXaalVRzKhrMfQO3xUQy87a0S5NYhTLbt69PP+pDVX0EFdWFLmo+G7du8ecGaP4xZJUzYpQ978Aai3e/cQ1g1+EKhwBEFFTDxK2guEIvbz+0zHqLwZupm8sSpk1GcWFrVrHRzxiTos1fP2nYxpeMe7M9FsuFArEqXAsBVuE/ZlexyiwuBOORnO5vLfuwX/c0Oqa5kM8xZ4IZIDMqyIkfqz+adQzfIn4BqsiVoiDsJjUQSJTvnrTiJC8ls7XX1d88tbWV7OZYWScqYW4kw5Fcqdyl4dGc6ejY/JawyKS2+FUQosYEilSkDv0zvWpM1w/WkhaGzv0DksZJfgsSRhFtpF/i+EUEUYBmFXJM35p8hJP/vxPn1P5L3+m5j6fIptjNzY2xaqYUWTucGs7LGoamk6KfcQKFxCpF0tyHKX5Qh9wtjhD/c+EIOsheAL0p2scae2Usu3E2eYad1K59IJ7wX7sec8bGxty78vl6bXZW8ntjLq9MdiND586ytEo/WbOTezkML5g3lhfTMo6oXpjthdytOjUzicztRAMR8zCtQGyYjAc8aa0Yinuq7UcS9Hf2b6j/m/aiAdfPfjxEYq/rMVTNlTRxwk5g5//6fN/SRm4ufk1i4vePiytIHZaDQG5lT51pP7Jvc+gVGDnUr+zJ9Pd/sHrwTl/KyuviVlz/lZAVjaRkgnJKxcAACAASURBVJfR2LTgUnYWZsfNe3qr6Zw752/NdLdzCwrTFWRdqLFaVNs3L0n61VsrOoqGR1/+TMfeFn1IGRDi2Mf5rh1xLZZEqFPrWcUMJZ6UCumcfNNT2djJ4WA4IsbK6Iph1rNTJyYm5CnEg1Yug2Km/3SMTd3BcCQ6FrV4CsMZmToY9V/s5DDnENLd2irgeZlK5/wtvXazN4LPZ146sNOv/e+WgGffMgCKyPWr2l1s0Ko53NwY1FxhyBlkuVxD8xEr16rgKU+E9K39fat31c2d8NUEdiXSwUQ6eHx0n9yOw622zueOPLfiAcRTiS6/PKS720k1C05YpqDpcZIPNb9ZYC3jFFC0rI2zszwnm0ixBZuLiiKBJFYu3ceRCoC98r9feqxJpYsk/6n7X3gUgJFToMGTcNR0fIlTXs+lLP6SqRrZUZmBaogApCsMXjEACFuZSuf6T8eGUwmOCNZ9upZGzKkYYU4Dt6r/KwPGcig35jtbMOD6xjr9YOgApuTTud+r7WKSWMVAQyNUFP+AbVQqeKtjmQDYRqHHuPKvancJZpvrjRU6u2rRSVkWk03OVqj1QmM7ExKPPP5o05GmtbU1U/M9RKw2K3zPnZWV+488/ui3//zyFz+3Qcre+eUvfv5Y/dOpaFwiuMql/J4X/95vbSZjvSO7n28L1HY4jS+Fnn9y7zOPPP4oEWqXr64msOupI/UNgf1oQRecMHEq091uD+2cXyUhAchziTFTMmgXkCCgOSjEHa2ePFB/x/fr+QP10FuFuMOqPjh17A14HUh0q2e2UYkDiYqQQTH7LQKWhVcL129zVsmm4/kpj0c3nLpHq1c8gvBcE3TIDKdMMYhwjAhFUMPMgFtIdDwCAVZIzFh0kDS8lZKuMSDwlpYbCQtaP3IeB8lq019obH/ixX1mF7x2oxKeYN+376h/rP5pxp45vVZ1TL+PJbshJ1SJU9/BT62s3AdC97y5a2CwW2ZX0Za2oR7ws9ZFGD26LrkTGnV2nksGPng9mOjy+1tkdz92LExqIn5pdCgaB21lEyltJUvnvIG+oiyG0awvOGGimLBVUTiL0T98pksGG6+UNWSzUta4DHUT5xudJ9cYIoA4xYRzobjMgSCDecaP5ZJVpcNEaiLMDH+iUI/kTqnnaiJOMikugJOBLtRkuXQ2GfGiEqbshK3MMAeCJm4wrOdQLVoY+OVf/4Jru7VMY6McUuBgOML1gwdNmq2IDGrhshZytA3JLo/kuLQHO/Yf6oIUIFT9qnYXsYkvEf7yyE6/VrBZspNDxvAgccpOzNj3/L1hwvsmccpGon/wTu3LO9y8+yNJq+hY9OjQS0/ufWbf4d2P1T9N87vDaTw69FJLn6q/msAuX7jz6NBL2WRkzt/Kn7Fj4ZHdz1e3+YhTAlNGXIbZOVpQM7unidSSK35qqe9g8bUni689WZ2J3aF3im6xfP8LlXLGdtE1q+EKxWV7PukbVn9JPFopm5lW87MW+Huh6o+fygIQbHXlPR1LI0/nrEKxQ0KhMKCy++D1IN+CKSceAa4RCfefjoWjUZmUGccO+Cly54J7Ac0gtSdKQPsIogfmZqjjlDWDHTjDIGiobOuShSRHkWP21JF6WHl4d9I/Fgu8Q9Fe0Xh0LGr1U3Sft+KplU9vX+qpm2yrffuwDKs6HE0jv9Ba9+TeZyyKJkHZ7MTVfaPzKN2TBUdLj4lTwsOuy55YxHXTORXwNEfcoXfmD9TPH6ifbKvluKBkyafHyWMe3jZ7O0DOKxrqXDU0kHgo2GjAlL32FPxkKnyNdTgq9T+TWbfu3Vu8+8ni3U/skDpToMBsRMAMoydT2WA4ojSVzrF8adqdxqpCX5qUxXwWYYuzEgxHfOHOI6FQNptepUG57okmN9bX07nf68k5dViwcwRsU/fJvCWWIrnhS2HrymxWrkAEKTsCaocP8IThcbgAItcLrXWclZrDXguGUMg2QMDU9h31zR0dsN0rK/fFW21sLbG/P1r9sDgFxR5yQqVC6QdrF87NRPcdln7KIqmjQy+FJ3zhCR+rdzscbY7rOvvKxIQGJOb8rfMH6kd2P8/gF19yjJf6DjJWgYsAGyqNqT4meSssRrqZPHQzeWip76DiVOasfsRMibl5Tcl4QceIQvXxNjuyPFG7FImiq/jD1D33y/e/WPnfLwlzlsxa/OOnpFjGmKdvLDKOx4EkVNklT/DioPixY2HmHJndi50cho0iPDF+T5DyTJDN/gvAFyp5Tedcm5MA+9qcxs7M+DR6YDaP4unIxLv1YMDryho62qZeR98JCA2PsoiKQcM48ERoUB+xmPmUVWbOKnjqO3QJxVLR37G/581dbYHaXT6FJxIU0cruL33Z2d3S12xL/Tl/K3gKYrIQdxac8GRb7Zy/VcMuFWW5KMmKZVWpuOrm3dnJ6AevB0lNADHh52QEkgsRipCRtiLLZBpj4ofShE2R5lxaW9hz7dG5WLULBJZFVdV3oC1BtnJKMCYw41fei50cBmMLTBnVSTKVDZt/X827JCPYcpHfMJDgNIScgbahHoLdcCqBGN0w1oqswlNGDsMiOVKKtb7lzFntuE6MEZqzAoDlpqyf/TbYtmN6J0Iq+AlDMAWPPP5oQ/MR6IAjZhHbkVCoMShlXchRJ5g7dki9ovNUJvj+8GS/+4Pj1M9+9l/2UP7jv87+3r/lqpAT2t/6LCXnjpptx0f3xZP7mE719llGW/zvdh0dekk7l7r8k2218wfqCVLzB+qrKac5f+sHrwclrUp4qWI6p0RbKsjFBRln0S3Cw1LuUfoRsBTRjMZKUen+F0x9IVxQtjaklWXZbbTiVFuOlSRqqz99aaIVBzW/LBm6hr3yRgtqEBY7yWMxcZGwToSA4VSCYASGYswFTkoEQkxknK0cs1ktkWMmgcke/W3KJc3z33nfw1am6As5A+jUwU1sZsaXnRmdkDPAt6A+IeMbg90MObMHkO4hZqHwGHboNeQM2iNh8JS6cJyNh/5T4Qnf/tZnyU4EqbZAbXjCB0VFD6Up/Gp4wleNorub6kZ2P083lwYKUYy192JhclcNA1eslpaU3Okbv/sD1f4HrwdB0YS5fHq8VChBpateMwvcmeqsJHy99QdfPQAiGT2Lpvw4B1xmW/9DAdhopRc08+s2WS3e/QQWQP2OCrRmhtnLV+ZBzENiJ4eluDGLmEZzp4GsDGEORDSThZFFMBxJ5dLfFNBL52EXtdvdAew3rMbb1v0DvA0jpg/koS5Yyb17mj0/z5PDLNSG1MSG0fZWqPWOhPSuqEb/JqKbnnftfeoCxps98/xCqbx6FwnVP176/eA4peC4p3kmP/ODqz8bp3bUbOt5c9fISGM8uS+d7YW1SKSDB0eaXnZ2UxbAW0221Wa621EnwJ9aweeCI70C31LJn0zrEsg3qowhOuacWsWWHvcI1mSE5Y8EI6RSZpbDaxxhIAW/buG/7Q5xOOX5Yfbp0hMkNpXvf7H4x08pC7hTNKyFWypj+5EvlpRHDUcxnErY9SXj+Sl7LLmDfGE0dxoC3mZfaHLQDYw7IgZWSWPrJmBlRscQZ/WfjhFZWA6Ao5kZZZcLO+afWLBXVKMSRh0JhYzASsODAC70WeRUcBmi0Ko55O+Y71v59HYo3Gph1I6abS3HJfPVytzB7oMjTUeHXjo40uR/t2sg2jI7GQUzb8lONkERtlTjmA0IHp50Faq8aOUWlzJvgaJtdjqXDJCjFKdMT1dA2sjqGMQhxLJndH1jnQ4Lr1l97SEvqQc5Ct/G1cQpUtbi3U/yy547FS0VbMyIUx7VHY0GwxEnHcomUjRK+JxHx/R4OBrloHCHZlypbP+t1zc3hKc8xZ3pqhATSWKMIsqb1Oyax5eGPYZygIxG9x/qgvCmyOdM2IEsSw2wmcbylChfCKPAN1xlDUfgmclCmdEMLrrFShKj9LPY5fvu/IA49ctf/PyRxx/NZtNi7v9h4PbtN5GKB9oCtY88/mh3U11meG9meK927WV7AVBnL4esmVpNYBftv35nT6LLv3dPc6LLr4UrlZ61lVPRGtq7p5nZbxm6zrsaUx1658bv/mBmXLQG3M3OQsAvOFJgCTplZ7UAwtgEK9dWetwPlVbG1sry6HgtyDi7VHazs3Z7Jk1qMqvsq/74aXlVAzrwFWAc7SIpy/EKzoHQAzbXfeO+z51zpyWzov2XzaYZeYFVUGI2HKvM2ivVXyqdY7zU7F71xmP5oIHUMMIGDQGdGJtHs55Kaq+yamfzebGmesiy4NThtkiuOC4YKaka0+Go+CnjO1zZ37dFj14qlSj1H3n80R0129oCtfHkvt/GG8ITvrOXQwPRlvCEz/9uV4fT2BR+Ff89ULS/pRcIbUlKCn4uvMol0//GD4iY4o0iu8Ubv/vD9akz2WTEhiqlqewsYBtIZenJqilZb98MlDksAMNWAGmv7K/QAcLhFSULF5sQ9jBfGcaqWJY9HjNWxClWJ1Gs9Z+OUduzmz6VU1OfIAWNRe6CXUJ9x8Tc6hp7RiW54krzHBgBToxCkvF7NOoHWRSBqlimFHK05eGZlw5g2ontFDbqlsJsaD7CvBX8us6Ho/GrynEJeZWj/zi9v51+lX5GfyzK0/qjI1qhGfcPRpDP//T59h31O2q2/ap2l72lFvs2p06ECjkho074duT55x6ZnYx2N9XtqNk26uzkTzy5T2bKlUP7srO7bajH1gTdIVEW/pZef0svqCqbjMxORuFYiVzEqe6muv2HukArqXQunx6n4hO6NwMu0FLI2XW2x6bz6fHpnMvZlp1RSdooTzFj0i3YSmIrY19VMX5R5oa5R63O6gDy6901sex318Rq6bj+8dNiuTR9Y1HGe2b+Bt2ThpDNikA1Ycy2es4YIAi1wWjuNFDaJkjU6laYztPIZ5DrZE3zKdPg4Ux+hpqR9RDVqyLAUJKSGtNtetPWYA/voIbmI1CowCt79ngdf0svytKf/ey/jE/ed/T7iqXivsO7d9RsI06NjDSOjDSSnULhVjQKLcd31AR2URi+0FrXFqidbKt9o/MoXV7sXODRQdRceMwiUKzJpaBUIjwZt2Kz68XQ51x4rVTMz+CgKAmvuYQS+5o5WdsCoPGnnGPMpJXljN+erfzpANr63+DqIrja5it77S25DrBicl0BK+dqk4dJUFtwddgomFjMQ3Wty2yyk8rvpIwliVPQ/xsV/yl1QnNygDFNX0/nIud1dxra0uMFKru8c3m9B2NrN4jWiesN2NbJM077cAScD9ysbBhqDGqzG6wWxni/qt1lSVDmFWycWlm5b7t+/2DM2Nzc3DKOg4NFtc4TKuqRxx9t7ugousV/MAL+n2/gXFJ4arKtdtTZSQsoM7x34vwhdzEMqsKbKDrb4qSlU0fquXdPsw1MH7wezCYjI7ufhyRFVDWy+3nt8olFrBSAhkY2kaIaEr4wdCrnXCrwzHA2kbpxcV7oqVDCzgha3Xb0VsoSUjEeOJ1zk6kshaRiX3Z2Jj/j+RebfUvAK4IU0UqrlbQEQHWo9a1F93d5/lOJGHKaB9QBM4oqEiFHFJENa2k4n5BTHF1azLY/SPyiA6hfZybWCXm0mHAWsgyU3WojjY7pL/EtzGnJr4wxHwmF/C29ldUkSpAMNuNKxMTfz372XxZP/Z055HK51O/s2VGzraHxqZGRRguhwxO+lr6Gs26n/90u/IhfdrRyqyawq6WvAQi9d4/SlFxsEqmBSIgpKitZ6G6qYxs9zayZ/AyNkhsX5wFE2pg2Ns3UlY6C4R1NhhGJ7iEspSf959nOKVBtQlhS8bF+GQdY20yxtJRwdd61rcDFu58sf7bqXX5DBHgFIPnq1iwKrGKpPO1OD6cSUgmYDaz0XMbzU3rQLGXLpC9CWEoubOCuVQkDAM2+GbTy61xsyuGZ/AygncglGaerMS6SmFcJuloynkxlkauwo82CbfIShyN2cpggZbWdVIjaMWMMNADbWFzb3BWLRQhY1ievYkRjWqo/oiLbokf/5S9+3tB8JJfL/2Aq6tsxa3NT+qlRZ2dmeC9gKjO891LCN3H+UHbqRDy5L5EOnr0cmpgIO+nQ2csyUzuXDMxORv0d+yGh0P0tOGFqAlqBSBYg1IEVdGOn5+WvIO6muKyWSzSOHEfrW6JRf0tvKhqHZv3g9WAh7kznXGS9bK+h60eJgAUopRYmLRXJqA68+VwU81pLYpy4VzXP7IEp04krljxnbbHdJSkTsUjGZy2fv2aEL9rAjByUSWaFJ1MEKCqZhEo0IRPr72j6bhwktOnZbJrTiB8p2F/H1VRIeLmwx7S5owPnYv6tqAofefxRJIHMKlvpH84KqNKJYt6uwGBHyAkRp8pXb9qU+Q0e/YvPlt8+XNfQ+NRkmxLU24fr3j5cF0/uGxlpnFl8O5EOUvHRRjk40kQDhTgFhD4RGpydjCIBnfO3nggN4pyn5+yuD4YjENUyBkuPL2Xe0i5sg13z6XGwmMdPFYqSXKXH1es12QmsZOs+O8UCqCZacVsqaPsWi4xyubzZZ6OGsTb0jU3bqSvoSaJYefUuAQv+Eh8y5StTBhauzRFc3EKReQXgVSqdkzl33tsVCMsDrvaU4g/3OKyKUDPEP/7oAG8aiAyF8ghpUGt1lTPV3PHSeNYTjpO44Msp+MmE0J9gcgudLNiuLAiR6IHmMYZ5TFcpAgY7IAVc1/WGFSoS1W9Hh3/wkWo9OsLOz//0+b92aObrr7+mhUec6nlzF2DqwlTXxPlD6WxvrhA6NxPNFRShEungxET43IxE2IOpUDWPTvOHlg4N6PkD9fT+uH2j82gyqQ19rnExZq1RNpECi0nI3t0uqsvQF/QNGcYoxJ1C3NGnIHOWERmbWdXPKZZRCxsf9JLrujeTh2DBQDGLf/y0dH+5vHoXioo7rrFIW7h+mxWEC9dvA6Zw0XJLZbxncTEdz09tKQlxkQVYYfxi8PgALguwNAiP6XSjHOTvzqI80FYqKaqLEWXOFS3FkOOhfjhyAhaVHYnTSot/VbvLahfY/m2WmA5YPPUdvsPl0tuH62xeAktPnD+UK4RmFt8Wmx5tISnh8jMQbTmX1MAUugQ4RZS+oGjwEY+oqWTKIlr++fw1hersrIzfSloN9NALNKlwBrupIr9Quj51RuyV+QhV4SnNIgpjGU8yJnIo6csl4wNbKIJ34AtwiSu6RSAVvvrFcukhC7B6l3Nw7eYCWlAdymXjSF3lse31BI3W49xpLbmFAyJxYcDI/Ww2TWC1PnnwU8lUloVowG9ODIaKnACtojSWtcWSSAGSWNaEKrawIaQiWnkY3ijjk8l0u//4Y/VPc0Q6+ztPhAaZXOfJ3LYHvQ2mVJGwXYjr7L4ZOhU/ZroFPMVYX7lc/sEKqe8PixZPZYb30uzrd/ZcmOoiMKWzvTOLb5+biSbSGqs4PrrPF+4kVAH5iVDUbnOvbOMPoSqXTy9l3oJyPREafKPzKO15uCENYLkXiFPu0DtwHbS57968AsDHd/v61BnueEaPRtVJdwhs5eZlly5e0lUtuZR568bv/lB0xVGIqLq/TPrkjs7tnfeZrHBL4rlcs4+LtYPFoupB3Bd4t/QrdYzz1+CtmILIpC8SjGjIQGJwbllTihoTelsfXtNMQJbMOBcRFizPSAYgC54+5OjgtfuPE5uIU5BTaP0AUzAYO/3d+GXzNir8lDc3Y8f4rS6hZJsmBKyRkcYLU10Xpro4BGcvKzvhmzE0d+xcMjAxEU7GNOlDtW/RU6LLX3ztyblXtgGhqfmzyYhwU2YYwbcKHGbrDCvJlda6c+ycjREqTcM5f6vgtHuhQvc8XDNFYS+XCVd7JrnwTNuoXJ93k8k0jX/P+jI7KzbUOGECl2ymkr7OnAkIbKA1I+yY51uY5hYUPvTHnaYHTEmYTGUjuVNCW2ZYz/JTlT0OGirG5piet4XZHr1VGYDIZtUOZ2UhpuxUH3YNF81gFknyIPOArFB+rP5pYhO5zoLtFxrbORxPvLhv+476nf5uVHYs2rJxyssEGnn+JyRU344mfxseCDmhQnF5Y2P929/9Vz1yLhmwDLoNVfGkVFRHh15KpIMzi2+TXA+ONO07vLshsF9OxIlUostPwxpaSo2gynEd2f38/IF67TpeDF9K+M4lA9nMsM62eyGXTy9kzhYXL5ZKZVkYM8bs6Tzd8tWbH7wepFW9Ul6VHLTS0V7KvFUqaKOfN+Jq5lJZAL782Wo+f40jRJxyh94pudPlqzfdO++X7mtG1Y6penHqzvvq+pkgBaricKrnaMIWSisSLYy7Z5xt1kbATFGg0eOC4jTLQQSRIEMZGoUAZfM25BeJ084PonXA1ZPY55kdR7UeglxI9cdkDHUiqL8icRCaIzK+0Nhu8ZTZ32c8uw3/4MWpuzevvH1Yzd0LU11tgVrLo0+cPwSKJk6dvRwKJ4NO9gBAOrWgnYInQoNWks7Fu+P7dfG1J+/4fn3H9+tMd3sh7vCEsWPiAlIVZYopsOXAy1XHwAwIlk1GlvoOYrG4kDlrhpk9iWql7lsHatGyIQV5nKXp9ImDL2hfbjr3+9L9ZbhPL2VdnEfmC64mQnHL4lILqsldiFTtOWCjEaFKFLiZFvTUvaby96Cc4dTW1tYwdH/w1QNVjqZfy8mwvCagzJKaOrV5T7zDYDNQC1T1cFY5lrJgGxAOkqKgIxlyLCzYxqKfPGbWh2ivMs3g7TvqNfwBA/ij6z6ZbW38o0rRHxy2ssmIjVOjzs6eN3epT9f6bL+zh8nks5dDuctDLX1aFL7LV/eys1vxq8vf3VRHX49xiJHdz9u2ta0DzrtjH314Jp8ePzcj+/ClzFuXEr5LPXUfvB68PnXmZvIQz4SlymaGNb2cDLjZWWH2Umk5sH05sJ3nq6DLy+paM6cQreaIfv6nz1lYmUxqfkv/ZWdv/O4Pimvu9LWbC9O3Zt0777NG18Iruj2w6VAc3vreohbKWee8/HKR7naprMFmb0grnROcj6UgvMFQFlWxmpQMJ1FLTIIbPdk4oHschWHKLbaClgJYsbvU0OSDDH5hKQW2qjncjCCG24p+XZERUI+7SwVPecvPt+KpUqkEJUm1nxne+9t4Ay2/wdz+ZMyD0OlsLz2Ulr4GeU5nJZcgOwF/MEi0KHrulW0fvB48747dTB661FMHtkol0/S2uAaF4nJ1dsJr0R1652byEOzj3ZtXyDCsSPX2OKyvk68+znYKLV+cr85XNlmVDF7LLxdvXJz3Ssihd3gygQlxCniKfIV8idTELSwAHWWgNYja4uqF67fJMwjKWdLNifT2tht+KpO+aEkB5gcJVWQec/0kivPmkM2B4GWRHavvm8rS0CGDAbat+KMaZgO7EKNbztLeaWg+gmsCA/QWT1Xz6D+m7vvBoecf/8HNzc1C3Bl1dnY3iVft/c0jDY1PIakZdXYyPZOMSfO5o2ZbKNzqZA+Ewq2jzs45fyvYHwENX0KcQ4TDr99MHirEnZvJQ0wv30weIu/OvbLtUsK3HNg+f6CeUOVv6Q05A4ifU9F4qVBacC8sB7ZTVUDPn0sGZGtlXrAQd65PnSkVStphY8TrTBEaurpcuDZXcqfxGtEHZPHiRx+eKS5eLBudpw6tWQioUrGsTUjkVPgpTzZ8/TYUp6Shf/xUL1suab+pEe6FHAURzoxaz2KahGiaOzoag93t/uPBsLordI1huEUvVHYs0UEiN3s2x0ZrSqiCm69QqPKr4hwSAe2X9KAB/txam5ef/ey/tu+ol6+LGl0yXvoGj3735hVSE6gKPNXz5q6J84d63tx1fHRfrqDUdNbtHBjsZja9w2lk5cmcvxVOChKR2T0uD8rP7NQJd1EXiX3z6fRgNisILXTtSkQ3OxmFMgBSaV7BVQcQoVP56s3rU2eu3VywKkS1+/689nG206JrxTLTH4Fysi1hTTAUy5S+LnWfwdXXbi6ouFsuciE9ebqRqLgVXI3vIsW/oB+T9EXNE+DKsHD9diW5eQITXTnTVUmmsgawP9wzyl4sujzM2XBWQs7gTn83gjdUTiQxLBPsDhss0NDF6EWMMI8aE3TG/ltCHvGI8XQOB06vlbXJxo9BqXUALtPGKfCUcdz6UXXfPx5ufswzC3Gn9zePvPj4f/f+5hFa1Q2NT406O0dGGifOH6Ln0xhq3Hd499nLavk5aSkBCUzVIYnRVEq82Ulx7YQqAhln+47v18Sm4mtPXkr47vh+TTKeP1Bvly1dSvh0dMvSbdqg5kWryM7laI1AVrRmOVpzfeqM1wFckS8I7iB2DoyTWSwVr91c+OjDM5d66gpx56MP9REo3/+CCIWWyjZ83Lxo+EsJ38fZTnUPCxrx+TjbySPFcmm2ONM21NM21GP7gPBKojWDcgHGlsOqDcKxFCeHx6kTwzGJnMFiECDWeR3GI5O+CCPxQmM7wB/CAWD1xIv7GIZHD8gtv5rQRt2Hfurv8+grn94GT3U3iU1/+7Dwc0PjU91N0kl1OI3hCV/u8lAiHWTiD4f8gWiLv2M/qjm71G/vnmbG/cBWk22155KBjz48c94dK7nTH314Ru5Ui+HlwHZdaX/rx9nOD14P4r7w9uG6E6FB9cWSkUSXXwsKymVwkGhps3IeFeL62io+Gx+8HtQQaeYsXQmJqj+9rXhc0XkWi2WWerPE5cbFeahNYeRrc9O3ZovLF7ZAa0RMQOvqaKXSr2CoAbPzg1EGloXAeafSOcnTDa6uItRURz346gHtXiacgd9ozXf6lccAzHbMhTofphwFgzqPxjOb3EWoglawYDt2ctj2fY+EQjv93Uyls6aUUxgMRziChokYsEs+LI++xULnx4SSf9/Pbm5upuKBFx//7xcf/+/uJrWnM8N74dGVUwsh1H+IEqBWGbDnWHJs4BYwIFacyqbz6fGmI00hJ2RH0vwd+wlVI7ufn2yrlQB96J1quISkK3PXMAAAIABJREFUmcAnIrUsR5CR3c/bWEZEu+P79c3kIZw/SwX1cIwXmzciRgVgG4LYpZ93x7LJyKWEjyK0cG2O8CQhFXjKEFUAq+LiRcDXUuYtIpRwnwmLHFG85ERS5T3VQsqUgR19J4LhCCeQsWHaf1bPibDAlnh8msR/FUuItlhf6nljmS2T1Ho4TDEl88xLB5gNRFfFLQts7Kxre7Cjwk89JHm+gaeIUyO7nyc17ajZtqNm2/7WZ98+XEf1F07K6aWlr2GXr25o7piTPTAQbSHhgKKZR5/za+Bz7Fg4l0/bVghwd6nvIFX9/IH65cB2OKz5A/WXeuq46kS3kDMwdkzgS/2UREpbkTNvFeKO1SVgr7m+tkprpvjak2gp+BE7i3Pj4ryG/qqm2BlZYARchPpiuLh4URTAYvj6lKC1e+d91HScBqOiMjuIDD3puu5C5uy5mainHTdilsK1OUEz04hJ5dLI6kg+lTj1cG+7KExTzTHLwuGo0JaafrLKA7gqO6hFEsvl8njLWjmf5dGBUQaUibyEgUJvtdPfbeewwFkgbZ6Da7WHpwqam4H4N4fj304w/cgolujy//IXP+/9zSOiFMzcDHMUZ91ORAlYFTnpUGohThPw4Ii2rpIXlwPbiVPXp87I9zGblm1xx34twgzsagw1NgT2yyS3ta7ZUU/K/PNqcArDD4UhY7M3f6CeVD3q7LyU8GmkJjNsqQ/w1Nwr24qvPXkzeYhujzcyYSoATPV4pPq74pWKpXPJwFLmrfNL41du/4+S/dK4ZoQr7Wl608QsVD7Xp87MG+zGx+pm8tBytAaB6Hl3LHd5KHd5yDOWyrliwU3bJ3Zy2BAOOjxk0GRSFh2EMNIb+kewvFSghnFjWS+Jk61cMOuW84IS3envxgnPjjETp5hUpVPE9Gu1fkoaaUOVPvTzXPn09tuH6158/L/3tz4LkN7f+qyF0Mx2Hh/d13J8B/I5jPQEwYxJHs1dUo0ccOKBdHpQes7M2YFICFoK2frI7uf5F6Q8nPO3UvnbOhGmACgOniJO3b15pboq2fjzGoiMc0AQvOP7NaQV9T9+QJarYpYdLyr1RNwLs8WZjz4888HrwUsJ30cfnnHvvK+hUJOp3DvvL/7xU1onqvKKUkh8nO38ONspSGi6P5cSvpvJQx9nOyWwuPP+aO5021APuiqpjQ1BVc1P4dmqkT1jpEnu4lgQpPpPx+jmArYt0Z40tg3SwtxYJFSJnzK9RcywgVGoe8OxFPHIgm2+hGW3Izj2CL7Q2O7FqbynnzJzSf8BdV8y1tv7m0cm22ptnBp1dg5EWxDT5AoKT96mrOwB/7tdDNAMDHZDUJAs2TGTzaZ94c6njtS/0CrGHVNQpgLlOxh+lQWZTUeamArkMDO3lE2k/C29hbgjoj3ho69N35CAuNR3UPAt85Y79I6dlrd0KuVetZsClSCRS41pc1Cnb80SrVQBlDUxLis+qwK9+wnjFsXFi9enVLLAcMneL/OW+kh33qemOTcTZXVu3i3ZtAdbaiMUO0q1xtVArWQqC28FO87cK5LXvFuyLFUmfZGFzB55apaNW3TPIWROnol6A/Zlvo5uCfrV8ujVLZ2HceruzSsMzZx87lEi1G/jDb+NNyChyl0esqEqtRBX18+M+2HnisyEi3F96gy6Kpq4yVhve1BrxFPR+BudR0lWdPSYXMdl0TN4eWUbg81jx2S9eC4ZkDa9XMomIzKBsd0oGZRvrq2tgqstqpp7ZdtyYLvCmdknCJJSrDBWG984B2aRcrGsPbSzk9FLCd/sZPSjD89AAVQ3VrwCsKx9qBZXU/NfSvjmIzvJV0Cq2eLMuZnouZkowoUKnvKEFF/+9S8kn3OnJaFCOE768jhLs8CWQh2QRVJilltWDemLMPe5vIuqkyAljsDo7qgf7TygDU8kMQ7HEy/uqzncjJOfSPp82t/Sa/kpKwI2Ll8/Eu78u39884PXgyefe3TulW2EKuCMnfdKZ3uH5o7R+YnOyuDFyR5w0jq6me72pb6Dli1ayrzV0tf85N5nXmiVC2hDYD9UDishus6+4qRDvnDny46UDVo+7sgbB2IFg7f82DSqThJYNjMs7tWstOFxtDULmbNlg6EIUiiNrZ6GyWSoVapCQtite/embyyeXxofv/Leldv/c35pfPrWLKdUwOr+F0j/kFzZEyuxumHQlXEN9a5IRxNzWcys7Qh5s4FGSQCTi8IgaLxiUAUSsyA0OIeIH1X9GXGWNFY58RLslPcsHive1mRfciS2n1gV84s6+k4MpxKR3KkjIU+PbosnBDJb4xTZaT6iWYR4ch9eGVT7VuSZSAe97UMTvrahnmSslxXty4HtN5OHmN3L5dMTE+EOp3Hv7np/hyyrGwL7SVY1h5t94c6Wvubmjg5/x37M88FWaBdGdj//RudRSP0PXg9+9KF0nh+8HrQ8Ov2+NVP3VYcq6n/24nkEPLgay0RDV1l+3UtWWk+UJkidXxr/6MMz07dmr9z+n1v37t1d0+Snh6hNq+XqrRUM9ohNNJ6p/z/68EypXBabMHVCGujLQxqyN3jKm1Ha2Fzf2BD1mBM1QAGIAJcg1dF3AjGLBdsAb8C2WCrDncvWuVgi3hG5bBKjKwynDnmJHAFewKLuZ1460Bg0GyLNFNho7nQwHNla93lg+ydd921ufn0zeWjulW0nn3v05HOPzkdUc9GtPpcMYESFbd7xUc3Q0AEcmjuG5IXjSh9mZKQRP8i2oR4mAYfmjqUW4sCx6FjU/24XFsYgrKbwq75wJ34VbK85ERqkoXx96sz1KSH0ybZaC6ZuJg/NR3YSsJhn1iSgWeLATAXSUBu2dKfquJoKoMj7Gc2dPr80fn5pHI6CH+H2IVlRoa7YZzNt5sDcO++DyM4vjQtPGbkDKhyWlXJykNdYPVQkd4rZwGQq2+x0W0f26Zxx3DJrxvOuWCrt2c5dnZ538/lr3AfvcyxRfr7Q2L7T302cgnwIOaI7dvq7G4P6s/9Ql8VTkNFb675iqdjdVKfrbWw27SUXfW4k6bmCOibR2ZahuWO4UPnf7WJ6xktNhnJaDmxfyJyN5E49daSeP7j/UPBjXtwUfpW81BiU2pCRwLFj4f2Hupi3Bk/Ju3rqBCEvm4xUPvZYZ22sr63SFeZYqO+bOQvssiZ5Nilx4bn21bcrK/eZXZJPnsHV55fG08WY8pXx05DA6r6cgKDMyUvUfR99qBOpCGWkLlBUMAhSGJc0cc2GYeZmNjY2ikbSRaChcDPW+gb6GjBlfayVAFJZD3Wb6UKDfbR1Ai6fQVb0gZn0RRCWrQQbgzoNkOVbHPUxV4QgY/KL5Y7bd9RX5mYEAP9x/6l/N2r6ntcvxB3ilLQCFTdaMlx4wtfzppz+/e92RWdbiFNIas5eDhXizsfZztnJaC6fPu+OyUs+sKsp/GrbUA9r37kdzZ1mg0kkd8r/bpf/3S6OLmWg3U8zdiwccgYag90z+RnVXMY4NNPdPn+gfqnvIH7q1ludzLqUeQtgRYjxakC7l8QsPbGnd2XlviCVO50uxtLF2KWEL7UQh5cAT9lBZZtZsX8hGHGwp2/NUjAiHyVspRbiOu3u9PStWfqAGmvLXxvPT1lTo2QqyyaBjr4TsrIyKyT0NON8SYzTIq/8tXyxRC2pesKQX/BfzL3CrANCLWEKxgf4E7++yaN7y88f4qkvSqX5A/Unn3sUTno+IqOMak+fRDrI9WbdA2pPJx1Kxnon22oVqkxn4WZSU6B4KuCt3hR+VZDbDKxzsZ20YDMoGoDdHux4o/Nou/+4v0XLIN3sLC05D0VPnZidjBrXBM0h0zXf+PMae248vO2IC8/lNa2igT681e2FN4WevfC2q2IxtmrAK+8JB92aTRdj55fGpZEzoaq8enflf7/0HMsq0hW2GFX4S6Fo4tT5pXGJMO68r9Pg4Smj89wUnuL5aOVZdkQSw1cPUgADGdTt1QQBzKXxPzLUvpGwptK5XC5PNiNUwWJaxV27/3g12GbnB7qHZqebneANzUfsfN/Kp7eNEY3g9k9eP/U1dd/I7ufBUxxdpvxwdzk3E01ne8/NRJ3sgaG5Y5R+MBjZqRPZzPCCe0Hq2WQQ1hwqyhfu9IU1eO8Ld3I+W/pUBDhpKRv873b1n44xkYpVMRapjcFuSkKv8eeoo02ziPlniaqiNfDrhbhTvnrz7s0rxVJZlKixBvEil1kJ5WXT+1+wFL5kvG3PL41fmOpCcZpNRoTZTR610xQIpjh+1Ib2PM8WZzzV6PKF0v3l6VuzQ3PHus6+cnCkKXd5iD0mNOxYXEKo4hyyRiCSO8XEBdGKDTeR3CkMbGX4UVzOu5J0XZ7/FN6K02i7Pbjl2XF6i/o5ok+8uO+x+qctnjK6hG/p0W2cIlTZODXq7ARCD0Rbjo/uA0I72QPhCZ+TVus3m4wsR2ugsT/Odl6Y6moI7H9y7zMNgf1cV7otFkU76VDbUE9T+FUgNHQAg4iMLp8IDQ6nEvn0+I3f/YH9WiwF8aRfsnMyivQ/ryHAo2sz52+9lPDBGsoXNHNWYcLY45OyvA6LkdXxuOUF5FVmqjbQvg53MVadr7DXoP6n2kdjBbwiNckHxqQsdWSWL2jevaTeqvVLWN9YL93XLhxPn1XQYJd1NGaE3Yrahbdz6UjuVGNQYBtCXYubzCodJuPdfFFlYP4aort8/poVs9hhK44CYJv2MMKWxqCagPgR1xxuruanbL+PfvD3wJn/19/aXMq8NbL7+bcP1/X+5pFRZyd8hceomiJgZvFtRmdSC/HobAsGL+EJXzImO73ZyWg+Pc6wRGNIxmo6k4eb5QgS7G4Kv3okFOrs7wwng21DPc1ONzFLkzfGIBtz9JAToht4JBRq6WtuOtLEEtNsMoJB22RbLZ634lvNPNmc4WGXozU3k4dkPYb/lFkuh9JdUayq7isVSrOTURrZtgcFvZvLp4slaQAtaPJOl+GkOJPnZqLq9BnkCLmh0m8yemGqaz6yU0xFMiBNRjICky1UnjPrS83ueA9PXXlPjiDG25bAxON2z4CYU2MRjgOErNyg2M0iL09DY4Zb0XyCoRj3s7e/qt2FzvP7+CmmnIhToOhRZ2e/s4eBKSRU2t832wIfSQ2YnTrxcVZbHvNp1b2R3Cmtaa6gaBuqhuaORXKn+NKyAJSBfEkWMhBaDeBgOJLNDFPT0f218ERxanMT/dSlnjoEeOiGyWBzr2xb6jtYvnpTDRGz4M+jqyr3bfe3mq4qlmTpmS7GLkx1URFouuq+VoYIVxvCElxtj4LF1TZCkcrATd/QeVbw1PmlcWoKWIOZvEIVwzcskvTYKzMtmMu7Fl6JwkzndBoqCnvxAvOiCZTEzB/AtncmzHpIq8yyh8NibEurP9RPFSQ9w9jvP6LuW8q8BYZ68fH/Rj9FBYDPx7ctEzi6MOvgKW2RMvtHjftjM0f3qSP1BKamI02Nwe7oWJTFS5R7sViEvnYqGh+IKOl29mspPOR621CPt9nEjAdCvCK8utRTZ6tUej6SvJstCVp1Y/aYQqF4kxiVnCofmLhDvUKPG2UPczmaGyvOAJdsuQfAlwzdTN4Urs3RARS35Y4tZd766EMNSC8HtjPGKIHYK9sy3e0MVJAvp28s4soNSlI1d2NxPD9lMVR0LKpB3co4tFBF3vWilZHyaI1zLq+GoJElo/Xb0gG0qAo61dOjGxOndRVP3/RH/6Ikv4S5VySbUh6I7LxkNCmMIqNFUFQuhPiY0e8bzO1PpIOC1oYe0oKDzHB3SNW+jVYHR5pIRG1DPSFHfRO+tCGMBIWyIRWNw6g1BPa39MkcNptIFeIO/BQ+ed564vV1rlPxtScz3e2peOC8O2Zx9XJge8md1p+S5j/Z7Kg6rHS/VCrdvXll6eO7XpAyKyFF+rjueXfMJq5zycBwKgGQVj/l7ifVMciGqvxyMV2MpRbi590xGjHe05bt4LSnn1rfWC8uX2C9uP/druzUCXFhhlNnBp0lIuNX3mNTiOcpalAVJ4MMNj3vEvH7T8dY8A1HwKA8Ej6ORco0hiktqw8HoQoBC4fD6hKsfmrjX7q4+N+EvApxR0tDXtmGnsYafuCSjl8CzFQy1nt8dB+2tIOph04vgykdyJdCz5NZObSP1T89mBJKCjmhgUiIONU21MPRRT+VTWhvMCALs2mi2EBEpjGpuBAKMYWUz7greAoWmLlX98778slMBpb6DjJyX4g7N373Bw4nxJMXpyr8b3WDmzJCTsEmgmjJaFxqVcuUw6tCShSXL6hd6I4Vly8wq7jUd5B/wEs9dRemui711F3qqZudjJI4mRDEOFTpcFlDF2RTakAKwAuFggqLUtHutWfGEH7DkhJEKxUQxtmxo++EjVAgfTRWlbrP03lu5dG/+Gx5zt862VZ78rlHe3/zyHzEQ9E0+2YW34ZNV7tk6gSEugKNKQAT6eDspLAlTHa/s6elT6GKVbTQkxDnvrBQtC/cyYP+d7tisYi3WWjonXBUiYtw1tnf2ex0+zv20wQk4lTrp77861/m/K3Lge24MrQFpHq/1KMS4ORzjxZfe5JSFJ8WTDMA1TxevnrzIV1Vun/jd3+wXTyulrKfvzUVDyy4F4hTgCbISNIUeFtCBHdaccodmy3OcBTEr1f4KdwHNtbXP/rwzIWpruXAdtTSqXjgUsJHqGKKffzKe147z9jgsLMLFhOwDfONimr8ynsSxxubfea8qAdzeen3LDVADQie4kAQob4Ntqv06P8xPDp4qvc3j+CY9tt4w6WE78JUVzrb6y6Gc5eHwhM+NrnT7xsZaTyXDCTSkvglY70Dg6rv6EH73+162fG2bMkKxhR00bGoHHvNoeVkDkRC7HdpCOz3hTv7T8ecdMgecl+4M+SElF+NHVXxtSdpTKFnnmyr5ZFEl3/+QL0Mi+68n8unzyUDH2c75w/U0zq/8bs/MP5FNVA2UmemdmzFgMHDHd+vL/XUySLJ9PhkbG0G8SK5U1qga2hTghT3p2/N5i4PFRcv6gN+oF5vJrJT+T7hE0NvEB9laTYzbOXvgmlmpzzgnZWXLOOiIciWmqJbZHJbO8Su35YZlqGrxFvlr2GR7DUBU1mrI4WUsDGrUvd5c8jfwlOfLV9K+CbbapnnhETH0wd7T8917PJQriAFipM9QLWPzJd+PINRiS7/wZEmApNVo7Ckt22oZzCli2q1c2Qnd+gdeUsaCmBgsDsZ6212uklfiS4/Yzc4ZhgbX2M7vL6u4QCTAcgJ/LsjqBGuNvW/skdJvq6W3WT/mhrDpgyEnJqdjApXG4EyDRpPdmAeGc2dhoQiPFHuWYwtbGyUKSjrcpeHLiV8M4tvmzBVme8zczPVYDvT3c5bZYHN9Lz8hYWhbixi0jB9YxGgRLRK5dL9p2OQuOnc7zkH4gIyZ3ErZaCHJJbL5TPpi9ik4Xhl677qY1FzuHmnv/uJF/fRZMH3So6pBmz/5Pmpr69PnZnzt8JPAabiyX0zi2+7i2F3McydeHLfjppt8OhIalDVaCfNYHeH09jSJ0IKl9qm8KtKroebo2NyrSIMTUyonecLdzaGGmsON3NKa1/ewQnvPx1rG+o5EgpZxqMx2I0Zw6QRoEKcE54oA6GWJttqE13+ZKxX1GQ0HotpUOzc6Sxu6+zxpZKAQbM1I2MbTDXTStKYRFI5rxB3tN83ITsEzTCYvaT5ZTGhs8UZ4X13WgVQMZadOjEfkVmzZU7UTMzKH5U/55KBaXcabyzRHcaAGHEW6VD51YB9WHbTCijJSXnxIhuh7cCZPcapXNrrAKZzsGAM1QP/w7FUQ/ORLXjqW3GqVOJ9n3xOexz2tz6LVR48uvjyqRNMIQxEWwYGu8lOuLsSqqQGCrfa690UfvVlZzeqk3AyCNc4EFHHBNDkC3cOREK4IxCkGoPdkuEZVKVjEdSwQqLLL1ADL25cR0y/T2sRPs52ovGzR8HKqQBZWiNY0kU6lwzgN0S+QhbsdXMN13596gyZioW3duhhZPfzIjszZ6dvzZq6LJ2Ky3hr2p0mTmGdoWxmJOmFa3M0DS2ekt24afOvr61JstxTJ4Rv+ujwvpd66jA8yqfHyYG8Jko8dnaJOMv9nuovkjsVjqVyeddw6grBWDNjG2IhFcOABCyvADRCPhunLK3O8Ce6hArxrwU5P/l+3+bERHjU2WnBVM+bu+LJfQy9w6Bnp040ND7lC3daIypSrIrBpEw+bT+HUIX9vy/cKS+QzPBwKjGaOz2aO+2k5WPRENjPn5rDzWhuGoMi15GqR8e0c4izneluJxiRO6FQ7SQz02aXEr5RZ+cbnUfPu2OM389OCpjLSSYZgCwGNCEQq75dcMIUhqtra+JPb17xno9Zm1nwNTsZlQ2Je2FiQptH5eCeGT7vjhWuzRG2CnEHMAVZdvZyCN0Dt5pF2f28GCtD1SO14WRyC10lBspsFNfwrOlaytbGLO7EB4lopX7ivLgqfJakpIG0MqpAT0+TzrX7j9u5me/Uo2e62y/1SELV0PjU24fr+p09WOWRmrjSoXBrQ+NTNPsGc/ttnFIb2GBjq5PyhTtrArseq3+aq97Z39nZ38n6Qy4tiCkZ65VVm9Ndc7i5pa/ZXmlfuJN8pYlQU3JXtwA2NrQOb8G0fhm40XUydSuRi1lTDZpfm0OBdWGqiyFSEWGZs1jos2Lv6q2VhczZ+chOLhi9ZJhFApY79I6MaMyoDZN31GKzxRngNJwU7RVkDX/H2M8YPACqva5NZOf5pXF+L29bIuaKetj6B7FXgsYKojskwrm8q/i4eJGV4ho/NHaOOM8SsJAaQ4vqNJgxaYYBUVSjZCGJVemnNv4j9OipeIAyn6KvLVC7v/VZyCll02hLQ+NTu3x1HF0sE8ITPq3GSgcZqtdqEtPgg4sgDLUN9SgC5k5HxzyBFYUemZUgVXNY+vWnjtQ3BgX8aw57R1eWDJEQIxkWVWH1eSnhgyZf6juYisup/VwyMJgKnXfHeP5S5i02ztEoxHGBNEadSNha6jt443d/oAdNTSB9g+kkol4c2f081jE0vgl/fApS8YB2R2aGxVQsyf57OVojB4ieOv37uJ2qiI2oSiVR41Mnn3s0ne2F0OCo21BlrRqmTVswlZNjGtbe9lv2QGpAx0Q04pQAVMXwg3ELHnmj82hFP/Ud/lPSJRjN1MnntA2NTt+FqS4V+YUQoQoLvZcduWQAofmLAaEHoi0dTiOaKZudnjpSLzo8HYSM5NpT54uzPNxMnwWwzTJhyj1tNDTpyxfupNqvqvsEBtfXpEu41FNnaUVodRuwwIMDkRD1fyoaV9YyfmbZbHrsWHip7+ClhI9BQs+axoibCSXu0Dv5sWnkxTcuzs9ORpf6DrIJVbbICTkQskhWGlGDkK/c/p/Z4kzu8hBcleWnMHiAnwK0zkd2KrtGawDbajkN79VhHd6bTg9Ou9NetDJG6YBt2nygKtiHXF6BSSOQJROtChru0REpyn/W+mRb/ss7GRwRMxGNYutvUwte3ZevzCH/h9R955IBUAZxCm8PRpHjyX39zp7al3eEJ8S8EKSG5o7JiCqtXhB+xE3hVzucRl+48+BIE9oodFLiYTPDo7nTEqmkB520Jz4gJDFfUXO4mZ6PLywu1UnLdDCSOxUdiw5EtFilIbC/OySlQktf83AqQWkmDb2/FV+2C1NdH314RuM+hhgCE8FnwaKKMzXMQzYZsdAMrwUILK8muHrTfgooKTLd7bOT0Y+znSV3GozGHFs2GUnFA7FYJDomK3Bc4S711H2c7Tx7OYT0DDx1cKSpJrCr39nD20vFAxBbjMtgh2vFz9O3ZnE61vHT1i95yROkmI2VhiZvOHhT8bEYBcmoPZaZ9EXwlPF1+V6/BFvqHx16CVfP6mqfC28vuZ1FQFMn9abZQ0OQouh76kg9HZNzM1EoyYmJMHGKEEZ2eualA08dqYeM5KpHcqeAXZ39neAgjYnbfTNGlwC6ppNi6aTlwPZMdzuSkHNJ5Vs5hEXjKjBZuZ6MoBUmBYGbTj73KHJB8nOmu52pQKnszPYthqUv9dSxLIdzMDsZZX0OrtsTE2GBbcMFmLpPzVXqvo3NzY319WKpiFUu/hAkMY4FXVR5ExrzENFqZnG21DFGcYrRlSWt2N9NY0XyC7ONFaQNvWXxFFYwOO1xS+7ytFrpXDgahby0eIrA+m9q0v0LX5Y4hakLWbYtUNvv7PltvKHf2fP24boOp5F+NJxU19lXmsKvoqeJzmolpVXGMKXMCUwXY0Nzx9j4MDAo9eYLrXVIEJCD0iMCXg1ExLc2O92judMRM6HW7BhhmhkSpIEIg8GEjWfO98o2Bn0gAXBTIEESwoTHXaVJFtvgRrlgxMzF0oqlVvFNu3Fxfs7fSoSypCfQjElDcaDJyLlkgBE0egixmB651FN3M3novDvG51pjJ25nuhg7ONKk2J09MOrsbGh8yt+xn6l7CgtBJ3M+6QZWg6zFu58wYWZNccmaGvYyG+G8zTRmit4ubWKSjLkZ9mLhP7W134fv8BYU3RaoTWd7M8N7Q+HWvbvrn9z7zG/jDdXZyS4iZTK5IaBRvped3XY+RtdyUJcQJCWIa3Z+EKrahno8FG2ag0+8KKd9pkD7T8fIbKl4wDN4MUuSGZfb2NhYW1v1d+xPdPnfPiwP2XPJAMlhqe8g3VZCVcgRrs5OnWCWfSnzlscOVIRXiFTB1Xd8vz753KNLfQfdoXcYvCJf3bp3jxGN4mtPQmou9R386EPZJ4DVmWiXTC7WGzupPGzWsUkZb96w2mdf/vUvxXKpcG3uow/PLEdr6NSki7GJ84eisy1EK/+7XXh+4eZx5fb/eAIIo1pmMSpWHixwlnT4ynuFovF4NEM5Oj3G49GzxDZJjPafDU+4cEAKsG/Z8ugP55A3Nn7y/NTX55IBkFTPm7t+G28YdXbub31xkCpkAAAgAElEQVQWe8/tO+rbAlqb1PPmroFoSyjcCllhmz/hCd/x0X0k18ZQI8ps1An+d7UJYmBQ9CjdwCde3NcdaoZaJY82BPZ39kthMxAJyQDTiPujY1FfuBMaMZVLO+kQax8ldY7G0YXKHDHWiztV8bUnyVigIeIURgvM9iOXZ3+HqNXMW9O3Zq0qsLx694PXg0zn2MKCtmA4qop1djJKYKIU4KPB2i5Rru40pJUYKNMBZFqbW/+7XYQqX7gTnMVEJL0geYQYcZbVPXgEiNkgRXPQa/VUfNwFFwBTZvIGPaA9mbit/d88Or4uiDy59lzytkAth2B/67MdTqMNukzPHBxpoqDVdY22kI62DMo4aS2AYCsR0SoUbtVcW7iV0o+ir9nplpzXTHiColPpXHRMKIzTYMso9Oif/+lzfsTfIXYzOhZNprJ4a8D46PoZPdu5ZICGIKkGwGJxNYNXRB/ODcW/TVkaslm5fzN5yB4mWHBWiSy4F4qLF0VYZs4uuBfovGSTkYFIqOoNq4568NWD0dzp4VRiOVqDQo2amlFK4hS07tGhly71eLt/cpeHZDtrFvOw/8aCbb6UhMr4iwLFuV89Cl99OEDaEFXsy8F34Zt4anVDQlr99y/EPv+Gl5JfQu9vHiEwwVdgPfxY/dM7arZBsJ5Laj3yxPlD52ai0BROOkRU6g41h8KtnuPjoGimgyNNnN6huWMAKBrTagc1H6EL1NmvqZrGUONARLsComPRwZTiUcgZYIpg/Mp7YCvGkijS07nfY8w9diz8RudRGn+IFWzThnOF7whP5lakUjQOHV64NocEgUGuTHc7/WtikAwjnXA2m050+T/6UCbu6kGbzG3b2fTBZbllOoDunffpGDC8TV3MfJv/3a5I7tSFqS5c9/Yd3p0Z3kuKFavF8htjfktLcdqd9hpKJjZpmtVsfgZYXSgUGLqAkGI0FeNja8+wd0/zVn7K9KC+Md832VYLg44oYdTZSamPPT7e+Il0EJkcOs9QuHVo7hhyKqY0CVVO9gDDMf53u85elg3QQCQ0mFKnj9qeTAUDxSOgaKumow0P106ysh975vvW1tboBDcE9oOrU/EAFn3Ug5IsGD9D6jtQsQew/a0LmbOMEGczwyw+eqPzqHTG2VmVP2ZZtqn4tFit5E5rwtlspvBOlb91djKKVG92MsqKJO7MmW/ZwenVtYc+ebOTCrsYwuAki/eILaU5HwdHmnre3NXQ+FRboBbvEU1XGP8gNstbip0jS/oCe28p/TxXbJPH7GZ5qj82mGKQtoVHpxn8k49TwlO9v3lkf+uziGnePqwd7o/VP43sE/c0XD3PXg4hnUmktYWEkNTz5q6us6+0DfUwf8qUxcGRJvAUdJXlUn9Vu2swJY48nAzKczUZpEog9Q6nEsZnTgGLx+kI0fGAwcynxxccbVSiALzUU4c6mhMlGBXZeW5GozzYLWS629nzjHog090+EG1BvmcpbQaqCVUi0R0xD17KNFlzIXOWAVjbzmZyVqo70/gTZDOtfInO0oMic03FA1XCINpS5i3565o1iLSA8GvDOFSo7dqcKFrTYcQd1wyilq/eWrEsRL4oGyXGmykAU7m0Z8BtlJ8hZ6DmsOIU/NTf9x3GH50Wb1tAi7DbAgpb3U11T+59Zn/rsz1v7hp1drIHjSk/JpOZpAlP+I4OvUQ68oU7IQJqArugJ1HNqcoL7JLFjzZPPFQnID0HNJHELIomonOx6fd5U7Kb6vcBsHnOcCoBrkaKgqCuWgRMtELGcslslPjg9aA79E4uL/WKzM8yw5qYMcvUPGi9enchc1aSXyMmoPMikbHxLE2ntVeVchIHa5vZoOcrgdXEqc3NjT+vldzpXD6NvsHYv6YvJVR9MB9rkxj/aOz+0bGI1riLwvxaW2ImnDmmCCOsaNhogsWgP5xjuH6bJIbJOmayVH/cYs+A6Q/7Zv6D9Oibm5uZ7vbe3zyCA+2Lj/83repHHpeB2m/jDTT+ECrzUcTcEdeErrOvsDq3w2m0AxLhCZ8CmSHa5e35bldnvzTJQP6BiOJUJHdqYiIM2TqaO60ZjKzxcY1GmQdkmiSSOzWaOw2kwlwplfMcMlnYkYrGoSboTYPlJybCNAeZXcUBnOPKTgpmHuylt065tqbDTC2X16oU9877hWtz590x7bAxzg13fL8uGdSDBpDkx4jfhakucbiZ4fz/397Z/LZ1Xuv+/g2ddNqODCSAEQc3AVI4UGN9WJ+WTLGqQuuDEilRIi1vJTuGqtAkRYqJRZWRHJW2CIE9FiQrkOVDx6rKHLuF4MpoPegggxRwgDvQ4LipJwU89DA3z/vbfEXLSe/BwTmn9kUCg6EocnOL++V6n7XWs56ncCmfzOSTGXRpyBNpHTISeGO2r7gyDRX+s+LIXrKeliJppqzDdj36MYbnWpPbFVp+TDJn80XF+nRejHYjKIruVbh/vHZuxlL5avCU8UNmd6K/y+7EBhXxi6bA2BTXcrE8Qm1yZvPc2zl/yPVxvcFT4V+NAq1tDojSmGSnTFXSH/SjmKH9Kj4wNDMWzwqpkeiR8ycXknYcd750sfq1l17Ck8dKo6Bo07m4tLGCnN6WK1xNko+xLRHKMq0wZUMT5tN3YkiSsmLyGXHbvAK28eqQdfPE26pDGVm1zfAAF0wceiOZqLqVocWzDmxEkxK2ylMYzSvve/zv+5I5Nv1gWMiqDqxMs03ZKSIGIUs3Z24vv18ojk+6nUtXpV4EsCJOMcQDv5S6pipfpkoF0iZUUUoX2KZ+mZcEqDe+YBYHqjKBkESpa/lTpnj5+HlP+4wfMnEKBdoLg40RvyBVLufDcsby/nBFlgyRMXMnG3g75x9dPH12pgM85cQHEqUPAVxoTg3NjDFZUQv5iVBX1sRTh2Al1zLzIScXkiOT4qMTpGoHbvheSEBmUFOEgVCICZtsehzZSCRGoXeyOG/M9jHA7FGxEi10DJk/xcQElGRJpAgz2JL5dsZd21iTvmixAHNQrhPZBKRNgp2yv/JCcXmudHOGXlOhkCqU/gUJEw4ln3PjSi91ZtMxdIu9e8l6ZnsZtSndnCmb0fq1jbVLt35NxZaARS0MsWMwFBuk8IfRLLK8GeJUw6lmfNs97bZD/n25trd6Bt5srj/GBsUlP3L0pde6jl8YbFQFvTh+bUV5HFoZizedqVSEeHR2pqP/fDO1NwqWb+f8rAZ2J4ui++Ijr3Udrx8MgKIBUEMzY/lSwZbbzfdHgIs1wVV/Ck8Z/hTrIFH6cLW8iiW6SAYXi8VsAvcahaS15I2xRpp6N8YaEcZHIQjgncv5mMC6PNQg3b6tDHGKWLC1vPhZcUTo18Sp2xNvbxQ0ycmmsbW8WCikkEXWpKixbLubPfPnu7fu3N2qBlY73yddF3Y52HcMzSpEriUlCFMUh5hNDLx9Y7YvuZDMZLs5stX0gFGxXlkrFoXIFDrLsqLAeAJ7JfB2eVvD1R5pxUQr7HDYyszGPmVFFMtGH10NyheElwCnH8uZC4ONl4dUS8Ua6xeZdpE8itJFyOV8+Uw0l5MXCVYOSHTikGw7fQyiSvvfUJGnUuJw0sKGJMWemlxQS5f8KJ4UBWEuP1ssavXG4on+iQD0muRCklfRGpI0hZGKrI+2Un5NlD4MhEJ1zZ62OrHJ+oqjEXJ5qCHX9hZ1GDp6XkKAQYOZ+INmBYlU0sbbEuRY21j79J2YrJWNqZKWx648nDzLCSOSRy2pcn8X+QQoV5rAvzmDCye+v+g+xpMqboCtgJN7yfrluS6YE58VR4or079b+chwqVS/V0RbnhOnr3yNb5Cm/0yHB5VHxSYTpATtjWlAvlBiy6zxm3lG1+XzP92L+DUcV4uijxwVNx0B4lzOx4iftOu2VRqfSvaPLp6GnUCi58QHSF6oxsGxAn8lF5Jv5/wjk2rnsTtNXkxPpSLEoKWlOMw6ZWEl6QFRmOyLjwgubWVWzURxFZ6ozEtZWiVhM1DCcVACCjpiDycXxKNjGh4yOsVpuOn0UzzFIiNpdiUbLRTHNVFsxBJBLsQgeoK24g7uJeJA/twqa7CTaKKX3NnUyLMBVJ6uy5PHMpo35mtaRjsXCoWUxDRWpsUVns2jtG0FAimmUm6gWbkcGS4Ux6/3Nn1WHMGt58qatJJXy6tKM037xsPb1VEsyYdWOXhSBDV5h50TxFMLSOXVp57WR3/u+31P7mbP0KH+4KcvWapnu+91K5mNDSWpQHypr3uwrX+infIT4YndlCkZIlR+K0MmPnkxTUV1KhWZLcSgU00lnHxJKVVpQ4FJSl7ZGItwKiERGLzIhMIGAy83vfFKg4RiXj3Z/VrXcQSqqGm4BfHdZ0fDXW1N+tepkftw//i7I2dhh/JjxNHjk24nBIJc21ukh1rPZuoF5idC2AoNK9Non6/+fkcKCrr6+kIVl+dUI/v9DvIv6sBIIEhKRIhlL0eGcXXie2FvP30n9u7IWcxxwVbpdCKV9ziJiJSgWcDeWVyZpnKPItj65aQnf2wyQY+ggH+E+ebaKgQDNMQpw0uAP/WMTt6f796CQITREFedUq6NU+xOzNAiSgVZzjZQRhdP2/q6l8gYfTI2KCc+4HN8SvXNlsJMsqaQtjLzpYs25wdFF5fnQNGxeALEVNkVC9HaC//1738jl4RJ7ItFwr8atbiayno8mYSywGZ1PdGiQqbR8dgMD9DVZsKG7I9i0/JcV3kn7pkDmqwedM1kspbCZbUvtzMudVBhtKLXA4ZlquSxqudZozv8yIouCAotz8G32s64zDcUCvKGdVzNErEjMVdkwfbM5jmGbBlmljLJyjTBaL2yJqlP8/3Rjmrm/q6WFwTCN1aU6xlXQaSsUDGm64ewusdLKJef5iX8N/To/ksPiU4e3DdYVD0Db6Luj1XShUG5ukGq4g7zXhbp0+ybLcQSpQ9nNs9RFJcEqJnv40cKUhAAkwuat4de49kFJ9UbgTkZCIXo6tQPBl5paG04JbI7mSA8G+ZskLvIlwoUoWZHw++OnMUqnFt+3HLjEquJDM+OhuddJX14ebHwQDd70Toxlpffv7YyinoaarRXywteD87oupDiEZWkjHb/vrUv/e1vPoJvqJEakzfwZYG+w/1w/zheqlBYg47DJ1PaKDCBv7QUR6Hg8lCDVRwhfolf+rt7aC2gnm5jEwaC3o/GSJx+n8VT35n3ffDTl0j1Lw+Je8JVh/CJe3suJ+JcLueDk3J+vtvmd6OLp7VHZaX0CoQmVCGGP2X6vpZiTkFqaGZsvnTR/qkylUoq7cdgKugo9Qs6Kl7W1qeM/tTj/f39oOMw6c60M7iahUJx3XGd5vpj4f5x3EGwvaHXy7VZjgyTL+Qz0b1k/fXeJoaQIb/BbWGMhlDFgLt6/3c2Sc0qO563AkYPv1v5qJhNrG2syRDQ4CnVAo1g1uPHwlN06Cr3d5kFJUiJ7G5mJthLZUdeupjfytSmgfOli7MF+eJAt2PGHULzqinPE84QrrCGumr9GG66CuqFkvT2TJUKCABloZbnaevoLwIv4evN8ICdemOtfvDTl4aiDXiOQk+nhU0UOzvTIY0EM1Jzfr6blvQptw16OiUn9YWMRgJ7cKL0ITpz+VK1EbaVKS7LRWpkciToOMOxUNDRUOpcflYpgqm1D8dCTCxPJRxppJRXL22sKBN0VLOHVzVfurixoEQMeTXqU0Qu69gMrrEkhs3wAPIvFu/IYMnQDq4nWpC+42yXluKpvBJS2dNVpdCJsJWdT+7c3YKyU9kTk2Z5rmt2NAzf6tN3YkTGoONALl2ODMuBxQjtIj3MYSWSk40ZmVkvWhUKKc0kjYbFo060UHQvFFISTfvjvzLix3SEFTUm6UNHNF8o1TU3VXkJ36XrsrvLQLalelJNH4o2nJ3pQDKBWQQ6Kefnuzuct6STn1Wj1zW+Q8QsCuRusZfWCUXKqZQGC9BLUEa2pnl05qdAnqBoPlxjcKBJBYJOe7QnFlfxD/0po+b5+Mu/fMmu1R7tefVkNx0ZO8LuFhTaliPDXZ0BcDV7AjHr3ZGzFmCHQz2YKTH8CWtO28hcF2NWIrkYqRA1RFam7U7FFrFeUdUQDjqpIoplSv1MHd3yEqSPbsaV0Qa6tjKaz4gfTGrJ+mD9EUPjZmw4n8ysXxYzkEY4lVSUZyFeeUmoMWUSUdCs163yNdp/0i3brqCohwA2DZeDPc04TbI4qo4+XlHg+eclWDxlp2ds1aK5/tiFQfm507MmP8DlG66fW3DOznTQkp4tiGRAXyiV18ohZi0txWcLMSoS4ClLA+yf0NBMIBTyB/3GLNMpFFLAjfQHSgXYdCVhZlIeylWUrqjVugVlT/gtcesRnaJ1NPgoVtjBeG8sLNFi+VDXE/IDvjEmj1W60lTctZmNNYZDPRF/o/joVcXh1T+sby0vYu9GnNo1ekRMF1JE3864OBVE/KJPL5yLU+qdHQ3L7864RjExRpnoxmyfUsutTL4k90PMpTLZbo4Zcn3eCZi5fVp+UvqvGUi2k8k2Tlk89e06eeR9uba3uMbgKZCzve0ZeBPmJybJFKf43JlCoGqOdgSD5m5BzCn2qJnNc5LyMoke1xKBQeaTRU4xKHouPzuV0Hg6ozP1g4HhWOjQ3MyXf/kSmiiAK7mQRHa9zyhbuwX1XPC5JcBbXxA+fVsFYChcfPREC2FCHN+EfAnZvuAcUO0u3ZyZ2TyHQ5GUXkzCz/gxxHGKAtTLq3jKfO3lN/OImWEMuEDUV9ZUniSjZLgBoZLN8EC4fxxiVyyeQEZCM2Jr4hnzD/YsWhyALFTDbow1ljYKgvrVZjDLojY2HQz9ZeWLdYg/BQB8geIUbE8bpMgJUP7g60ReT2UdSEURvT4qClX4V0qaWEJyNi+kbKgiPE2ltGUyUU+BYjjmRSh/0G9yIq9V/Y0pBloaUIqSC5JAKJfLsXjC5/j4Fnh0rYKgljdGEx6weRxlUKb8PG766WObp4/9se9/Qw/eS9bfmO27MKhI9HLTG92DbSrGm6hU19xE5LLfYknomSIUkkSCVMZXSSNfOxcUds0wDSVzILlqcMkMum9wpDWHbzbU8swv1e8rFZTiuC0MMKfyjsTztjLJhaQ//jPNfpmWxY2xxogTIGGSEEjF2AUahU9MSWqXJfe72oSn6pqbdne/Yw7Z1qfQybNEquZ6TywRXB3xq/XL7gSw6p8InJ3pgC93ym2D2MllJu8DNBGbUnlxPvmaARCoQ8nhPhYiyxsOnyeEOa6gteTKQiHHnap+7T0fh/39B2jFMKRS2hCHBb19pMuSC2b4zpUVIOjaYhbrjQrYVngyktXwGMDe1AK8Nopxct7OuLbQThXciQ/Mly5CudrYq1wtLxSK42IM72k4y56wzfsqe9cIUlvLi6LDjIbR2GPzoTbBMNByZBgAODsaxjjLqPxIVYbJaqH0akdZEiWjYesnCPFCMPsP66peGQ1GBqlYDV5lCuHqUoGhqlpeAgY5L1CcAk9RWrW3eHpH/OoDoqlUKI5nst2aocnGQq6PEVR//Gdgf6GhVCSejSmvMRuS3RX6J0QmoKLqxAdGJkekvReTyIfHMS5p86it2lArZH6lvF2BSwWPAdkmvsBgdpvHUV6wasW6rMZHB+jU1dbkxOXLu5esZ9j25aY3cO5Ev+HlpjcCoRCK7EeOvvTuyFnJot+WXhAeXxSC81sZll98Sdoy825LciGpxey2TDupXM5nS2NQPdhTi9kEDIZCIZXPRB13ivn5ys9fu7YyKsOu8gI0Zj5w8L6a2pFh2vEI+atKdV3ucFbdhemZ5cInDaeaLc/TJk+sw/9FZfP/7O5aMUzU8qD5njz6Y7J9RpRtto9oOtYdoCoEp5ikoa4GnC6uTOe3xPrnx0JxHGht4fTQzBi7UyAU6jkzGgiF1EYxwIr9R8LERRnJUEfX1/6x9KdIFaW7dGczXyqQHtqimFtQmC/P/JL8H/4IbVS1VA1cYkGwLXALuoYGdT3R4s244hVmhtqtJAuXcHY0LHE74+BQ/uO/rlfW4FUZ/pQ33+fpJfz7PmD7t7/56MqaBq+olyF4tlG41NUZCPePw1dmN2PaWVTg0XAgFFpaine1yRMIvgU1LAZl/UG/Ex9I5WU9TdVPyjO3fg2qQosKYTM0jsFWlzZWsvmiHf48pJP39dfP+dzM19ZnlD41BIUf/fAHJ4/++Ec//MGRo5otZzaF1j4zFbmcz4kPQPI85baFXA33sWyYg4HXlt/KWHZbcWUaesFwLNQXl0KRz5HKQv+EkD7FKXZfUr98SRQT6jhrG2vbdzYZ9COQUQJjw2YkniXKhsot1PDPihqPZfi5f6I9EAq9HmxqONUcDvXQlbItxbrmpldPdr/S0IpDR3u0J+g4l279WhgnKCkIsj/M+0o3Z6CbX1lLEihBmiA1HFLnXRW8QFuKOJHhyp78w7eWFyVQYxjqUwnZTeXaVP/Jb2Uo5hSK42yZJCiaEinE1itrN2b7Kj9/rVhUMcs6KlsRBYhUNfWp+/j3fYtOHqLD4CnQ8pGjKquDogHVXW1NBEtESLjkqbyDgOcpt2108TR5fsJYntnxgsWbSvvBzLATJNhipnBI8doDQTQ/h2MhuieipZjsWrQ0Y+4KL4G5mUePH5W3K4C1crlM/g/9lzolPjee5Fh4wFp1M6iJahW8BKb/Nk+rogEl5G72DIz8hlPNyAwd7+gdija83PRGV1sTIqLN9ccifolJ4/torRystwd4qtZvpryjsYYra8lJt5NCQCqvukZxeQ6xWrjIDEwQv1S5n/nl+uVk+oM5wDYbrCgXxggTElkm270818Vg4C8y7XSOC6V/IQ8FUqGoX9L3SUan1AWKRQ9PdbUd+Pfh5Pqc46knT8RLqEVSdIFYtD/64Q8wzYXfSwbA9b2SjU4l+6W4Ev8ZNjNQPRmYJzYVCilbnAI1p/Kyk7Hu7aAqpmrICsG5XA4SAvqAmvosXxM5oCgDIRp/kxfTys3NJA1zEVgrAfyVXhmVvkTpQ0u/CrhSbqAO+1rXcSRGXmlobQ8EKdTCgdBCnRlb/cO66vQF+crQoWbt/fY33lhfsSix4ytrIv1cWxllwdOlgX9AqQvSObFegkXG3ZLgNel2KlbGIpCQGOPFq4l+NDKQkAQ0uWGkdyW6vVGgIqH+j1mN3GazBRunqjzP7+YlcOHZmg5BaDF9DeuM3Ymu3/l5AWnAFFVJ+CmpvOO4hsRkSuagqtLNmUTpQ/SqoaEzdM4GRRM3nhRDbLW8isujrNUr2pGqeEpTsuCp9coa4qqVcqW0UQBHMKOAzryEdw03CroAqRxeHTfGVCZEGhDoe3lIKmv+oB+Hpc3wQGufZobsltVwqvnlpjfaA8GIE/imCvBy0xvhUA/VU/HmtzJiVBrkyFZZzfvMCZtBn+JsfirZn01L3fVKVvrcgG0qJp++o/RN6t2jYYThsYPeKitbhMeQTiey6XG4M/L+NW3Bmc1zVC64LstzXaR+DMRDrfJUypSeSD3dG7My0epb+egvgk7eQb+PhUqc+tEPfwCkIk7BOxn/yZFJtxPUkMv5xt5r7Z9oV30z2mpliOxQMYouqbzqqmIjm2RwKuHgmuVzJLKG0UP/hMQdfTGN0Mfi6tKyaONZyS2olJ4V4wF4pVJReZWGYHJBru62HlrbyNty49KVLl+by8/SH0coBvoVzBviFCwtNCZb+xqJU7F4QgC/vMqUK0ki0y1XslHKwaWbMzgbQtzX/OBsH3p4W8uLOHrl2t7y+IATb1u3BD7A+JIEyl9ueuPEQKNbcChyseT4msMlxJtaq9FEKASOaVBCxCENRLhK6qDXy0/NIf/pHmadh/M+q8RUi6IthB7/yRGewGyktcziy4aWC3iK3h9YKbkgqhF9XzaoVF5/mM/xqbpkyApcbF0Mx4fDhx2b4mLzY/VrfzA3AwlYClBmv2ITQ7iKfh/sc1aD1UcHWBWziaWleHFlOpcTgDczhu1c+NY+1eDQ/HulQZKkdnGwFOAWI4m9trGGdo14dEYkH2h9tbxgTxh48vCrh8XlObidXDwPbEfrZKO2PMdgM7Uq9h/pJu9pAhluC6QqghqKJTOb50obBSSWxFY3SwpB22x6fLW8qt5wb5Ox+ZKXshktlFAskAr5BLs4bL/vReGjw0v4RmKMwEScYsWSBNDChmDFUD3fzJ6BN1v7Gok43NZHW0OuDy2XqVQknU6wOKeS/UyeBtwIrpROfIAttnuwjU6Oku6qMw37Fv0fFbCirS3hCA0yFmppQ6gqn1WnD38tL2CdFgjA0k2ZV7lc2iigGAOIQwGJBcmahM/sCeG6ncOxUPdgW74kh2fqG9bNBD7g7eX3GQ+UOIdh6qMsgrcFUQxSsbbq3ibt6MZkQIpJs33EnUJxPLkuK88TA439E5pRQWqdSi7BTjzkZD0y0AQ1OtGi/iRaUG7YWl4U2Dfhyd7apXgASsxoRM183+5u5eev2SI6l9le8h/98AfIoZAiQaKjy8sMmtHDbyfbfzunWgmldNq6FkITvNim2Cvaoz3DsRC1FSYV0M2YSjhXb1+aSmgAfWkpjtGxZfegO8z8p/op28JTTN5Ya5B8SdxL2ihAa9Q4WRx2z2TWgXye2UMWBALYrzS0Hu/obY/24H6Oi1R7tIdZYjxFcjmfFpbxDkChlVBVHfR54NXRHz1C9UX781Ife9SVbFR+RLN9C+ck9a2dzWw+NH0uDzUs3tTnICnYomBU/0S7z5H1gONqq2eklk2sUBwX+SshF2tUw5TzMhgYrcP7l8awLVfBVGBx2Dq68RmVYNZ/KSXzv+Vglj9lqxOsWIunSA6sixJeDz0Db3a1NYmv4ATwcbBi2fpg4wPvjpxV3Ekpo+EfBqJ4N0ScAAu1Ptra2tfIsB49HztLjyatP+j3pvlcSVnRj1/bWFvbWMNYxN6XVHlvE8IJBBfo7+kP5nw/oTcAAB8ESURBVNyCSIKvnlRcsMXyI0dfooQfCIVawoqGNKw1DbqkxhFRg6YhrT20eRdvSst0vnSRFK90cwZsfnlIdk0oILN45l0RIDA3/cz4B8OHmndbzs50CAe4LfmMVu/V8kJ5J47cKBN1VEKa64/JMupXo8n1fuz1yjtx1GYY5pchwK1fq6xeXkWeqEZ/qjob+2ycsvwpe5lrr7pVvKTlh3Q6TfFJt5NNqT3aA4r2x3/G1pTKy0RIbT5TTotnpZ9PDn9iQBsa81AMUin/N4xekkHIChZC2xALPNnf3y9tSIqMWnv6gzlKdPBWkgtJ2+PjzvXeJluzLBYL7FfCzGbHQ0CGsRsIWdJEDso1B7x9YsDD1UMzY7B7PcPbRAtTC7Bvyztx2HRXb18CT/G1R89z+86mXQTzbsun78SWrkpKEd9ANjENEibrqWiKRzPXhUpZfKmPRnt9tJW/Gqli+FPYo0p7z+x7y3NdnA9Vf5SzANvAbPjr7GPM99XWp8isn/9QZfUSbIGCFUvVgiDFurXEhaFoA62h7sG2qWT/pNvpD0pzigU8FNWMZzjk7Z0IVA3HQjDL/UE/gUlC/m6nFGiD/ogjxnkgFLIrGQ4gixxbAMd1HFcu35gSa/kV11dL+n6yvzruFPwYhvXuZs+sXxbhmarry01v2IIU5uYvN73x6sluQlVdswxyCCtIetjKxl60bjvjEl8oxcLTHnuvVeWnuS6ghqpOxt2+vKMM49rKKNDpxmyfBWKYthaK4xcGZaHwds7PAWHMb2dcf9CvdGEtqZ21vJDfyqCe4o//LL+VWdu5gGIditssyL1oHVumetO/3ylvV+Al1MzNPDPf9+e7tyyY+tEPf8D9Q3HKOvOM/+TI2HutuGYNRRta+8RcRxndSg+Dop34AH5nqFA78QGauycGGk8MNMrK0TxCscAf9OtBsRA8DjrZPlN+NfwpuQw8MLwEyoqBUAgWgtrwprClGvxsHv5BLa4m6+Ybu15ZSy7IQmJoZgwAT8n85aY3jhx96ZUGzYsGHaclrOpDxNHS9Af9kxfT65U1r28YrdNcaKIFYU8FqduXqDXmtzI27zP+fY//+ve/lW7OAIs2Tx+jRLW0pJcwAQ8z/npvEzCbYQji1PJclwg+6/2vdR0/BLZlszrXxZ62l6w/P98dX+rLZLvnXdlSgNpA2nvROs3TmwkbZakGcl/b3ra6Lvj3vSh46smTJxF/I3sqC9XeUrhgDdtbUgR4Nuh/0P7rn1C+L+tjU3hSZT3oB+NHHF33iBNoONXccKrZiQ/0TwS6B9u0yM02xgth1QzHJIFgh+dTebFqKLSz5peW4um0qg24bQOmLm2spNOJ+sHA8Y7e+kFN8103TM5rK6Ob4YFJt7M23bNBivqDKO+hUMCNHO/ovTAo1yL+KVoZn2DdGorydsalOLB09QwEZrbApatnyAaYy0OvzW6TLCop6pnGH5LZgNOx91o/+OlLSKdfT2jHhYsvjZqcD3EIXBSYY6EGv345iVYlEiYSAlgTeYgBj2vb2/6gH8pxtY7uSTY+lffV4ilbR6cqaac94YJCXMCTBgXF7kH1d0OuD0jFJQdFm83EYc5GKNp1uPBMI9MscOIDwFoavXqJEXtBpgqjmmoaZcZQjF7CyKR8PoA8jK0b7YiCcPVGuTzzy7KBlBKZK65bXi+TnLeX36dznFxI1kdbX2mQK+rrwSab/9PihSNTP6jFiggMrTp4LlDvliPDGIh+VhyBd0NLmzhl+n0Sonn06AFyo6VtYWaWy5Ws5PFpngKCANt7yXpEFO3m9ouMBmhtKWFt58LW8iJ5IjUCQuQrDUpGIC5eWxnFHsqCbU+Cwzh/rF4vyy+nsvvNx/s0H/2F8e8Lh3psnAJS0eazSMo2hVjPoCoatTBOJt3OkOsLh1RQBy6ZWWURRMIhOXITp6Q9GwjiyMAtaxvptIAbGZmUyRv7K9kffu7cUooF+GMMUSxqlVJfd9wpCgtUmrJp9fU11mt4khQcaOYAo9ib2UFZ//WDgXCoB801vsVcaAINhQVQv9xMTQijWUSJwA5jWdbO3azCGVIcxZVpKhIsRZhcVKvp3sCQyqbHF87FMWd9Pdj0ds6/nXH5OiAEppP547+yGUNbRcj49vL7mC2Xtys1OnnfkfdVyhW7C3Gx7e7ERmTRVq7tLYuiCVIoaYCi7aZErcruSHg6SlAh1FPX3NQe7ekebLObks/xNZxqJg3ECdmrUpmmyXzpYrFYODQ38/Crh8whD8dCrBJZKxdVRJQUXeFSqbRB2CptFBx3Chl1Jvj2onXMEqfTib74yPGOXuIUvV64c7Ul8+MdvWPvtdq2he2wMt9AQKEYNO+2LF09g6agOLV/umfzvkf7+yRlgG0aLpjNIZgD2L6SjaKKx5jO0tUzS1fPsImNLp62TQykRAOhUD4jmYdCcRy8jaY1LDZkLc7Pd9uqKhwxw/RRWX319zvbdzYDbuRZ/anH0kd/rv/7RnI+HOqxGZ/dWf9BkGKFM0zDegBSEXpAUt2DbREn8O7I2YijLz9NHnbWumZxl1SfMrQGalvkhnYsDEgFxwpxWm/CxsB2acIYzRNp0RVKjAeqLRMIHu/oPd7R64sp5MEMuJKNjkyOvNKgTZQ4xZrEUJ4aBSiMcbF3R84uz3VhDkA14MqaSDBsoqB+puspYmoZmzafApmRYwRJ0Rz0UshES+nmDJOD+YzKnYiOeO5zprxA58e2qkcmPfMeCYRW0sirLc91SWfl5gx+oPOuqaYbSy5Jre/eh60Onqprbrp/3yNLHuZPVXY+sYHJdnbt7mTxFIuADJ+Vwe5E+wlUhWC5z/GBkMOhHliIdiNCf8oS2OibQJ6iKkmdmEu+tBSneVeTRunkH371UBuXEQlCs3hpKT6Xn/VcFc1+Zej5qq/7YsLGgkV+I0ZsMiCG+GpxtQVT9FMs4Zj9iiuHiDWdCxI09itkYWxYuTzUUHPCSlQf7T8gTlGiIjYxXG7XB3KuaKKzfSHgB4ztn2gf/8kRFgpgO5XXpFE2PX52pgPvjOLKNBmiCgqG8HJlLan5r9PHKAqw01K5xP/9oD61Ubn/4M/oT70QvATiFJDKNvtYlrVIyvav2V8RgCQbuDDY2D3YFg71kA30T7QTp7JpSaxoGMVEKxgq3YNt/BbqEHFKRu3xAYrrXhJgah2EKuxybZVT2sTxATZRGZcGgu2BYM8Z6XywPsnjUIicLSiZshifgPV6sMlxp+JGOxRXLjwEY3HZKfGPNVNcmY4v9eVyvqWlOCUqAhMdN/CUrYLbUlRp20EuytL0pKT2xd6tex+T5UkSK+cjG7C88+uJltnRMEIOV7Iy4oVO5fGt1pIsZlRVgVfXVkZZkNJ0X17cvrO59bt7tXV0w/N8cNhvplKu2K3J3qFQZTcoG60sisY5eSjaYBN+sn1yOjqX5PBsTSpXpSLhkCSoWBzUBaqrRGwUtguvK5xwWAfMc8JHr9bRH0yZ38J/G5kcgVNKzkV7C2jN5M3rwabjHb0UO8nDN08fmx0NUyA/hKuPd/RCWoGR0BKO+IMqHFppUFU957p++5uPMGskVKF4Twhbnuu6/293DTG1Ot9n4tT13iZqBBQOridaADu6NV1bwJoF2zYlnHdbuBBe9WFWHBaNZRlVeBiAHc5b5ICM2uKmuV5Zg+WIJQmEe4lYGR7/te1tx3Vs3ud1VF8QnTyLp1iZdqNlAdsMwMYp6/Vg55Pp/dHUsyGJoMP+SkHKH/Q3nGr2B/00AUkdplKRSbdTcMnxCdGnBIU8ExpDuJFqQlT6U+Cdb3ArdD9cZOBntgeC4f5x9ZTNHV9MJVHmYROlDx1XSmqvnuxm0v7Vk93HO3oRYvfFIj1nRtmAW8LqJ9o4pTuzedGAM7K9ujAolhN6kBRGQUNUSK/eviQlNWNzTzjbi9Z5s3uzfVfLC6t/WL9172NWOEDMGg5aVLXlxkcmR6yQXnFlmlldNDUPVFUNb4v+DyCOXR8Bta3f3bN4ys73HcZT5XKZEiNZno1Edl+yd2wUg7NuUTSMqqFogz8oGWJ/0M/+Q0GK3Yl6eWtfY1dn4LWu4w2nmnGBhynqc3wsEam+LPW5BSX8VCKTC8kaePLo8RPpukwlpKmgXcWwsfDRwtBRVqBFwahAKMQkAc1dKHnpD6T9hGBDLYYi+7OC/DDobAlMk1zJflyXryda2DRmC7ErayIl3M1KHdgTsTOTohWDXb361BPVpzQG5aq0KY3XlWnx6Exrj2qUenzVYS6puJrmC0UriuWeqp/pAFqm6JVsVHUBo1Aofy0Do1gfLAhlf9ko+pZ6u6roaGVXTpCrv9+hPgUvgcD6gvjNfG3rU4QkmwfYgEX8sgUN7B5YwHb6b3Y0PJXsR44u4m/sP681+e7IWQP/20FYrX2NNHm6B9tmR8PabpP9Y++1stfaMtbIpCZpQq64gR7HpWoIQPmV1BKvB8cVnuo5M3rCNyzA3j/ec2bUkK0O3LRATNxCOrewqz0Q9MUioYlp8RIGA6GJaWu9pThlBjmkhryVaQmL+TXpdtJUQVovk+2moKlZ1C/2tu9sLpZHcjkf1HPqA6w9GUploryKxzkOxSmaM9dWRhFU+PSdWCbbjXIOPbRsejyfke3zlbVkqtSjY/Y2Ee/Y9dEFvd7btLW8WDPfp/rUo/1n+OjUp2xVkjhlQ5INUrXxi1ll7LPmXQE/oWLDkKQzAtlHcoijYfJ8cFP3YFvDqWauPdl+yFWE4re2UVhLWJ/Lz1br6B4ffX9/f/JimsP64z8DWhPXNIJQXHdchxXQc2aU/N/2R6yrWnIh2R7tsfk/GNsXi4CrKQGwwvriMp0vZhPYN1BBKBTHZbdbHF/bucBexAUAGRFYD9WneAIFTivIR/dXdS4Tp24vv7/7xd7uF3tMRZHoEWgIVQS7G2ON6H/emO1jKaDuBthevOkAtmk505AuFMdt9qd+4vb2dmXP4inrMwrh/7muTpmTA0+hlM3KtAuYUGUjlF3ALGmEaqmr4pUw6XbCSJh0O5nR7Z9op/Y09p5K7N2Dba19alL3TwT47hGqSPpsHXY4Jqk8qFV0ZsgtfLFIXbO8wTFzQyETmar2QPDdkbNIJIYmph13KrmQnLyYBitRJGElkx6e8A23B4KhiWniV8CNIH+ovTmbkAWDcTzOlwotYc3Z0CVsONUsXdA1z+6IFjOEpt/+5qPyTpzOci7nY4WMvdfKmBEFJtj8MLwsqiJglbYdWBRaaUaidvGm5v6QIZW4lTGqmS3EqFgtXT0j+fLyiIV1LPvfrXz0ctMbno/Dv9399jnkSrnyLJ6yV90i59oLj4IC+5JVUyCln0r2mwRQ2f6k2ylrP+NeTQ4Ix58IRR8QIF2NbmqyMD8lvQTT+KvFU9YXCx65UrMqByoWT8SzsUsbK2sba6jotQeCgVDohG+44VSzhpxdISz4R4nSh/FsDNAEtKagDopmEXAQwHYtrqa1XFyZZhbP5/gs4YA5QdWntCXIx4FElTp6PhO9ko3euvfx9p3NW/c+lraGsWmgG01OJzVhA7ZhltcuCxYK5JflyHAq71iwfSUbZaDM60AbwFhcmcZ0iw6jZkSr09QoVZU3JDnC4qiUpfD1Aumjz46G232v28Vpx1EJUvxYu2KJZaxzm/qRFKP5Cfskmx7PpscJPTQEyQxODKiYJec+QwFFKE4KFsbH1JKtRMgyDBtmhvH9hvhiK1mYlWqy1UQcozU25biyLMXSJhZPwON7paGVIEWhnVDVHggOh88Ph8+zlQpMZQvEqYVzYj/Ek/JAaQlHjhx9iZoGdOVU3rl172OoMEQZeJ4aIzO4iUkJ2OS5nE/eyMVxuAX0c1iiQC2OkMl2y2HQECRLN2dK29JEwYXs6u1L4uJU0oVKem3nAqTlpatnwG7jPzkCTEOtZLe8SpxCf+of1aconNutiTjFrV0NtVUqLjmhCkEyBP0m3U6y/bH3Wrk2kulR90SRy6aESviNuCJxitDWP3HQZyGhE63uYvqpvE9+yPsYFrEa6gcDJwYEzlGtypfU44Ot2x4IdnUGWsKRcP84+X8snkBsiDKnNK2jPawAr4ESCA7HxPS1kDvoSJRn4VycaLV+OalpvpLEZFJ5BxkgWAIqNBrvdU7Y6qM/2n+AzB7669L23Lu2PNeVyXbzQrYXlPBo4YGeEBS1q8rWp9DP88brDbJTWT0by6alXpLPyF+T4yxdPQNfxhYv2TwZqanFU5bx/0LoeSqa+KUsjFaa3WiPHH3J8mlqUz+bDaCwZsvqHIQtlg4g0YewxaxFyPUxasP+Gg71TKUithpIXKOYRflV8WWgEUgF/arhVDPYCnW9oZkx5u2Z95ovXXTcKTgNyYVkLC5SFQUp2w1sONX86sluu6rJ+4KOE5qYlpa0WZ8L5+LTTopQ1RKO1JIBA67sCMBQ5Z04u2Dl569RDmeUHSfRvWid5RxcHmrw6lamLiEquenJWGafuDLGSHi2EJPwv4lKnnzTzRmm5QuVdH4ro3JEJc3GuXjTYU6I283Tx377m4+OHH2pquuC/tQzed/2nU2Ln7mcbEpc+9pQdYg4d/Loj9m4GKahSoWI11C0gcx/KtnPIjg70yHpVUMNheoZcYSiiVbK+EzHV1uT64Rc33BMNN/6aOshPc8nj5882H+A0DDX3h/0UyZHbWMqIZ6642rmoKszAKh23Cm0nOinQJCzlDkbp9i4HHfK4mpTsUoVi4ViNpFOy8wmnZZq++TF9ImBxrrmJqgM/qA/l/N9VpTP9fplW1A78Bkt78RJEqGtk5dZTmbl568hRa8kuhCLL/VRUwBDsSxo6CLqun5ZIVJDM1VqQsj1/SLTrknmQsxugxq5un0JN0ALtol6m6ePbS0vWnJdVdfFG5x+7idnnmgL9Eu0E+1z1qoNUkeOvmTBVG3VFZs/tlWrWcSKZX8l9eO+vLsNx+rsTAcjn0ySs57ZBli94ZCoNhZ5EafoJhOhKHQyQ8rIPb6BxCmNZBhPGpii7KA9Z0YpYNHsO97R23Cq2TKn2HSPd/SSLaJ1B4lpOHyeMGcFqtqjPVMJVSq9ooGxKUI7ZPP0MWC+JdxUfv4aPeIbs7KSBmSxXzJdt3la9i7n51WKIo4zXV9cmT4/353Ka9hLwiGmcI4XGZy+mc1zuZwv4hcz/MZsX6rUQ/dQg43L7588+uMDnTxvDlnW3Ac8z93dXeri3NYGKe6T2FswRbSyeKrd97pVzmd3ouTEJc+mYc21W5x1YqCR3al7sI2q5FQqgpMig82ENvDRiYFG4hRplBmXk+4wcep4Ry/TDCcGGskWISsgvEcdHQMoGKe2OEX+j8wYxcjjHb1Uo074humnUAUIOk76gzk47rOj4XhSuv3pD+YCbuSVhlagNbjaF4sUKulb9z6+de9jm/dRlv7r3/92e/l9AgT7VS3Ypls8FG2IL/VpwymPYDJuwTaldC7q9UTLLzLtAPX4kry/vH3MeNhIrs/saRSquH9tZXTp6hm32EulhthHnLLFy/JG5SBRfQF827+OJ5NdbU3AeW6BD9YVmTqULbPaslTtS5rrj9U16yD/idtnX2KhU1ebyFa1/3ikq9Njt3OHW/qJPAEhY8SyG04184S65qa6Zo3pDMdC4f5xjZcZTgN3AiFptKOm7bgS/+VVbL0Np5pFdwhJinJ2NAxxjGzX68wY42WQOOGGx3GKOz/fDa7ktfA5gJMIQmAXFs/GsN2lRCUJAON4gl57aaOAqxsFMtEMlzTrhzMAVMHK3rX2QBB5v4Ni9KH5vj/fvUWNCYnhnoE37dW1bZRDu5ONXEQo5v6g+TInJcN3JwCErqHGqYfSf76ZCXWyegmkmEZVoehhq4gjjgIZoj5oN1Kp6qMzfSZ9dNNMAV03nGpmB4MirNEnI75hzSCZlqJtDBTCPQ0Fn/ZAkGbfqye76aSc8A0zN8P2FU/nvbxvNq8gZeKUL+bhaukomhaPNFu3MrfufSyJYc/Hwfr3PZK3h6H5UjicSvbncl5hy3biCGS5tregDluyAtVNq5WhXp4RD/I+t2pgQlgWdF2opGc2zwG2uV+opG+MaT7LSm6tX04exCnjN6PCv8dLeN4r6U+ePGEi/fPPvzCuhZVKubK7u1veruxu70qzbHt3d1sOrNuVPd3f1X1+JVpGZU/SZmUJNNe+qlLWr3iaDmgOdejIem31V3qCeQnvaG8rZemmcWsPgpjas7/ynrB733v+rs7fexp/iPm7ah+0v+Xc7PtWD2VU26on771v9VA859mz8j6Hmvc6OJr5c/hk5FpiVOH0ppyqOVvvvnmmXmguhz2CvfMtf8XOJ/xWF8l8czxRzENx6s7dLYxFQUY23Tty9CULpG0+aENY7cyU3aOA4j0Db4ZDPeipA4n5kWFAUr/uwTYiWlebBJ7RhKXtgvJGa18jSnXSRzdVXqxyHj/2fBz4LXN5JJJsTewhsHvtHAPqsaIXpNQ2hsDS1RkgSCGNQLndMjzhCvecGXXcKYurF86JLVJLEFV0M7q0cDixV2NPOOAl7O8zN4ObPLXwfCZKIYD5TGpbN8Ya6eDWThFT8xp7r/X8fDdmmSFXupSQD7B7unr7EhRkxN5mNs+l8pqPXyyPLF09MxRt+EZL+25WBHdwGbY6zfXHnuGja9Dn+dfztHHqy798+fnnX5i+BYtcK93eMwv/0I357dOPGcdF76Hq/erT7M/VB8xX6eD11d8fPOKdgEB19WTMKdlncsf+iOFj7eurb3HwlhzLPsce+eAg9nfe+x78XL13cLTqGXpWk9UnHJxIzduZv+HgDzl4jn2VOVsO7r3FM2flPW5eYo5V80DNe5GH3N/ff/Dwq4eHeZ6ff/7FVCpC8dtm2h5SNQi2q1Nk7q62Jnsb8XueFvwKUgLsXknohnp6zoyGQz3chzXnxSDzeCAU4kf6I9wPh2RpzasAqzySTif42u/vG5mUx0/29/eRRsCYiNtASDM0di50OKYpTX6ESwX6RYWDl4Ci4S5o+tSQfalk0X8xxakpx01RqqRERZ1LxzcIPBZPwLqiY71wTu5+XDnDS1CO/fCrh1g5bmdcmLsSXDeZmnjqkWFukctAwjWbVqN3M6xghIkbhqw0AXC6Zw4DsC2z7MsymEPYW4o3RkEUzcblyLDAeWWNB5Ha2Cpfc1ynrrnJcR3pTx3w0V+YOPX40aP9/X1C1eeff/H5n+7p9lvvfNeDPL/2t7X3nz1g7W//g6+tfYk9oImth8/WHrD2JfbBmtd+y19a+5LaZ/7HX84za19r79s7te/yj49sf3voJbWHevYdTdPZM5Q7hKeeGObkl3/58r7xbqrsfFLekOeyBnqN+fLBjxtlPVj9t1pe1dPK5dXr3vN5FXKrGgku68neoap3GBX2BoY5VM3T7BEOXlgu37/vtQDkMqAvvkKVOeH7ng/wM0ewp1R7DpztwSNP/3UHb/1tf9GhP3P1+sGf5h3W/IHc362esKlPaWN4+NVDTljwuFypfa9yuYyOmv2T+ei2ytcO3kUnXfb+WMMmxzSwsvOJUoCdTzw4zY9kDbUP2vsgdrIS49rEVbaf8IuS93399ddAqsePHj386uHDrx7uf/d/CmbV/+x9c+dB9eF/9H/7kmee9J0vf/ol3/o0PVj7tO8+n299+TPnYh6oPaB5wL6Ld5D/xLs8c0z71vbgTz1S/cGedu3TBJTsiVWfefD/R/v7D796+Ne//43yA9UHz8fBXO8nZmt6VIXQBpZ56M2DaFUsV0VsNb+t/soizupzPLj71I8e1jSPVY/x1BM8HGh+p/sG0yuHqlJUaZw/eqwPkC9/9QSqx7GvrcGmtfDyWaRaPSvvCDy55iV6/P/xLgdvqjP+/PMvDHaV7Bz/PTaMioNPWM8CCHPwp97avpn3F9j3Ns+tnox3CH5ZPZx9hXdA+8dWj3FwbPPR6nX379//8i9f1oDtF0Aqz/tUTaHqsZh1hl1nbD5w+6h50Ph/cGMf5elVZxC9pHpfd+3RePTRwREOfmleY4/H495RvOd7R0It++Cgjw4f3h7E+wVnUvOoPTi627zzwYO8TLd6f92a1z71jnrI/rZ6p/onHz6geWbNe3HImg/h4E2q723e8+lTMh+Gdzb2Hb1z42R4i8NvpJCky/tUnDI7k1eV3N9/cICia5Hb//z9Gnz4YP9BNekzp29WKGXUp2D///xJfsc7csIPv3poP25bT/muEya0eYnAdxz2v+O3vK85YW1ltijwvBfSzfk9eSJU9f1///99ArXLz8NTQGj7RaoCs/19RQd7a+88Beeqzzn02299jh7k+/Ctr6r+yh7KQ4NAQbOr6XLwB5gLo9j917//7ZkTtkd46jSeOT6//a96jn1TnfbjfxcT/dCsnDYNs01V85Sn3tr7aw8+8EO/ferH6t/y1IOHPtXqc+yJHXqyHuchzgfcYD/h2oXy/f3vP4F/4idwEKdqQ5X3dXpu/mdgo86GTYPPy24gnCaA97k5ZVQ8nxiBlIMEinO2J2n/LsgW9vF/4p3aT/ifuC6/f+vvP4HaT+CpOGVC1fOLoomktWdvY6uNWc/hnWdO+Pn9hEFS3+OpQ5fs+x//6Z/A/wUTqmbp61qqVgAAAABJRU5ErkJggg==)"
      ]
    },
    {
      "cell_type": "code",
      "execution_count": null,
      "metadata": {
        "id": "4cYdjWJV9OK7"
      },
      "outputs": [],
      "source": [
        "aoi = ee.Geometry.Rectangle(103.66, 12.39, 104.64, 13.28)\n",
        "lst8Col = ee.ImageCollection('LANDSAT/LC08/C02/T1_L2').filterDate('2021-10-01', '2023-12-31').filterBounds(aoi)\n",
        "lst8Col = lst8Col.sort('CLOUD_COVER')\n",
        "\n",
        "# Number of images in the collection\n",
        "print(\"Before Mosaic: \",lst8Col.size().getInfo())\n",
        "\n",
        "lst8Col_mosaic = lst8Col.mosaic()\n",
        "\n",
        "# Select NIR Band Only\n",
        "lst8Col_mosaic_nir = lst8Col_mosaic.select('SR_B5')\n",
        "\n",
        "#Visualize the result\n",
        "Map = geemap.Map(center = [12.9674,104.0529], zoom = zoom,  width=width)\n",
        "vis_Para = {'min': 19900, 'max': 31241.7}\n",
        "Map.addLayer(lst8Col_mosaic_nir, vis_Para, name=\"LS8_Tonle_Sap\")\n",
        "Map"
      ]
    },
    {
      "cell_type": "markdown",
      "metadata": {
        "id": "lhY8aY9mAWk0"
      },
      "source": [
        "#### 2.4 Mapping over image collection\n",
        "Mapping can be used to perform a mathematical operation over all images in an ImageCollection. As example, if we want to calculate flood in all images of a ImageCollection, we can use mapping operation as below\n",
        "\n",
        "![image.png](data:image/png;base64,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)"
      ]
    },
    {
      "cell_type": "code",
      "execution_count": null,
      "metadata": {
        "id": "OJuFKTXIAW_H"
      },
      "outputs": [],
      "source": [
        "aoi = ee.Geometry.Rectangle(103.66, 12.39, 104.64, 13.28)\n",
        "lst8Col = ee.ImageCollection('LANDSAT/LC08/C02/T1_L2').filterDate('2018-09-01', '2018-10-31').filterBounds(aoi)\n",
        "lst8Col = lst8Col.sort('CLOUD_COVER')\n",
        "\n",
        "# Simple thresholding Algorithm\n",
        "def waterDetection(image):\n",
        "  return image.select('SR_B5').lt(10000)\n",
        "\n",
        "# Map over the function\n",
        "lst8Col_water = lst8Col.map(waterDetection)\n",
        "\n",
        "# Select NIR band\n",
        "lst8Col_water_1 = lst8Col_water.first().select('SR_B5')\n",
        "\n",
        "Map = geemap.Map(center = [12.9674,104.0529], width=width, zoom = 8)\n",
        "vis_Para = {'min': 0, 'max': 1}\n",
        "Map.addLayer(lst8Col_water_1, vis_Para, name=\"LS8_Tonle_Sap\")\n",
        "Map"
      ]
    },
    {
      "cell_type": "markdown",
      "metadata": {
        "id": "6r5J5NDYaIcd"
      },
      "source": [
        "\n",
        "---\n",
        "---\n",
        "---\n",
        "\n"
      ]
    },
    {
      "cell_type": "markdown",
      "metadata": {
        "id": "lDPkn0sm0qvQ"
      },
      "source": [
        "## 3. Mathematical Operations"
      ]
    },
    {
      "cell_type": "markdown",
      "metadata": {
        "id": "LsatHzJ7Fp54"
      },
      "source": [
        "Image math can be performed using operators like **add()** and **subtract()**, but for complex computations with more than a couple of terms, the **expression()** function provides a good alternative.\n",
        "\n",
        "Some commonly used mathematical operations on images are listed below:\n",
        "\n",
        "* *image1.add(image2)* -> Addition between 2 images or image with a constant\n",
        "* *image1.subtract(image2)* -> Subtraction between 2 images or image with a constant\n",
        "\n",
        "* *image1.divide(image2)* -> Division between 2 images or image with a constant\n",
        "\n",
        "*  *image1.multiply(image2)* -> Multiplication between 2 images or image with a constant\n",
        "\n",
        "* *image1.pow(image2)* -> Power between 2 images or image with a constant\n",
        "\n",
        "* *image1.lt(image2)* -> Less than operation between 2 images or image with a constant\n",
        "\n",
        "* *image1.lte(image2)* -> Less than or equal between 2 images or image with a constant\n",
        "\n",
        "* *image1.gt(image2)* -> Greater than between 2 images or image with a constant\n",
        "\n",
        "* *image1.gte(image2)* -> Greater than or equal between 2 images or image with a constant"
      ]
    },
    {
      "cell_type": "markdown",
      "metadata": {
        "id": "KQY6ccRsTLlj"
      },
      "source": [
        "#### 3.1 'gt' operation\n",
        "Classify DEM:"
      ]
    },
    {
      "cell_type": "markdown",
      "metadata": {
        "id": "GIJ441sVSUjR"
      },
      "source": [
        "We can use simple mathematical operations on images by simply calling common mathematical function provided by GEE API. Here let's use \"Greater Than\" operation to classify elevation data in to 2 classes (class 1: > 1000m, class 2: <=1000m)."
      ]
    },
    {
      "cell_type": "code",
      "execution_count": null,
      "metadata": {
        "id": "KwcKLf9w0tWj"
      },
      "outputs": [],
      "source": [
        "dem = ee.Image('CGIAR/SRTM90_V4')\n",
        "elevation = dem.select('elevation')\n",
        "\n",
        "elevationMask = elevation.gt(1000)"
      ]
    },
    {
      "cell_type": "markdown",
      "metadata": {
        "id": "WYi5KA5YSbcr"
      },
      "source": [
        "And then **visualize results**"
      ]
    },
    {
      "cell_type": "code",
      "execution_count": null,
      "metadata": {
        "id": "gblizdbO0w5y"
      },
      "outputs": [],
      "source": [
        "Map = geemap.Map(center = center, width=width, zoom = zoom)\n",
        "vis_Para = {'min': 0, 'max': 1, 'palette': ['brown', 'green']}\n",
        "Map.addLayer(elevationMask, vis_Para, name=\"DEM Mask\")\n",
        "Map"
      ]
    },
    {
      "cell_type": "markdown",
      "metadata": {
        "id": "af2xWF35UgBZ"
      },
      "source": [
        "#### 3.2 Using ***expression()*** function to write complex computations.\n",
        "\n",
        "Compute Band Arithmetic on Landsat8 image for Vegetation Indices: NDVI Calculation\n",
        "\n",
        "![image.png](data:image/png;base64,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)"
      ]
    },
    {
      "cell_type": "markdown",
      "metadata": {
        "id": "ZHDKCpp8Tk9v"
      },
      "source": [
        "Bands in Landsat 8: blueBand = 'SR_B2', greenBand = 'SR_B3', redBand = 'SR_B4', nirBand = 'SR_B5', swirBand = 'SR_B6'"
      ]
    },
    {
      "cell_type": "code",
      "execution_count": null,
      "metadata": {
        "id": "1kFvdrvlTlVo"
      },
      "outputs": [],
      "source": [
        "image = ee.ImageCollection(\"LANDSAT/LC08/C02/T1_L2\").filterBounds(aoi).filter(ee.Filter.lt('CLOUD_COVER', 10)).first()\n",
        "NDVI = image.expression(\n",
        "      '((nirBand - redBand) / (nirBand + redBand))',\n",
        "        {\n",
        "          'nirBand': image.select('SR_B5'),\n",
        "          'redBand': image.select('SR_B4'),\n",
        "        },\n",
        "      ).rename(\"NDVI\")\n"
      ]
    },
    {
      "cell_type": "code",
      "execution_count": null,
      "metadata": {
        "id": "rZ7wPaDJVMO-"
      },
      "outputs": [],
      "source": [
        "Map = geemap.Map(center = center, width=width, zoom = zoom)\n",
        "vis_Para = {'min': -1, 'max': 1, 'palette': 'Greens'}\n",
        "Map.addLayer(NDVI, vis_Para, name=\"NDVI Map\")\n",
        "Map"
      ]
    },
    {
      "cell_type": "markdown",
      "metadata": {
        "id": "8fsVA7D7Y57_"
      },
      "source": [
        "#### Exercise 4\n",
        "Apply **threshold on NDVI image** to separate different classes and visualize it.\n",
        "\n",
        "Use the given range for classification\n",
        "\n",
        "![image.png](data:image/png;base64,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)"
      ]
    },
    {
      "cell_type": "markdown",
      "metadata": {
        "id": "RwZeQRthNbZ2"
      },
      "source": [
        "HINT:\n",
        "\n",
        "```\n",
        "classify_ndvi = NDVI \\\n",
        "      .where(NDVI.lte(<value>), 1) \\\n",
        "      .where(NDVI.gte(<value>).And(NDVI.lt(<value>)), 2) \\\n",
        "      .where(NDVI.gte(<value>), 3) \\\n",
        "\n",
        "\n",
        "Map = geemap.Map(center=center, zoom=zoom, width=width)\n",
        "\n",
        "# Add the NDVI classification layer with a custom palette\n",
        "Map.addLayer(\n",
        "    classify_ndvi,\n",
        "    {\n",
        "        'min': 1,\n",
        "        'max': 3,\n",
        "        'palette': ['blue', 'green', 'red']\n",
        "    },\n",
        "    'NDVI Classification'\n",
        ")\n",
        "\n",
        "# Display the map\n",
        "Map\n",
        "```\n",
        "Replace the <value> field with appropriate value corresponding to above table"
      ]
    },
    {
      "cell_type": "code",
      "execution_count": null,
      "metadata": {
        "id": "zyZWPwWlY5S9"
      },
      "outputs": [],
      "source": [
        "# Write code here\n",
        "classify_ndvi = NDVI \\\n",
        "      .where(NDVI.lte(0), 1) \\\n",
        "      .where(NDVI.gte(0).And(NDVI.lt(0.2)), 2) \\\n",
        "      .where(NDVI.gte(0.2), 3) \\\n",
        "\n",
        "Map = geemap.Map(center=center, zoom=zoom, width=width)\n",
        "\n",
        "# Add the NDVI classification layer with a custom palette\n",
        "Map.addLayer(\n",
        "    classify_ndvi,\n",
        "    {\n",
        "        'min': 1,\n",
        "        'max': 3,\n",
        "        'palette': ['blue', 'green', 'red']\n",
        "    },\n",
        "    'NDVI Classification'\n",
        ")\n",
        "\n",
        "# Display the map\n",
        "Map"
      ]
    },
    {
      "cell_type": "markdown",
      "metadata": {
        "id": "-_1fSVccZLUK"
      },
      "source": [
        "#### Exercise 5\n",
        "Similarly try to calculate another advance vegetation index knows as Enhanced Vegetation Index (EVI) using below ,equation\n",
        "\n",
        "EVI = 2.5 x ((NIR - RED) / (NIR + 6 x RED - 7.5 x BLUE + 1))\n",
        "\n",
        "Use: **image.expression()** function\n",
        "\n",
        "NOTE: Bands in Landsat 8: blueBand = 'SR_B2', greenBand = 'SR_B3', redBand = 'SR_B4', nirBand = 'SR_B5', swirBand = 'SR_B6'"
      ]
    },
    {
      "cell_type": "code",
      "execution_count": null,
      "metadata": {
        "id": "tPuc-z20Y3vw"
      },
      "outputs": [],
      "source": [
        "# Write code here"
      ]
    },
    {
      "cell_type": "markdown",
      "metadata": {
        "id": "c7fIK4XYaKym"
      },
      "source": [
        "\n",
        "---\n",
        "---\n",
        "---\n",
        "\n"
      ]
    },
    {
      "cell_type": "markdown",
      "metadata": {
        "id": "JTyU9zyP0tuo"
      },
      "source": [
        "## 4. Export GEE Images"
      ]
    },
    {
      "cell_type": "markdown",
      "metadata": {
        "id": "U0YbIAffFrHT"
      },
      "source": [
        "There is mainly 2 ways that, we can export images from GEE, as below\n",
        "\n",
        "\n",
        "\n",
        "*   Export as Numpy array\n",
        "*   Export as GeoTiFF file"
      ]
    },
    {
      "cell_type": "markdown",
      "metadata": {
        "id": "isP66_iNG6Cf"
      },
      "source": [
        "#### 4.1 Export as Numpy Array"
      ]
    },
    {
      "cell_type": "code",
      "execution_count": null,
      "metadata": {
        "id": "nmH4Ailz0xjk"
      },
      "outputs": [],
      "source": [
        "dem = ee.Image('CGIAR/SRTM90_V4')\n",
        "\n",
        "# Define study area (AOI) around Noshaq as a rectangle\n",
        "aoi = ee.Geometry.Rectangle([71.796684,36.412165,71.855392,36.446971])\n",
        "\n",
        "# Get array by masking by AOI\n",
        "band_arrs = dem.sampleRectangle(region=aoi)"
      ]
    },
    {
      "cell_type": "markdown",
      "metadata": {
        "id": "gr4KJj58GlzM"
      },
      "source": [
        "Now we can use any python function for further analysis or visualize with Python library like matplotlib\n",
        "\n"
      ]
    },
    {
      "cell_type": "code",
      "execution_count": null,
      "metadata": {
        "id": "7UDxvr-502qk"
      },
      "outputs": [],
      "source": [
        "dem_noshaq = np.array( band_arrs.get('elevation').getInfo() )\n",
        "\n",
        "plt.imshow(dem_noshaq)\n",
        "plt.show()"
      ]
    },
    {
      "cell_type": "markdown",
      "metadata": {
        "id": "uqxoenIwG_zf"
      },
      "source": [
        "#### 4.2 Export as GeoTiff file"
      ]
    },
    {
      "cell_type": "markdown",
      "metadata": {
        "id": "2cYtIPWJHDVl"
      },
      "source": [
        "We can directly export GeoTIFF image with all coordinate / projection information into Google Drive."
      ]
    },
    {
      "cell_type": "code",
      "execution_count": null,
      "metadata": {
        "id": "3Mwr0M43G_el"
      },
      "outputs": [],
      "source": [
        "dem = ee.Image('CGIAR/SRTM90_V4')\n",
        "elevation = dem.select('elevation')\n",
        "\n",
        "task = ee.batch.Export.image(elevation, 'dem_afghanistan', {'region': aoi, 'scale': 30})\n",
        "task.start()"
      ]
    },
    {
      "cell_type": "markdown",
      "metadata": {
        "id": "jUVSLonIHTAu"
      },
      "source": [
        "After the export completes, we can download the exported GeoTiff file ready for GIS applications. It can be used with any GIS software like ArcGIS, QGIS, etc."
      ]
    },
    {
      "cell_type": "markdown",
      "metadata": {
        "id": "tYmcfkk7aMtg"
      },
      "source": [
        "\n",
        "---\n",
        "---\n",
        "---\n",
        "\n"
      ]
    },
    {
      "cell_type": "markdown",
      "metadata": {
        "id": "tQmkLIwK01nm"
      },
      "source": [
        "## 5.Vector data and charts"
      ]
    },
    {
      "cell_type": "markdown",
      "metadata": {
        "id": "MucQySw2C-3D"
      },
      "source": [
        "Here let's try to summarize population in different provinces of Afghanistan. Here we will use gridded population data available in GEE (https://developers.google.com/earth-engine/datasets/catalog/CIESIN_GPWv411_GPW_UNWPP-Adjusted_Population_Count) and administrative boundary vector data (https://developers.google.com/earth-engine/datasets/catalog/FAO_GAUL_2015_level2) from GEE.\n",
        "\n",
        "First let's try to load and visualize gridded population data."
      ]
    },
    {
      "cell_type": "code",
      "execution_count": null,
      "metadata": {
        "id": "tfDH8wO19wu8"
      },
      "outputs": [],
      "source": [
        "dataset = ee.ImageCollection(\"CIESIN/GPWv411/GPW_UNWPP-Adjusted_Population_Count\")\n",
        "population = dataset.first().select('unwpp-adjusted_population_count')\n",
        "\n",
        "display(dataset)\n",
        "display(population)"
      ]
    },
    {
      "cell_type": "markdown",
      "metadata": {
        "id": "s-BMLbEWDOMF"
      },
      "source": [
        "Load Administrative dataset and filter features in Afghanistan"
      ]
    },
    {
      "cell_type": "code",
      "execution_count": null,
      "metadata": {
        "id": "-1_xamBxDA3a"
      },
      "outputs": [],
      "source": [
        "admin_l1 = ee.FeatureCollection(\"FAO/GAUL/2015/level1\")\n",
        "\n",
        "# Apply filter by country name\n",
        "admin_Af = admin_l1.filter(ee.Filter.eq('ADM0_NAME', 'Afghanistan'))"
      ]
    },
    {
      "cell_type": "code",
      "execution_count": null,
      "metadata": {
        "id": "Z8aksHDmQsor"
      },
      "outputs": [],
      "source": [
        "admin_Af"
      ]
    },
    {
      "cell_type": "code",
      "execution_count": null,
      "metadata": {
        "id": "3hi7MAl5FBQy"
      },
      "outputs": [],
      "source": [
        "# Visualize gridded population raster, and admin dataset\n",
        "\n",
        "Map = geemap.Map(center = center, zoom = 5,  width=width)\n",
        "vis_Para = {'min': 0, 'max': 500, 'palette': ['brown', 'green']}\n",
        "Map.addLayer(population, vis_Para, name=\"Population\")\n",
        "Map.addLayer(admin_Af, name=\"FAO GAUL - Afghanistan\")\n",
        "Map"
      ]
    },
    {
      "cell_type": "markdown",
      "metadata": {
        "id": "nb5fIT_pDmzu"
      },
      "source": [
        "*Note: You visualize vector layer as well using Map.addLayer(admin_th, {}, name=\"Afghanistan\")*\n",
        "\n",
        "\n",
        "Now let's try to calculate zonal statistics by summing the population in each admin unit. In GEE context this process is known as reducing regions, as shown in below figure.\n",
        "\n",
        "![image.png](data:image/png;base64,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)"
      ]
    },
    {
      "cell_type": "code",
      "execution_count": null,
      "metadata": {
        "id": "h2T_UCzHDlcV"
      },
      "outputs": [],
      "source": [
        "# Documentation\n",
        "# Image.reduceRegions(collection, reducer)\n",
        "# collection: Feature Collection, the features to reduce over\n",
        "# reducer: Reducer algorithm to apply\n",
        "\n",
        "popByProvince = population.reduceRegions(admin_Af, ee.Reducer.sum())"
      ]
    },
    {
      "cell_type": "code",
      "execution_count": null,
      "metadata": {
        "id": "PCbDSBOiQiB3"
      },
      "outputs": [],
      "source": [
        "popByProvince"
      ]
    },
    {
      "cell_type": "markdown",
      "metadata": {
        "id": "m0O5V-d4D2wA"
      },
      "source": [
        "Plot the population values in bar chart using matplotlib library:"
      ]
    },
    {
      "cell_type": "code",
      "execution_count": null,
      "metadata": {
        "id": "iuy2BKzDDSnT"
      },
      "outputs": [],
      "source": [
        "admin1_name = popByProvince.aggregate_array('ADM1_NAME').getInfo()\n",
        "pop_in_admin1 = popByProvince.aggregate_array('sum').getInfo()\n",
        "\n",
        "plt.figure(figsize=(20,10))\n",
        "plt.bar(admin1_name, pop_in_admin1)\n",
        "plt.xticks(admin1_name, rotation='vertical')\n",
        "plt.show()"
      ]
    },
    {
      "attachments": {
        "Screenshot_1.png": {
          "image/png": "[encoded data removed]"
        }
      },
      "cell_type": "markdown",
      "metadata": {},
      "source": [
        "![Screenshot_1.png](attachment:Screenshot_1.png)"
      ]
    },
    {
      "cell_type": "markdown",
      "metadata": {
        "id": "PkpJAn2dEBGi"
      },
      "source": [
        "Note: There is a dedicated GEE class for charts, call ui.Chart. But it is only available in the Earth Engine Code Editor (for Javascript)"
      ]
    },
    {
      "cell_type": "markdown",
      "metadata": {
        "id": "01k_XIjy9ljX"
      },
      "source": [
        "## Solutions"
      ]
    },
    {
      "cell_type": "markdown",
      "metadata": {
        "id": "iEUnuM_R9r6L"
      },
      "source": [
        "#### Exercise 1\n"
      ]
    },
    {
      "cell_type": "code",
      "execution_count": null,
      "metadata": {
        "id": "L-uYOE8w9oc4"
      },
      "outputs": [],
      "source": [
        "display(image.get('SPACECRAFT_ID'))"
      ]
    },
    {
      "cell_type": "markdown",
      "metadata": {
        "id": "SqoB2oFf9wsK"
      },
      "source": [
        "#### Exercise 2"
      ]
    },
    {
      "cell_type": "code",
      "execution_count": null,
      "metadata": {
        "id": "GD9qyr9u9u7M"
      },
      "outputs": [],
      "source": [
        "vis_param_L8 = {'min': 0, 'max': 30000, 'bands': ['SR_B5', 'SR_B4', 'SR_B3']} # for landsat raw image visualization\n",
        "\n",
        "Map = geemap.Map(center = center, zoom = zoom,  width=width)\n",
        "Map.addLayer(image, vis_param_L8, name=\"FCC - Landsat 8\")\n",
        "Map\n",
        "\n",
        "\n",
        "\n",
        "# NOTE: Healthy vegetation: Appears bright red.\n",
        "# Urban areas: Can appear gray or with different shades of gray.\n",
        "# Water bodies: Tend to be dark.\n",
        "# Barren or non-vegetated areas: Can vary in color, often appearing brown or gray.\n",
        "# Overall, this false-color composite is valuable for tasks such as\n",
        "# monitoring vegetation health, identifying land cover changes, and assessing environmental conditions.\n",
        "# Different combinations of bands can be used for specific purposes,\n",
        "# and interpretation may vary based on the specific context of the analysis or study area."
      ]
    },
    {
      "cell_type": "markdown",
      "metadata": {
        "id": "onD1lffaAt3V"
      },
      "source": [
        "#### Exercise 3"
      ]
    },
    {
      "cell_type": "code",
      "execution_count": null,
      "metadata": {
        "id": "sxkLeLmj970l"
      },
      "outputs": [],
      "source": [
        "L8_CloudFilter = L8Col_date.filter(ee.Filter.lt('CLOUD_COVER', 20))\n",
        "L8_CloudFilter.size().getInfo()"
      ]
    },
    {
      "cell_type": "markdown",
      "metadata": {
        "id": "vBEAr2mDNFu6"
      },
      "source": [
        "#### Exercise 4"
      ]
    },
    {
      "cell_type": "code",
      "execution_count": null,
      "metadata": {
        "id": "c9jYGtHRAvfd"
      },
      "outputs": [],
      "source": [
        "classify_ndvi = NDVI \\\n",
        "      .where(NDVI.lte(0), 1) \\\n",
        "      .where(NDVI.gte(0).And(NDVI.lt(0.2)), 2) \\\n",
        "      .where(NDVI.gte(0.2), 3) \\\n",
        "\n",
        "\n",
        "Map = geemap.Map(center=center, zoom=zoom, width=width)\n",
        "\n",
        "# Add the NDVI classification layer with a custom palette\n",
        "Map.addLayer(\n",
        "    classify_ndvi,\n",
        "    {\n",
        "        'min': 1,\n",
        "        'max': 3,\n",
        "        'palette': ['blue', 'green', 'red']\n",
        "    },\n",
        "    'NDVI Classification'\n",
        ")\n",
        "\n",
        "# Display the map\n",
        "Map"
      ]
    },
    {
      "cell_type": "markdown",
      "metadata": {
        "id": "eiFcQcq8Nzu4"
      },
      "source": [
        "#### Exercise 5"
      ]
    },
    {
      "cell_type": "code",
      "execution_count": null,
      "metadata": {
        "id": "If182oARN2-m"
      },
      "outputs": [],
      "source": [
        "image = ee.ImageCollection(\"LANDSAT/LC08/C02/T1_L2\").filterBounds(aoi).filter(ee.Filter.lt('CLOUD_COVER', 10)).first()\n",
        "EVI = image.expression(\n",
        "      '2.5 * ((nirBand - redBand) / (nirBand + 6 * redBand - 7.5 * blueBand + 1))',\n",
        "        {\n",
        "          'nirBand': image.select('SR_B5'),\n",
        "          'redBand': image.select('SR_B4'),\n",
        "          'blueBand': image.select('SR_B2'),\n",
        "        },\n",
        "      ).rename(\"EVI\")\n",
        "\n",
        "Map = geemap.Map(center = center, width=width, zoom = zoom)\n",
        "vis_Para = {'min': -1, 'max': 1, 'palette': 'Greens'}\n",
        "Map.addLayer(EVI, vis_Para, name=\"EVI Map\")\n",
        "Map"
      ]
    },
    {
      "cell_type": "code",
      "execution_count": null,
      "metadata": {
        "id": "RbPq_lrmSM0m"
      },
      "outputs": [],
      "source": []
    }
  ],
  "metadata": {
    "colab": {
      "collapsed_sections": [
        "8fsVA7D7Y57_"
      ],
      "provenance": []
    },
    "kernelspec": {
      "display_name": "Python 3",
      "name": "python3"
    },
    "language_info": {
      "name": "python"
    }
  },
  "nbformat": 4,
  "nbformat_minor": 0
}
